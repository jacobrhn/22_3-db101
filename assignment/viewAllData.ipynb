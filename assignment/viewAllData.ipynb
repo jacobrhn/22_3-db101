{
    "metadata": {
        "kernelspec": {
            "name": "SQL",
            "display_name": "SQL",
            "language": "sql"
        },
        "language_info": {
            "name": "sql",
            "version": ""
        }
    },
    "nbformat_minor": 2,
    "nbformat": 4,
    "cells": [
        {
            "cell_type": "code",
            "source": [
                "use Technik_Center_DB\r\n",
                "Select * from CONFIG\r\n",
                "GO\r\n",
                "\r\n",
                "SELECT * FROM ETAGE\r\n",
                "GO\r\n",
                "\r\n",
                "SELECT* FROM ERFASSER\r\n",
                "GO\r\n",
                "\r\n",
                "SELECT * FROM FEHLERKATEGORIE\r\n",
                "GO\r\n",
                "\r\n",
                "SELECT * FROM OBJEKT\r\n",
                "GO\r\n",
                "\r\n",
                "SELECT * FROM PERSONALBEREICH\r\n",
                "GO\r\n",
                "\r\n",
                "SELECT * FROM PERSONALBEREICH_ERFASSER\r\n",
                "GO\r\n",
                "\r\n",
                "SELECT * FROM TEXT\r\n",
                "GO\r\n",
                "\r\n",
                "SELECT * FROM ZIMMER\r\n",
                "GO"
            ],
            "metadata": {
                "azdata_cell_guid": "300bbada-64a2-40a5-b199-19a5354557e8",
                "language": "sql",
                "tags": [
                    "hide_input"
                ]
            },
            "outputs": [
                {
                    "output_type": "display_data",
                    "data": {
                        "text/html": "(2 rows affected)"
                    },
                    "metadata": {}
                },
                {
                    "output_type": "display_data",
                    "data": {
                        "text/html": "(63 rows affected)"
                    },
                    "metadata": {}
                },
                {
                    "output_type": "display_data",
                    "data": {
                        "text/html": "(5 rows affected)"
                    },
                    "metadata": {}
                },
                {
                    "output_type": "display_data",
                    "data": {
                        "text/html": "(20 rows affected)"
                    },
                    "metadata": {}
                },
                {
                    "output_type": "display_data",
                    "data": {
                        "text/html": "(17 rows affected)"
                    },
                    "metadata": {}
                },
                {
                    "output_type": "display_data",
                    "data": {
                        "text/html": "(8 rows affected)"
                    },
                    "metadata": {}
                },
                {
                    "output_type": "display_data",
                    "data": {
                        "text/html": "(1 row affected)"
                    },
                    "metadata": {}
                },
                {
                    "output_type": "display_data",
                    "data": {
                        "text/html": "(2 rows affected)"
                    },
                    "metadata": {}
                },
                {
                    "output_type": "display_data",
                    "data": {
                        "text/html": "(962 rows affected)"
                    },
                    "metadata": {}
                },
                {
                    "output_type": "display_data",
                    "data": {
                        "text/html": "Total execution time: 00:00:00.111"
                    },
                    "metadata": {}
                },
                {
                    "output_type": "execute_result",
                    "metadata": {},
                    "execution_count": 7,
                    "data": {
                        "application/vnd.dataresource+json": {
                            "schema": {
                                "fields": [
                                    {
                                        "name": "ID"
                                    },
                                    {
                                        "name": "HausPflichtAktiv"
                                    }
                                ]
                            },
                            "data": [
                                {
                                    "ID": "1",
                                    "HausPflichtAktiv": "1"
                                },
                                {
                                    "ID": "2",
                                    "HausPflichtAktiv": "0"
                                }
                            ]
                        },
                        "text/html": [
                            "<table>",
                            "<tr><th>ID</th><th>HausPflichtAktiv</th></tr>",
                            "<tr><td>1</td><td>1</td></tr>",
                            "<tr><td>2</td><td>0</td></tr>",
                            "</table>"
                        ]
                    }
                },
                {
                    "output_type": "execute_result",
                    "metadata": {},
                    "execution_count": 7,
                    "data": {
                        "application/vnd.dataresource+json": {
                            "schema": {
                                "fields": [
                                    {
                                        "name": "EtagenID"
                                    },
                                    {
                                        "name": "ObjektID"
                                    },
                                    {
                                        "name": "EtagenName"
                                    }
                                ]
                            },
                            "data": [
                                {
                                    "EtagenID": "1",
                                    "ObjektID": "1",
                                    "EtagenName": "Kellergeschoss"
                                },
                                {
                                    "EtagenID": "2",
                                    "ObjektID": "1",
                                    "EtagenName": "Erdgeschoss"
                                },
                                {
                                    "EtagenID": "4",
                                    "ObjektID": "2",
                                    "EtagenName": "Kellergeschoß"
                                },
                                {
                                    "EtagenID": "5",
                                    "ObjektID": "2",
                                    "EtagenName": "Erdgeschoß/ Unterstock"
                                },
                                {
                                    "EtagenID": "6",
                                    "ObjektID": "2",
                                    "EtagenName": "1. Obergeschoß/ Mittelstock"
                                },
                                {
                                    "EtagenID": "7",
                                    "ObjektID": "2",
                                    "EtagenName": "2. Obergeschoß / Oberstock"
                                },
                                {
                                    "EtagenID": "8",
                                    "ObjektID": "NULL",
                                    "EtagenName": "NULL"
                                },
                                {
                                    "EtagenID": "10",
                                    "ObjektID": "1",
                                    "EtagenName": "1. Obergeschoß"
                                },
                                {
                                    "EtagenID": "13",
                                    "ObjektID": "NULL",
                                    "EtagenName": "NULL"
                                },
                                {
                                    "EtagenID": "14",
                                    "ObjektID": "NULL",
                                    "EtagenName": "NULL"
                                },
                                {
                                    "EtagenID": "16",
                                    "ObjektID": "2",
                                    "EtagenName": "2. Obergeschoß / Süd"
                                },
                                {
                                    "EtagenID": "17",
                                    "ObjektID": "2",
                                    "EtagenName": "Erdgeschoß / Südflügel"
                                },
                                {
                                    "EtagenID": "21",
                                    "ObjektID": "3",
                                    "EtagenName": "Kellergeschoß"
                                },
                                {
                                    "EtagenID": "22",
                                    "ObjektID": "3",
                                    "EtagenName": "Erdgeschoß / Terra"
                                },
                                {
                                    "EtagenID": "23",
                                    "ObjektID": "3",
                                    "EtagenName": "1. Obergeschoß / Verde"
                                },
                                {
                                    "EtagenID": "24",
                                    "ObjektID": "3",
                                    "EtagenName": "2. Obergeschoß / Azur"
                                },
                                {
                                    "EtagenID": "25",
                                    "ObjektID": "3",
                                    "EtagenName": "Dachgeschoß"
                                },
                                {
                                    "EtagenID": "26",
                                    "ObjektID": "3",
                                    "EtagenName": ""
                                },
                                {
                                    "EtagenID": "27",
                                    "ObjektID": "4",
                                    "EtagenName": "Kellergeschoß"
                                },
                                {
                                    "EtagenID": "28",
                                    "ObjektID": "4",
                                    "EtagenName": "Erdgeschoß"
                                },
                                {
                                    "EtagenID": "29",
                                    "ObjektID": "5",
                                    "EtagenName": "Kellergeschoß"
                                },
                                {
                                    "EtagenID": "30",
                                    "ObjektID": "5",
                                    "EtagenName": "Erdgeschoß"
                                },
                                {
                                    "EtagenID": "31",
                                    "ObjektID": "5",
                                    "EtagenName": "Obergeschoß"
                                },
                                {
                                    "EtagenID": "32",
                                    "ObjektID": "5",
                                    "EtagenName": "Dachgeschoß"
                                },
                                {
                                    "EtagenID": "33",
                                    "ObjektID": "6",
                                    "EtagenName": "Kellergeschoß"
                                },
                                {
                                    "EtagenID": "34",
                                    "ObjektID": "6",
                                    "EtagenName": "Erdgeschoß"
                                },
                                {
                                    "EtagenID": "35",
                                    "ObjektID": "6",
                                    "EtagenName": "Obergeschoß"
                                },
                                {
                                    "EtagenID": "36",
                                    "ObjektID": "6",
                                    "EtagenName": "Dachgeschoß"
                                },
                                {
                                    "EtagenID": "37",
                                    "ObjektID": "7",
                                    "EtagenName": "Kellergeschoß"
                                },
                                {
                                    "EtagenID": "38",
                                    "ObjektID": "7",
                                    "EtagenName": "Erdgeschoß"
                                },
                                {
                                    "EtagenID": "39",
                                    "ObjektID": "7",
                                    "EtagenName": "Dachgeschoß"
                                },
                                {
                                    "EtagenID": "40",
                                    "ObjektID": "8",
                                    "EtagenName": "Kellergeschoß"
                                },
                                {
                                    "EtagenID": "41",
                                    "ObjektID": "8",
                                    "EtagenName": "Erdgeschoß"
                                },
                                {
                                    "EtagenID": "42",
                                    "ObjektID": "8",
                                    "EtagenName": "1.Obergeschoß"
                                },
                                {
                                    "EtagenID": "43",
                                    "ObjektID": "8",
                                    "EtagenName": "2. Obergeschoß"
                                },
                                {
                                    "EtagenID": "44",
                                    "ObjektID": "8",
                                    "EtagenName": "Dachgeschoß"
                                },
                                {
                                    "EtagenID": "45",
                                    "ObjektID": "9",
                                    "EtagenName": "Kellergeschoß"
                                },
                                {
                                    "EtagenID": "46",
                                    "ObjektID": "9",
                                    "EtagenName": "Erdgeschoß"
                                },
                                {
                                    "EtagenID": "47",
                                    "ObjektID": "10",
                                    "EtagenName": "Kellergeschoß"
                                },
                                {
                                    "EtagenID": "48",
                                    "ObjektID": "10",
                                    "EtagenName": "Erdgeschoß"
                                },
                                {
                                    "EtagenID": "49",
                                    "ObjektID": "10",
                                    "EtagenName": "Dachgeschoß"
                                },
                                {
                                    "EtagenID": "50",
                                    "ObjektID": "11",
                                    "EtagenName": "Erdgeschoß"
                                },
                                {
                                    "EtagenID": "51",
                                    "ObjektID": "12",
                                    "EtagenName": "Kellergeschoß"
                                },
                                {
                                    "EtagenID": "52",
                                    "ObjektID": "12",
                                    "EtagenName": "Erdgeschoß"
                                },
                                {
                                    "EtagenID": "53",
                                    "ObjektID": "12",
                                    "EtagenName": "Dachgeschoß"
                                },
                                {
                                    "EtagenID": "54",
                                    "ObjektID": "13",
                                    "EtagenName": "Kellergeschoß"
                                },
                                {
                                    "EtagenID": "55",
                                    "ObjektID": "13",
                                    "EtagenName": "Erdgeschoß"
                                },
                                {
                                    "EtagenID": "56",
                                    "ObjektID": "13",
                                    "EtagenName": "Obergeschoß"
                                },
                                {
                                    "EtagenID": "57",
                                    "ObjektID": "13",
                                    "EtagenName": "Dachgeschoß"
                                },
                                {
                                    "EtagenID": "58",
                                    "ObjektID": "14",
                                    "EtagenName": "Kellergeschoß"
                                },
                                {
                                    "EtagenID": "59",
                                    "ObjektID": "14",
                                    "EtagenName": "Erdgeschoß"
                                },
                                {
                                    "EtagenID": "60",
                                    "ObjektID": "14",
                                    "EtagenName": "Obergeschoß"
                                },
                                {
                                    "EtagenID": "61",
                                    "ObjektID": "14",
                                    "EtagenName": "Dachgeschoß"
                                },
                                {
                                    "EtagenID": "62",
                                    "ObjektID": "1",
                                    "EtagenName": "2. Obergeschoß"
                                },
                                {
                                    "EtagenID": "63",
                                    "ObjektID": "1",
                                    "EtagenName": "Dachgeschoß"
                                },
                                {
                                    "EtagenID": "64",
                                    "ObjektID": "15",
                                    "EtagenName": "Gelände"
                                },
                                {
                                    "EtagenID": "73",
                                    "ObjektID": "16",
                                    "EtagenName": "KG"
                                },
                                {
                                    "EtagenID": "84",
                                    "ObjektID": "16",
                                    "EtagenName": "EG"
                                },
                                {
                                    "EtagenID": "85",
                                    "ObjektID": "16",
                                    "EtagenName": "OG"
                                },
                                {
                                    "EtagenID": "86",
                                    "ObjektID": "16",
                                    "EtagenName": ""
                                },
                                {
                                    "EtagenID": "87",
                                    "ObjektID": "17",
                                    "EtagenName": "Erdgeschoß"
                                },
                                {
                                    "EtagenID": "88",
                                    "ObjektID": "17",
                                    "EtagenName": "1. OG Selva"
                                },
                                {
                                    "EtagenID": "89",
                                    "ObjektID": "17",
                                    "EtagenName": "2. Obergeschoß Flores"
                                }
                            ]
                        },
                        "text/html": [
                            "<table>",
                            "<tr><th>EtagenID</th><th>ObjektID</th><th>EtagenName</th></tr>",
                            "<tr><td>1</td><td>1</td><td>Kellergeschoss</td></tr>",
                            "<tr><td>2</td><td>1</td><td>Erdgeschoss</td></tr>",
                            "<tr><td>4</td><td>2</td><td>Kellergeschoß</td></tr>",
                            "<tr><td>5</td><td>2</td><td>Erdgeschoß/ Unterstock</td></tr>",
                            "<tr><td>6</td><td>2</td><td>1. Obergeschoß/ Mittelstock</td></tr>",
                            "<tr><td>7</td><td>2</td><td>2. Obergeschoß / Oberstock</td></tr>",
                            "<tr><td>8</td><td>NULL</td><td>NULL</td></tr>",
                            "<tr><td>10</td><td>1</td><td>1. Obergeschoß</td></tr>",
                            "<tr><td>13</td><td>NULL</td><td>NULL</td></tr>",
                            "<tr><td>14</td><td>NULL</td><td>NULL</td></tr>",
                            "<tr><td>16</td><td>2</td><td>2. Obergeschoß / Süd</td></tr>",
                            "<tr><td>17</td><td>2</td><td>Erdgeschoß / Südflügel</td></tr>",
                            "<tr><td>21</td><td>3</td><td>Kellergeschoß</td></tr>",
                            "<tr><td>22</td><td>3</td><td>Erdgeschoß / Terra</td></tr>",
                            "<tr><td>23</td><td>3</td><td>1. Obergeschoß / Verde</td></tr>",
                            "<tr><td>24</td><td>3</td><td>2. Obergeschoß / Azur</td></tr>",
                            "<tr><td>25</td><td>3</td><td>Dachgeschoß</td></tr>",
                            "<tr><td>26</td><td>3</td><td></td></tr>",
                            "<tr><td>27</td><td>4</td><td>Kellergeschoß</td></tr>",
                            "<tr><td>28</td><td>4</td><td>Erdgeschoß</td></tr>",
                            "<tr><td>29</td><td>5</td><td>Kellergeschoß</td></tr>",
                            "<tr><td>30</td><td>5</td><td>Erdgeschoß</td></tr>",
                            "<tr><td>31</td><td>5</td><td>Obergeschoß</td></tr>",
                            "<tr><td>32</td><td>5</td><td>Dachgeschoß</td></tr>",
                            "<tr><td>33</td><td>6</td><td>Kellergeschoß</td></tr>",
                            "<tr><td>34</td><td>6</td><td>Erdgeschoß</td></tr>",
                            "<tr><td>35</td><td>6</td><td>Obergeschoß</td></tr>",
                            "<tr><td>36</td><td>6</td><td>Dachgeschoß</td></tr>",
                            "<tr><td>37</td><td>7</td><td>Kellergeschoß</td></tr>",
                            "<tr><td>38</td><td>7</td><td>Erdgeschoß</td></tr>",
                            "<tr><td>39</td><td>7</td><td>Dachgeschoß</td></tr>",
                            "<tr><td>40</td><td>8</td><td>Kellergeschoß</td></tr>",
                            "<tr><td>41</td><td>8</td><td>Erdgeschoß</td></tr>",
                            "<tr><td>42</td><td>8</td><td>1.Obergeschoß</td></tr>",
                            "<tr><td>43</td><td>8</td><td>2. Obergeschoß</td></tr>",
                            "<tr><td>44</td><td>8</td><td>Dachgeschoß</td></tr>",
                            "<tr><td>45</td><td>9</td><td>Kellergeschoß</td></tr>",
                            "<tr><td>46</td><td>9</td><td>Erdgeschoß</td></tr>",
                            "<tr><td>47</td><td>10</td><td>Kellergeschoß</td></tr>",
                            "<tr><td>48</td><td>10</td><td>Erdgeschoß</td></tr>",
                            "<tr><td>49</td><td>10</td><td>Dachgeschoß</td></tr>",
                            "<tr><td>50</td><td>11</td><td>Erdgeschoß</td></tr>",
                            "<tr><td>51</td><td>12</td><td>Kellergeschoß</td></tr>",
                            "<tr><td>52</td><td>12</td><td>Erdgeschoß</td></tr>",
                            "<tr><td>53</td><td>12</td><td>Dachgeschoß</td></tr>",
                            "<tr><td>54</td><td>13</td><td>Kellergeschoß</td></tr>",
                            "<tr><td>55</td><td>13</td><td>Erdgeschoß</td></tr>",
                            "<tr><td>56</td><td>13</td><td>Obergeschoß</td></tr>",
                            "<tr><td>57</td><td>13</td><td>Dachgeschoß</td></tr>",
                            "<tr><td>58</td><td>14</td><td>Kellergeschoß</td></tr>",
                            "<tr><td>59</td><td>14</td><td>Erdgeschoß</td></tr>",
                            "<tr><td>60</td><td>14</td><td>Obergeschoß</td></tr>",
                            "<tr><td>61</td><td>14</td><td>Dachgeschoß</td></tr>",
                            "<tr><td>62</td><td>1</td><td>2. Obergeschoß</td></tr>",
                            "<tr><td>63</td><td>1</td><td>Dachgeschoß</td></tr>",
                            "<tr><td>64</td><td>15</td><td>Gelände</td></tr>",
                            "<tr><td>73</td><td>16</td><td>KG</td></tr>",
                            "<tr><td>84</td><td>16</td><td>EG</td></tr>",
                            "<tr><td>85</td><td>16</td><td>OG</td></tr>",
                            "<tr><td>86</td><td>16</td><td></td></tr>",
                            "<tr><td>87</td><td>17</td><td>Erdgeschoß</td></tr>",
                            "<tr><td>88</td><td>17</td><td>1. OG Selva</td></tr>",
                            "<tr><td>89</td><td>17</td><td>2. Obergeschoß Flores</td></tr>",
                            "</table>"
                        ]
                    }
                },
                {
                    "output_type": "execute_result",
                    "metadata": {},
                    "execution_count": 7,
                    "data": {
                        "application/vnd.dataresource+json": {
                            "schema": {
                                "fields": [
                                    {
                                        "name": "ErfasserID"
                                    },
                                    {
                                        "name": "Erfasser"
                                    },
                                    {
                                        "name": "Telefon"
                                    },
                                    {
                                        "name": "Email"
                                    },
                                    {
                                        "name": "Inaktiv"
                                    },
                                    {
                                        "name": "DomUser"
                                    },
                                    {
                                        "name": "Del"
                                    },
                                    {
                                        "name": "DelDate"
                                    }
                                ]
                            },
                            "data": [
                                {
                                    "ErfasserID": "1",
                                    "Erfasser": "Josef Meier",
                                    "Telefon": "00",
                                    "Email": "meier@test.de",
                                    "Inaktiv": "0",
                                    "DomUser": "Meier",
                                    "Del": "0",
                                    "DelDate": "NULL"
                                },
                                {
                                    "ErfasserID": "2",
                                    "Erfasser": "Manfred Müller",
                                    "Telefon": "000",
                                    "Email": "mueller@test.de",
                                    "Inaktiv": "0",
                                    "DomUser": "Müller",
                                    "Del": "0",
                                    "DelDate": "NULL"
                                },
                                {
                                    "ErfasserID": "1001",
                                    "Erfasser": "Ingo Sabat",
                                    "Telefon": "00",
                                    "Email": "sabat@test.de",
                                    "Inaktiv": "1",
                                    "DomUser": "Sabat",
                                    "Del": "0",
                                    "DelDate": "NULL"
                                },
                                {
                                    "ErfasserID": "1002",
                                    "Erfasser": "Markus Trefzer",
                                    "Telefon": "NULL",
                                    "Email": "m.trefzer@trefzer-it.de",
                                    "Inaktiv": "1",
                                    "DomUser": "m.trefzer",
                                    "Del": "0",
                                    "DelDate": "NULL"
                                },
                                {
                                    "ErfasserID": "1003",
                                    "Erfasser": "Lorenz Bucher",
                                    "Telefon": "NULL",
                                    "Email": "bucher@test.de",
                                    "Inaktiv": "0",
                                    "DomUser": "Bucher",
                                    "Del": "0",
                                    "DelDate": "NULL"
                                }
                            ]
                        },
                        "text/html": [
                            "<table>",
                            "<tr><th>ErfasserID</th><th>Erfasser</th><th>Telefon</th><th>Email</th><th>Inaktiv</th><th>DomUser</th><th>Del</th><th>DelDate</th></tr>",
                            "<tr><td>1</td><td>Josef Meier</td><td>00</td><td>meier@test.de</td><td>0</td><td>Meier</td><td>0</td><td>NULL</td></tr>",
                            "<tr><td>2</td><td>Manfred Müller</td><td>000</td><td>mueller@test.de</td><td>0</td><td>Müller</td><td>0</td><td>NULL</td></tr>",
                            "<tr><td>1001</td><td>Ingo Sabat</td><td>00</td><td>sabat@test.de</td><td>1</td><td>Sabat</td><td>0</td><td>NULL</td></tr>",
                            "<tr><td>1002</td><td>Markus Trefzer</td><td>NULL</td><td>m.trefzer@trefzer-it.de</td><td>1</td><td>m.trefzer</td><td>0</td><td>NULL</td></tr>",
                            "<tr><td>1003</td><td>Lorenz Bucher</td><td>NULL</td><td>bucher@test.de</td><td>0</td><td>Bucher</td><td>0</td><td>NULL</td></tr>",
                            "</table>"
                        ]
                    }
                },
                {
                    "output_type": "execute_result",
                    "metadata": {},
                    "execution_count": 7,
                    "data": {
                        "application/vnd.dataresource+json": {
                            "schema": {
                                "fields": [
                                    {
                                        "name": "FehlerKategorieID"
                                    },
                                    {
                                        "name": "Fehlerkategorie"
                                    }
                                ]
                            },
                            "data": [
                                {
                                    "FehlerKategorieID": "1",
                                    "Fehlerkategorie": "Elektro"
                                },
                                {
                                    "FehlerKategorieID": "2",
                                    "Fehlerkategorie": "Park / Landschaftspflege"
                                },
                                {
                                    "FehlerKategorieID": "3",
                                    "Fehlerkategorie": "Heizung"
                                },
                                {
                                    "FehlerKategorieID": "4",
                                    "Fehlerkategorie": "Leihgeräte"
                                },
                                {
                                    "FehlerKategorieID": "5",
                                    "Fehlerkategorie": "Telefonie"
                                },
                                {
                                    "FehlerKategorieID": "6",
                                    "Fehlerkategorie": "Sanitär"
                                },
                                {
                                    "FehlerKategorieID": "7",
                                    "Fehlerkategorie": "Gebäude"
                                },
                                {
                                    "FehlerKategorieID": "8",
                                    "Fehlerkategorie": "Fahrzeuge"
                                },
                                {
                                    "FehlerKategorieID": "9",
                                    "Fehlerkategorie": "Verschiedenes"
                                },
                                {
                                    "FehlerKategorieID": "10",
                                    "Fehlerkategorie": "Ausstattung"
                                },
                                {
                                    "FehlerKategorieID": "11",
                                    "Fehlerkategorie": "A EDV Erweiterung"
                                },
                                {
                                    "FehlerKategorieID": "12",
                                    "Fehlerkategorie": "B Software"
                                },
                                {
                                    "FehlerKategorieID": "13",
                                    "Fehlerkategorie": "C Hardware"
                                },
                                {
                                    "FehlerKategorieID": "14",
                                    "Fehlerkategorie": "D Anwenderfehler"
                                },
                                {
                                    "FehlerKategorieID": "15",
                                    "Fehlerkategorie": "E Anwenderfragen"
                                },
                                {
                                    "FehlerKategorieID": "16",
                                    "Fehlerkategorie": "F Netzwerk"
                                },
                                {
                                    "FehlerKategorieID": "17",
                                    "Fehlerkategorie": "G"
                                },
                                {
                                    "FehlerKategorieID": "18",
                                    "Fehlerkategorie": "H"
                                },
                                {
                                    "FehlerKategorieID": "19",
                                    "Fehlerkategorie": "I"
                                },
                                {
                                    "FehlerKategorieID": "20",
                                    "Fehlerkategorie": "J"
                                }
                            ]
                        },
                        "text/html": [
                            "<table>",
                            "<tr><th>FehlerKategorieID</th><th>Fehlerkategorie</th></tr>",
                            "<tr><td>1</td><td>Elektro</td></tr>",
                            "<tr><td>2</td><td>Park / Landschaftspflege</td></tr>",
                            "<tr><td>3</td><td>Heizung</td></tr>",
                            "<tr><td>4</td><td>Leihgeräte</td></tr>",
                            "<tr><td>5</td><td>Telefonie</td></tr>",
                            "<tr><td>6</td><td>Sanitär</td></tr>",
                            "<tr><td>7</td><td>Gebäude</td></tr>",
                            "<tr><td>8</td><td>Fahrzeuge</td></tr>",
                            "<tr><td>9</td><td>Verschiedenes</td></tr>",
                            "<tr><td>10</td><td>Ausstattung</td></tr>",
                            "<tr><td>11</td><td>A EDV Erweiterung</td></tr>",
                            "<tr><td>12</td><td>B Software</td></tr>",
                            "<tr><td>13</td><td>C Hardware</td></tr>",
                            "<tr><td>14</td><td>D Anwenderfehler</td></tr>",
                            "<tr><td>15</td><td>E Anwenderfragen</td></tr>",
                            "<tr><td>16</td><td>F Netzwerk</td></tr>",
                            "<tr><td>17</td><td>G</td></tr>",
                            "<tr><td>18</td><td>H</td></tr>",
                            "<tr><td>19</td><td>I</td></tr>",
                            "<tr><td>20</td><td>J</td></tr>",
                            "</table>"
                        ]
                    }
                },
                {
                    "output_type": "execute_result",
                    "metadata": {},
                    "execution_count": 7,
                    "data": {
                        "application/vnd.dataresource+json": {
                            "schema": {
                                "fields": [
                                    {
                                        "name": "ObjektID"
                                    },
                                    {
                                        "name": "ObjektName"
                                    }
                                ]
                            },
                            "data": [
                                {
                                    "ObjektID": "1",
                                    "ObjektName": "Abgerissenes MH - nicht verwenden"
                                },
                                {
                                    "ObjektID": "2",
                                    "ObjektName": "Johannes Haus"
                                },
                                {
                                    "ObjektID": "3",
                                    "ObjektName": "Lukashaus"
                                },
                                {
                                    "ObjektID": "4",
                                    "ObjektName": "Raphaelhaus"
                                },
                                {
                                    "ObjektID": "5",
                                    "ObjektName": "Weidberghaus"
                                },
                                {
                                    "ObjektID": "6",
                                    "ObjektName": "Gelbes Haus"
                                },
                                {
                                    "ObjektID": "7",
                                    "ObjektName": "Kapelle"
                                },
                                {
                                    "ObjektID": "8",
                                    "ObjektName": "Maierhof"
                                },
                                {
                                    "ObjektID": "9",
                                    "ObjektName": "Werkstattgebäude"
                                },
                                {
                                    "ObjektID": "10",
                                    "ObjektName": "Haus am Bach"
                                },
                                {
                                    "ObjektID": "11",
                                    "ObjektName": "Musikpavillon"
                                },
                                {
                                    "ObjektID": "12",
                                    "ObjektName": "Blaues Haus"
                                },
                                {
                                    "ObjektID": "13",
                                    "ObjektName": "Villa"
                                },
                                {
                                    "ObjektID": "14",
                                    "ObjektName": "Forsthaus"
                                },
                                {
                                    "ObjektID": "15",
                                    "ObjektName": "Gelände"
                                },
                                {
                                    "ObjektID": "16",
                                    "ObjektName": "Haus Balma"
                                },
                                {
                                    "ObjektID": "17",
                                    "ObjektName": "Michaelhaus"
                                }
                            ]
                        },
                        "text/html": [
                            "<table>",
                            "<tr><th>ObjektID</th><th>ObjektName</th></tr>",
                            "<tr><td>1</td><td>Abgerissenes MH - nicht verwenden</td></tr>",
                            "<tr><td>2</td><td>Johannes Haus</td></tr>",
                            "<tr><td>3</td><td>Lukashaus</td></tr>",
                            "<tr><td>4</td><td>Raphaelhaus</td></tr>",
                            "<tr><td>5</td><td>Weidberghaus</td></tr>",
                            "<tr><td>6</td><td>Gelbes Haus</td></tr>",
                            "<tr><td>7</td><td>Kapelle</td></tr>",
                            "<tr><td>8</td><td>Maierhof</td></tr>",
                            "<tr><td>9</td><td>Werkstattgebäude</td></tr>",
                            "<tr><td>10</td><td>Haus am Bach</td></tr>",
                            "<tr><td>11</td><td>Musikpavillon</td></tr>",
                            "<tr><td>12</td><td>Blaues Haus</td></tr>",
                            "<tr><td>13</td><td>Villa</td></tr>",
                            "<tr><td>14</td><td>Forsthaus</td></tr>",
                            "<tr><td>15</td><td>Gelände</td></tr>",
                            "<tr><td>16</td><td>Haus Balma</td></tr>",
                            "<tr><td>17</td><td>Michaelhaus</td></tr>",
                            "</table>"
                        ]
                    }
                },
                {
                    "output_type": "execute_result",
                    "metadata": {},
                    "execution_count": 7,
                    "data": {
                        "application/vnd.dataresource+json": {
                            "schema": {
                                "fields": [
                                    {
                                        "name": "PersBereichID"
                                    },
                                    {
                                        "name": "Personalbereich"
                                    }
                                ]
                            },
                            "data": [
                                {
                                    "PersBereichID": "1",
                                    "Personalbereich": "Pflege"
                                },
                                {
                                    "PersBereichID": "2",
                                    "Personalbereich": "Verwaltung"
                                },
                                {
                                    "PersBereichID": "3",
                                    "Personalbereich": "Ärzte"
                                },
                                {
                                    "PersBereichID": "4",
                                    "Personalbereich": "Therapie"
                                },
                                {
                                    "PersBereichID": "5",
                                    "Personalbereich": "Med.-Techn. Dienst"
                                },
                                {
                                    "PersBereichID": "6",
                                    "Personalbereich": "Küche"
                                },
                                {
                                    "PersBereichID": "7",
                                    "Personalbereich": "Hauswirtschaft"
                                },
                                {
                                    "PersBereichID": "8",
                                    "Personalbereich": "Hausmeisterei/Haustechnik"
                                }
                            ]
                        },
                        "text/html": [
                            "<table>",
                            "<tr><th>PersBereichID</th><th>Personalbereich</th></tr>",
                            "<tr><td>1</td><td>Pflege</td></tr>",
                            "<tr><td>2</td><td>Verwaltung</td></tr>",
                            "<tr><td>3</td><td>Ärzte</td></tr>",
                            "<tr><td>4</td><td>Therapie</td></tr>",
                            "<tr><td>5</td><td>Med.-Techn. Dienst</td></tr>",
                            "<tr><td>6</td><td>Küche</td></tr>",
                            "<tr><td>7</td><td>Hauswirtschaft</td></tr>",
                            "<tr><td>8</td><td>Hausmeisterei/Haustechnik</td></tr>",
                            "</table>"
                        ]
                    }
                },
                {
                    "output_type": "execute_result",
                    "metadata": {},
                    "execution_count": 7,
                    "data": {
                        "application/vnd.dataresource+json": {
                            "schema": {
                                "fields": [
                                    {
                                        "name": "ErfassserID"
                                    },
                                    {
                                        "name": "PersBereichID"
                                    },
                                    {
                                        "name": "RolleID"
                                    }
                                ]
                            },
                            "data": [
                                {
                                    "ErfassserID": "1",
                                    "PersBereichID": "7",
                                    "RolleID": "3"
                                }
                            ]
                        },
                        "text/html": [
                            "<table>",
                            "<tr><th>ErfassserID</th><th>PersBereichID</th><th>RolleID</th></tr>",
                            "<tr><td>1</td><td>7</td><td>3</td></tr>",
                            "</table>"
                        ]
                    }
                },
                {
                    "output_type": "execute_result",
                    "metadata": {},
                    "execution_count": 7,
                    "data": {
                        "application/vnd.dataresource+json": {
                            "schema": {
                                "fields": [
                                    {
                                        "name": "TextID"
                                    },
                                    {
                                        "name": "Text"
                                    },
                                    {
                                        "name": "Bemerkung"
                                    }
                                ]
                            },
                            "data": [
                                {
                                    "TextID": "1",
                                    "Text": "Sehr geehrte Frau\n\n\n\n\n\n\n\n\n\nMit freundlichen Grüssen\n\nHaustechnik\nSchwär",
                                    "Bemerkung": "Test 2"
                                },
                                {
                                    "TextID": "2",
                                    "Text": "Test 2",
                                    "Bemerkung": "test2"
                                }
                            ]
                        },
                        "text/html": [
                            "<table>",
                            "<tr><th>TextID</th><th>Text</th><th>Bemerkung</th></tr>",
                            "<tr><td>1</td><td>Sehr geehrte Frau\n\n\n\n\n\n\n\n\n\nMit freundlichen Grüssen\n\nHaustechnik\nSchwär</td><td>Test 2</td></tr>",
                            "<tr><td>2</td><td>Test 2</td><td>test2</td></tr>",
                            "</table>"
                        ]
                    }
                },
                {
                    "output_type": "execute_result",
                    "metadata": {},
                    "execution_count": 7,
                    "data": {
                        "application/vnd.dataresource+json": {
                            "schema": {
                                "fields": [
                                    {
                                        "name": "ZimmerID"
                                    },
                                    {
                                        "name": "EtagenID"
                                    },
                                    {
                                        "name": "Zimmer"
                                    },
                                    {
                                        "name": "ZimmerNr"
                                    },
                                    {
                                        "name": "ZimmerNrText"
                                    }
                                ]
                            },
                            "data": [
                                {
                                    "ZimmerID": "1",
                                    "EtagenID": "1",
                                    "Zimmer": "Büroraum",
                                    "ZimmerNr": "2",
                                    "ZimmerNrText": " "
                                },
                                {
                                    "ZimmerID": "2",
                                    "EtagenID": "1",
                                    "Zimmer": "EDV Raum",
                                    "ZimmerNr": "3",
                                    "ZimmerNrText": " "
                                },
                                {
                                    "ZimmerID": "3",
                                    "EtagenID": "1",
                                    "Zimmer": "Lager",
                                    "ZimmerNr": "4",
                                    "ZimmerNrText": " "
                                },
                                {
                                    "ZimmerID": "4",
                                    "EtagenID": "1",
                                    "Zimmer": "Lager",
                                    "ZimmerNr": "5",
                                    "ZimmerNrText": " "
                                },
                                {
                                    "ZimmerID": "5",
                                    "EtagenID": "1",
                                    "Zimmer": "Büro Haustechnik",
                                    "ZimmerNr": "6",
                                    "ZimmerNrText": " "
                                },
                                {
                                    "ZimmerID": "6",
                                    "EtagenID": "1",
                                    "Zimmer": "Heizungsraum",
                                    "ZimmerNr": "7",
                                    "ZimmerNrText": " "
                                },
                                {
                                    "ZimmerID": "7",
                                    "EtagenID": "1",
                                    "Zimmer": "Lager Haustechnik",
                                    "ZimmerNr": "8",
                                    "ZimmerNrText": " "
                                },
                                {
                                    "ZimmerID": "8",
                                    "EtagenID": "1",
                                    "Zimmer": "Müllraum",
                                    "ZimmerNr": "9",
                                    "ZimmerNrText": " "
                                },
                                {
                                    "ZimmerID": "9",
                                    "EtagenID": "1",
                                    "Zimmer": "Archiv Buchhaltung",
                                    "ZimmerNr": "10",
                                    "ZimmerNrText": " "
                                },
                                {
                                    "ZimmerID": "10",
                                    "EtagenID": "1",
                                    "Zimmer": " Archiv Patienten",
                                    "ZimmerNr": "11",
                                    "ZimmerNrText": " "
                                },
                                {
                                    "ZimmerID": "11",
                                    "EtagenID": "1",
                                    "Zimmer": "Archiv Patienten",
                                    "ZimmerNr": "12",
                                    "ZimmerNrText": "  "
                                },
                                {
                                    "ZimmerID": "12",
                                    "EtagenID": "1",
                                    "Zimmer": "Lager Hauswirtschaft",
                                    "ZimmerNr": "13",
                                    "ZimmerNrText": "  "
                                },
                                {
                                    "ZimmerID": "13",
                                    "EtagenID": "1",
                                    "Zimmer": " Archiv Patienten",
                                    "ZimmerNr": "14",
                                    "ZimmerNrText": "  "
                                },
                                {
                                    "ZimmerID": "14",
                                    "EtagenID": "1",
                                    "Zimmer": "Lager Haustechnik",
                                    "ZimmerNr": "15",
                                    "ZimmerNrText": "  "
                                },
                                {
                                    "ZimmerID": "15",
                                    "EtagenID": "1",
                                    "Zimmer": "Archiv Patienten",
                                    "ZimmerNr": "16",
                                    "ZimmerNrText": "  "
                                },
                                {
                                    "ZimmerID": "16",
                                    "EtagenID": "1",
                                    "Zimmer": "Archiv Bau",
                                    "ZimmerNr": "17",
                                    "ZimmerNrText": "  "
                                },
                                {
                                    "ZimmerID": "17",
                                    "EtagenID": "1",
                                    "Zimmer": "Lager Haustechnik",
                                    "ZimmerNr": "18",
                                    "ZimmerNrText": "  "
                                },
                                {
                                    "ZimmerID": "18",
                                    "EtagenID": "1",
                                    "Zimmer": "WC",
                                    "ZimmerNr": "19",
                                    "ZimmerNrText": "  "
                                },
                                {
                                    "ZimmerID": "19",
                                    "EtagenID": "1",
                                    "Zimmer": "Lager Haustechnik",
                                    "ZimmerNr": "20",
                                    "ZimmerNrText": "  "
                                },
                                {
                                    "ZimmerID": "20",
                                    "EtagenID": "1",
                                    "Zimmer": "Aufbahrung",
                                    "ZimmerNr": "21",
                                    "ZimmerNrText": "  "
                                },
                                {
                                    "ZimmerID": "21",
                                    "EtagenID": "1",
                                    "Zimmer": "Telefontechnikraum",
                                    "ZimmerNr": "22",
                                    "ZimmerNrText": "  "
                                },
                                {
                                    "ZimmerID": "23",
                                    "EtagenID": "2",
                                    "Zimmer": "Büro Oberarzt ( Meyer-Först )",
                                    "ZimmerNr": "2",
                                    "ZimmerNrText": " "
                                },
                                {
                                    "ZimmerID": "24",
                                    "EtagenID": "2",
                                    "Zimmer": "Büro Oberarzt ( Rönnefarth )",
                                    "ZimmerNr": "3",
                                    "ZimmerNrText": " "
                                },
                                {
                                    "ZimmerID": "25",
                                    "EtagenID": "2",
                                    "Zimmer": "Arztsekretariat",
                                    "ZimmerNr": "4",
                                    "ZimmerNrText": " "
                                },
                                {
                                    "ZimmerID": "26",
                                    "EtagenID": "2",
                                    "Zimmer": "Büro Leitender Arzt",
                                    "ZimmerNr": "5",
                                    "ZimmerNrText": "  "
                                },
                                {
                                    "ZimmerID": "27",
                                    "EtagenID": "2",
                                    "Zimmer": "Büro Leitender Arzt",
                                    "ZimmerNr": "6",
                                    "ZimmerNrText": " "
                                },
                                {
                                    "ZimmerID": "28",
                                    "EtagenID": "2",
                                    "Zimmer": "Bücherfundus",
                                    "ZimmerNr": "7",
                                    "ZimmerNrText": " "
                                },
                                {
                                    "ZimmerID": "29",
                                    "EtagenID": "2",
                                    "Zimmer": "Zenrale Auskunftsstelle",
                                    "ZimmerNr": "8",
                                    "ZimmerNrText": " "
                                },
                                {
                                    "ZimmerID": "30",
                                    "EtagenID": "2",
                                    "Zimmer": "Büromittel",
                                    "ZimmerNr": "9",
                                    "ZimmerNrText": " "
                                },
                                {
                                    "ZimmerID": "31",
                                    "EtagenID": "2",
                                    "Zimmer": "Aufnahmebüro",
                                    "ZimmerNr": "10",
                                    "ZimmerNrText": " "
                                },
                                {
                                    "ZimmerID": "32",
                                    "EtagenID": "2",
                                    "Zimmer": "Sektretariat Geschäftsführung",
                                    "ZimmerNr": "11",
                                    "ZimmerNrText": " "
                                },
                                {
                                    "ZimmerID": "33",
                                    "EtagenID": "2",
                                    "Zimmer": "Büro Geschäftsführung",
                                    "ZimmerNr": "12",
                                    "ZimmerNrText": " "
                                },
                                {
                                    "ZimmerID": "34",
                                    "EtagenID": "2",
                                    "Zimmer": "Ärztebibliotheke",
                                    "ZimmerNr": "13",
                                    "ZimmerNrText": " "
                                },
                                {
                                    "ZimmerID": "35",
                                    "EtagenID": "2",
                                    "Zimmer": "Besprechungsraum",
                                    "ZimmerNr": "14",
                                    "ZimmerNrText": " "
                                },
                                {
                                    "ZimmerID": "36",
                                    "EtagenID": "2",
                                    "Zimmer": "Büro Buchhaltung",
                                    "ZimmerNr": "15",
                                    "ZimmerNrText": " "
                                },
                                {
                                    "ZimmerID": "37",
                                    "EtagenID": "2",
                                    "Zimmer": "Büro Leitung Buchhaltung",
                                    "ZimmerNr": "16",
                                    "ZimmerNrText": " "
                                },
                                {
                                    "ZimmerID": "38",
                                    "EtagenID": "2",
                                    "Zimmer": "WC Damen",
                                    "ZimmerNr": "17",
                                    "ZimmerNrText": " "
                                },
                                {
                                    "ZimmerID": "39",
                                    "EtagenID": "2",
                                    "Zimmer": "WC Herren ",
                                    "ZimmerNr": "18",
                                    "ZimmerNrText": " "
                                },
                                {
                                    "ZimmerID": "40",
                                    "EtagenID": "2",
                                    "Zimmer": "WC Mitarbeiter",
                                    "ZimmerNr": "19",
                                    "ZimmerNrText": " "
                                },
                                {
                                    "ZimmerID": "41",
                                    "EtagenID": "2",
                                    "Zimmer": "Personalbuchhaltung",
                                    "ZimmerNr": "20",
                                    "ZimmerNrText": " "
                                },
                                {
                                    "ZimmerID": "42",
                                    "EtagenID": "2",
                                    "Zimmer": "Büro Arztsekretariat",
                                    "ZimmerNr": "21",
                                    "ZimmerNrText": " "
                                },
                                {
                                    "ZimmerID": "43",
                                    "EtagenID": "2",
                                    "Zimmer": "Büro Arztsekretariat",
                                    "ZimmerNr": "22",
                                    "ZimmerNrText": " "
                                },
                                {
                                    "ZimmerID": "44",
                                    "EtagenID": "4",
                                    "Zimmer": "Patientenbilbliotheke  ",
                                    "ZimmerNr": "1",
                                    "ZimmerNrText": " "
                                },
                                {
                                    "ZimmerID": "45",
                                    "EtagenID": "4",
                                    "Zimmer": "Magazin HW",
                                    "ZimmerNr": "2",
                                    "ZimmerNrText": "  "
                                },
                                {
                                    "ZimmerID": "46",
                                    "EtagenID": "4",
                                    "Zimmer": "Büro Hauswirtschaftsleitung",
                                    "ZimmerNr": "4",
                                    "ZimmerNrText": "  "
                                },
                                {
                                    "ZimmerID": "47",
                                    "EtagenID": "4",
                                    "Zimmer": "Wäschezentrale",
                                    "ZimmerNr": "5",
                                    "ZimmerNrText": "  "
                                },
                                {
                                    "ZimmerID": "48",
                                    "EtagenID": "4",
                                    "Zimmer": "HW Raum",
                                    "ZimmerNr": "6",
                                    "ZimmerNrText": "  "
                                },
                                {
                                    "ZimmerID": "49",
                                    "EtagenID": "4",
                                    "Zimmer": "HW Raum",
                                    "ZimmerNr": "7",
                                    "ZimmerNrText": "  "
                                },
                                {
                                    "ZimmerID": "50",
                                    "EtagenID": "4",
                                    "Zimmer": "Entsorgungsraum",
                                    "ZimmerNr": "8",
                                    "ZimmerNrText": "  "
                                },
                                {
                                    "ZimmerID": "51",
                                    "EtagenID": "4",
                                    "Zimmer": "WC",
                                    "ZimmerNr": "9",
                                    "ZimmerNrText": "  "
                                },
                                {
                                    "ZimmerID": "52",
                                    "EtagenID": "4",
                                    "Zimmer": "Putzkammer",
                                    "ZimmerNr": "10",
                                    "ZimmerNrText": "  "
                                },
                                {
                                    "ZimmerID": "53",
                                    "EtagenID": "4",
                                    "Zimmer": "Leerstand",
                                    "ZimmerNr": "11",
                                    "ZimmerNrText": "  "
                                },
                                {
                                    "ZimmerID": "54",
                                    "EtagenID": "4",
                                    "Zimmer": "Leerstand 1",
                                    "ZimmerNr": "12",
                                    "ZimmerNrText": "  "
                                },
                                {
                                    "ZimmerID": "55",
                                    "EtagenID": "4",
                                    "Zimmer": "Leerstand 2",
                                    "ZimmerNr": "13",
                                    "ZimmerNrText": "  "
                                },
                                {
                                    "ZimmerID": "56",
                                    "EtagenID": "4",
                                    "Zimmer": "Büro Betriebsrat alt",
                                    "ZimmerNr": "14",
                                    "ZimmerNrText": "  "
                                },
                                {
                                    "ZimmerID": "57",
                                    "EtagenID": "4",
                                    "Zimmer": "EDV Serverraum",
                                    "ZimmerNr": "15",
                                    "ZimmerNrText": "  "
                                },
                                {
                                    "ZimmerID": "58",
                                    "EtagenID": "4",
                                    "Zimmer": "Aufzug",
                                    "ZimmerNr": "16",
                                    "ZimmerNrText": "  "
                                },
                                {
                                    "ZimmerID": "59",
                                    "EtagenID": "4",
                                    "Zimmer": "HW Raum",
                                    "ZimmerNr": "17",
                                    "ZimmerNrText": "  "
                                },
                                {
                                    "ZimmerID": "60",
                                    "EtagenID": "5",
                                    "Zimmer": "Patientenzimmer 1",
                                    "ZimmerNr": "NULL",
                                    "ZimmerNrText": "  "
                                },
                                {
                                    "ZimmerID": "61",
                                    "EtagenID": "5",
                                    "Zimmer": "Patientenzimmer 2",
                                    "ZimmerNr": "2",
                                    "ZimmerNrText": "  "
                                },
                                {
                                    "ZimmerID": "62",
                                    "EtagenID": "5",
                                    "Zimmer": "Patientenzimmer 3",
                                    "ZimmerNr": "3",
                                    "ZimmerNrText": "  "
                                },
                                {
                                    "ZimmerID": "63",
                                    "EtagenID": "5",
                                    "Zimmer": "Patientenzimmer 4",
                                    "ZimmerNr": "4",
                                    "ZimmerNrText": "  "
                                },
                                {
                                    "ZimmerID": "64",
                                    "EtagenID": "5",
                                    "Zimmer": "Patientenzimmer 5",
                                    "ZimmerNr": "5",
                                    "ZimmerNrText": "  "
                                },
                                {
                                    "ZimmerID": "65",
                                    "EtagenID": "5",
                                    "Zimmer": "Patientenzimmer 6",
                                    "ZimmerNr": "6",
                                    "ZimmerNrText": "  "
                                },
                                {
                                    "ZimmerID": "66",
                                    "EtagenID": "5",
                                    "Zimmer": " Patientenzimmer 7",
                                    "ZimmerNr": "7",
                                    "ZimmerNrText": "  "
                                },
                                {
                                    "ZimmerID": "68",
                                    "EtagenID": "5",
                                    "Zimmer": "Gesprächszimmer",
                                    "ZimmerNr": "8",
                                    "ZimmerNrText": "  "
                                },
                                {
                                    "ZimmerID": "69",
                                    "EtagenID": "5",
                                    "Zimmer": "Äußere Anwendungen",
                                    "ZimmerNr": "11",
                                    "ZimmerNrText": "  "
                                },
                                {
                                    "ZimmerID": "70",
                                    "EtagenID": "5",
                                    "Zimmer": "Raucher WC",
                                    "ZimmerNr": "12",
                                    "ZimmerNrText": "  "
                                },
                                {
                                    "ZimmerID": "71",
                                    "EtagenID": "5",
                                    "Zimmer": "Speisesaal",
                                    "ZimmerNr": "13",
                                    "ZimmerNrText": "  "
                                },
                                {
                                    "ZimmerID": "72",
                                    "EtagenID": "5",
                                    "Zimmer": "Teeküche",
                                    "ZimmerNr": "14",
                                    "ZimmerNrText": "  "
                                },
                                {
                                    "ZimmerID": "73",
                                    "EtagenID": "5",
                                    "Zimmer": "Stationszimmer",
                                    "ZimmerNr": "15",
                                    "ZimmerNrText": "  "
                                },
                                {
                                    "ZimmerID": "74",
                                    "EtagenID": "5",
                                    "Zimmer": "Schmutzraum",
                                    "ZimmerNr": "16",
                                    "ZimmerNrText": "  "
                                },
                                {
                                    "ZimmerID": "75",
                                    "EtagenID": "5",
                                    "Zimmer": "Badezimmer",
                                    "ZimmerNr": "17",
                                    "ZimmerNrText": "  "
                                },
                                {
                                    "ZimmerID": "76",
                                    "EtagenID": "5",
                                    "Zimmer": "Dusche",
                                    "ZimmerNr": "18",
                                    "ZimmerNrText": "  "
                                },
                                {
                                    "ZimmerID": "77",
                                    "EtagenID": "5",
                                    "Zimmer": "Flur",
                                    "ZimmerNr": "19",
                                    "ZimmerNrText": "  "
                                },
                                {
                                    "ZimmerID": "80",
                                    "EtagenID": "6",
                                    "Zimmer": "Büro Nr. 10  Arztsek.",
                                    "ZimmerNr": "2",
                                    "ZimmerNrText": "  "
                                },
                                {
                                    "ZimmerID": "81",
                                    "EtagenID": "6",
                                    "Zimmer": "Büro Nr. 9  Arztsek.",
                                    "ZimmerNr": "3",
                                    "ZimmerNrText": "  "
                                },
                                {
                                    "ZimmerID": "82",
                                    "EtagenID": "6",
                                    "Zimmer": "Büro Nr. 8 Arztsek.",
                                    "ZimmerNr": "4",
                                    "ZimmerNrText": "  "
                                },
                                {
                                    "ZimmerID": "83",
                                    "EtagenID": "6",
                                    "Zimmer": "Büro Nr. 6 OA",
                                    "ZimmerNr": "5",
                                    "ZimmerNrText": "  "
                                },
                                {
                                    "ZimmerID": "84",
                                    "EtagenID": "6",
                                    "Zimmer": "Büro Nr. 5 OA",
                                    "ZimmerNr": "6",
                                    "ZimmerNrText": "  "
                                },
                                {
                                    "ZimmerID": "85",
                                    "EtagenID": "6",
                                    "Zimmer": "Büro Nr. 4 OA",
                                    "ZimmerNr": "7",
                                    "ZimmerNrText": "  "
                                },
                                {
                                    "ZimmerID": "86",
                                    "EtagenID": "6",
                                    "Zimmer": "Büro Nr. 3 OA",
                                    "ZimmerNr": "8",
                                    "ZimmerNrText": "  "
                                },
                                {
                                    "ZimmerID": "87",
                                    "EtagenID": "6",
                                    "Zimmer": "Büro Nr. 2 OA",
                                    "ZimmerNr": "9",
                                    "ZimmerNrText": "  "
                                },
                                {
                                    "ZimmerID": "88",
                                    "EtagenID": "6",
                                    "Zimmer": "Patientenzimmer 9",
                                    "ZimmerNr": "10",
                                    "ZimmerNrText": "  "
                                },
                                {
                                    "ZimmerID": "89",
                                    "EtagenID": "6",
                                    "Zimmer": "Patientenzimmer 10",
                                    "ZimmerNr": "11",
                                    "ZimmerNrText": "  "
                                },
                                {
                                    "ZimmerID": "90",
                                    "EtagenID": "6",
                                    "Zimmer": "Patientenzimmer 11 ",
                                    "ZimmerNr": "12",
                                    "ZimmerNrText": "  "
                                },
                                {
                                    "ZimmerID": "91",
                                    "EtagenID": "6",
                                    "Zimmer": "Patientenzimmer 12",
                                    "ZimmerNr": "13",
                                    "ZimmerNrText": "  "
                                },
                                {
                                    "ZimmerID": "92",
                                    "EtagenID": "6",
                                    "Zimmer": "Patientenzimmer 13",
                                    "ZimmerNr": "14",
                                    "ZimmerNrText": "  "
                                },
                                {
                                    "ZimmerID": "93",
                                    "EtagenID": "6",
                                    "Zimmer": "Patientenzimmer 14",
                                    "ZimmerNr": "15",
                                    "ZimmerNrText": "  "
                                },
                                {
                                    "ZimmerID": "94",
                                    "EtagenID": "6",
                                    "Zimmer": "Patientenzimmer 15",
                                    "ZimmerNr": "16",
                                    "ZimmerNrText": "  "
                                },
                                {
                                    "ZimmerID": "95",
                                    "EtagenID": "6",
                                    "Zimmer": "Büro Nr. 1 Arztsek.",
                                    "ZimmerNr": "10",
                                    "ZimmerNrText": "  "
                                },
                                {
                                    "ZimmerID": "96",
                                    "EtagenID": "6",
                                    "Zimmer": "Arztzimmer 2",
                                    "ZimmerNr": "18",
                                    "ZimmerNrText": "  "
                                },
                                {
                                    "ZimmerID": "97",
                                    "EtagenID": "6",
                                    "Zimmer": "Büro Nr. 11 Besprechungsraum ",
                                    "ZimmerNr": "19",
                                    "ZimmerNrText": "  "
                                },
                                {
                                    "ZimmerID": "98",
                                    "EtagenID": "6",
                                    "Zimmer": "Druckerraum Arztbereich",
                                    "ZimmerNr": "20",
                                    "ZimmerNrText": "  "
                                },
                                {
                                    "ZimmerID": "99",
                                    "EtagenID": "6",
                                    "Zimmer": "",
                                    "ZimmerNr": "NULL",
                                    "ZimmerNrText": "  "
                                },
                                {
                                    "ZimmerID": "100",
                                    "EtagenID": "7",
                                    "Zimmer": "Patientenzimmer 1",
                                    "ZimmerNr": "2",
                                    "ZimmerNrText": "  "
                                },
                                {
                                    "ZimmerID": "101",
                                    "EtagenID": "7",
                                    "Zimmer": "Patientenzimmer 2",
                                    "ZimmerNr": "3",
                                    "ZimmerNrText": "  "
                                },
                                {
                                    "ZimmerID": "102",
                                    "EtagenID": "7",
                                    "Zimmer": "Patientenzimmer 3",
                                    "ZimmerNr": "4",
                                    "ZimmerNrText": "  "
                                },
                                {
                                    "ZimmerID": "103",
                                    "EtagenID": "7",
                                    "Zimmer": "Patientenzimmer 4",
                                    "ZimmerNr": "5",
                                    "ZimmerNrText": "  "
                                },
                                {
                                    "ZimmerID": "104",
                                    "EtagenID": "7",
                                    "Zimmer": "Patientenzimmer 5",
                                    "ZimmerNr": "6",
                                    "ZimmerNrText": "  "
                                },
                                {
                                    "ZimmerID": "105",
                                    "EtagenID": "7",
                                    "Zimmer": "Patientenzimmer 6",
                                    "ZimmerNr": "7",
                                    "ZimmerNrText": "  "
                                },
                                {
                                    "ZimmerID": "106",
                                    "EtagenID": "7",
                                    "Zimmer": "Patientenzimmer 7",
                                    "ZimmerNr": "8",
                                    "ZimmerNrText": "  "
                                },
                                {
                                    "ZimmerID": "107",
                                    "EtagenID": "7",
                                    "Zimmer": "Patientenzimmer 8",
                                    "ZimmerNr": "9",
                                    "ZimmerNrText": "  "
                                },
                                {
                                    "ZimmerID": "108",
                                    "EtagenID": "7",
                                    "Zimmer": "Stationszimmer",
                                    "ZimmerNr": "10",
                                    "ZimmerNrText": "  "
                                },
                                {
                                    "ZimmerID": "109",
                                    "EtagenID": "7",
                                    "Zimmer": "Teeküche",
                                    "ZimmerNr": "11",
                                    "ZimmerNrText": "  "
                                },
                                {
                                    "ZimmerID": "110",
                                    "EtagenID": "7",
                                    "Zimmer": "Äußere Anwendungen",
                                    "ZimmerNr": "12",
                                    "ZimmerNrText": "  "
                                },
                                {
                                    "ZimmerID": "111",
                                    "EtagenID": "7",
                                    "Zimmer": "Schmutzraum",
                                    "ZimmerNr": "13",
                                    "ZimmerNrText": "  "
                                },
                                {
                                    "ZimmerID": "112",
                                    "EtagenID": "7",
                                    "Zimmer": "Arztzimmer",
                                    "ZimmerNr": "14",
                                    "ZimmerNrText": "  "
                                },
                                {
                                    "ZimmerID": "113",
                                    "EtagenID": "7",
                                    "Zimmer": "WC Herren",
                                    "ZimmerNr": "15",
                                    "ZimmerNrText": "  "
                                },
                                {
                                    "ZimmerID": "114",
                                    "EtagenID": "7",
                                    "Zimmer": "WC Damen",
                                    "ZimmerNr": "16",
                                    "ZimmerNrText": "  "
                                },
                                {
                                    "ZimmerID": "115",
                                    "EtagenID": "7",
                                    "Zimmer": "Flur",
                                    "ZimmerNr": "17",
                                    "ZimmerNrText": "  "
                                },
                                {
                                    "ZimmerID": "116",
                                    "EtagenID": "7",
                                    "Zimmer": "WC Mitarbeiter",
                                    "ZimmerNr": "18",
                                    "ZimmerNrText": "  "
                                },
                                {
                                    "ZimmerID": "117",
                                    "EtagenID": "7",
                                    "Zimmer": "Besucherzimmer",
                                    "ZimmerNr": "19",
                                    "ZimmerNrText": "  "
                                },
                                {
                                    "ZimmerID": "118",
                                    "EtagenID": "7",
                                    "Zimmer": "Bad",
                                    "ZimmerNr": "20",
                                    "ZimmerNrText": "  "
                                },
                                {
                                    "ZimmerID": "119",
                                    "EtagenID": "7",
                                    "Zimmer": "Dusche",
                                    "ZimmerNr": "21",
                                    "ZimmerNrText": "  "
                                },
                                {
                                    "ZimmerID": "120",
                                    "EtagenID": "4",
                                    "Zimmer": "Heizraum",
                                    "ZimmerNr": "1",
                                    "ZimmerNrText": "  "
                                },
                                {
                                    "ZimmerID": "121",
                                    "EtagenID": "4",
                                    "Zimmer": "Umkleideraum Mitarbeiter",
                                    "ZimmerNr": "2",
                                    "ZimmerNrText": "  "
                                },
                                {
                                    "ZimmerID": "122",
                                    "EtagenID": "4",
                                    "Zimmer": "Hauswirtschaftsraum",
                                    "ZimmerNr": "3",
                                    "ZimmerNrText": "  "
                                },
                                {
                                    "ZimmerID": "123",
                                    "EtagenID": "4",
                                    "Zimmer": "Waschmaschinenraum",
                                    "ZimmerNr": "4",
                                    "ZimmerNrText": "  "
                                },
                                {
                                    "ZimmerID": "124",
                                    "EtagenID": "4",
                                    "Zimmer": "Trockenraum",
                                    "ZimmerNr": "5",
                                    "ZimmerNrText": "  "
                                },
                                {
                                    "ZimmerID": "125",
                                    "EtagenID": "4",
                                    "Zimmer": "Patientenbibliothek",
                                    "ZimmerNr": "6",
                                    "ZimmerNrText": "  "
                                },
                                {
                                    "ZimmerID": "126",
                                    "EtagenID": "10",
                                    "Zimmer": "Zimmer 201",
                                    "ZimmerNr": "1",
                                    "ZimmerNrText": " "
                                },
                                {
                                    "ZimmerID": "127",
                                    "EtagenID": "10",
                                    "Zimmer": "Zimmer 202",
                                    "ZimmerNr": "2",
                                    "ZimmerNrText": " "
                                },
                                {
                                    "ZimmerID": "128",
                                    "EtagenID": "10",
                                    "Zimmer": "Zimmer 203",
                                    "ZimmerNr": "3",
                                    "ZimmerNrText": " "
                                },
                                {
                                    "ZimmerID": "129",
                                    "EtagenID": "10",
                                    "Zimmer": "Zimmer 204",
                                    "ZimmerNr": "4",
                                    "ZimmerNrText": " "
                                },
                                {
                                    "ZimmerID": "130",
                                    "EtagenID": "10",
                                    "Zimmer": "Büro QM / Pflege",
                                    "ZimmerNr": "5",
                                    "ZimmerNrText": " "
                                },
                                {
                                    "ZimmerID": "131",
                                    "EtagenID": "10",
                                    "Zimmer": "Büro Pflegedienstleitung",
                                    "ZimmerNr": "6",
                                    "ZimmerNrText": " "
                                },
                                {
                                    "ZimmerID": "132",
                                    "EtagenID": "10",
                                    "Zimmer": "Büro Assistentin der Pflegedienstleitung",
                                    "ZimmerNr": "7",
                                    "ZimmerNrText": " "
                                },
                                {
                                    "ZimmerID": "133",
                                    "EtagenID": "10",
                                    "Zimmer": "Zimmer 209",
                                    "ZimmerNr": "8",
                                    "ZimmerNrText": " "
                                },
                                {
                                    "ZimmerID": "134",
                                    "EtagenID": "10",
                                    "Zimmer": "Zimmer 210",
                                    "ZimmerNr": "9",
                                    "ZimmerNrText": " "
                                },
                                {
                                    "ZimmerID": "135",
                                    "EtagenID": "10",
                                    "Zimmer": "ZIMMER 211",
                                    "ZimmerNr": "10",
                                    "ZimmerNrText": " "
                                },
                                {
                                    "ZimmerID": "136",
                                    "EtagenID": "10",
                                    "Zimmer": "Zimmer 212",
                                    "ZimmerNr": "11",
                                    "ZimmerNrText": " "
                                },
                                {
                                    "ZimmerID": "137",
                                    "EtagenID": "10",
                                    "Zimmer": "Zimmer 213",
                                    "ZimmerNr": "12",
                                    "ZimmerNrText": " "
                                },
                                {
                                    "ZimmerID": "138",
                                    "EtagenID": "10",
                                    "Zimmer": "Zimmer 214",
                                    "ZimmerNr": "13",
                                    "ZimmerNrText": "  "
                                },
                                {
                                    "ZimmerID": "139",
                                    "EtagenID": "10",
                                    "Zimmer": "Zimmer 215",
                                    "ZimmerNr": "14",
                                    "ZimmerNrText": " "
                                },
                                {
                                    "ZimmerID": "140",
                                    "EtagenID": "10",
                                    "Zimmer": "Zimmer 216",
                                    "ZimmerNr": "15",
                                    "ZimmerNrText": " "
                                },
                                {
                                    "ZimmerID": "156",
                                    "EtagenID": "4",
                                    "Zimmer": "Flur",
                                    "ZimmerNr": "1",
                                    "ZimmerNrText": "  "
                                },
                                {
                                    "ZimmerID": "157",
                                    "EtagenID": "6",
                                    "Zimmer": "Gruppenraum",
                                    "ZimmerNr": "1",
                                    "ZimmerNrText": "  "
                                },
                                {
                                    "ZimmerID": "158",
                                    "EtagenID": "6",
                                    "Zimmer": "Teeküche",
                                    "ZimmerNr": "2",
                                    "ZimmerNrText": "  "
                                },
                                {
                                    "ZimmerID": "159",
                                    "EtagenID": "6",
                                    "Zimmer": "",
                                    "ZimmerNr": "NULL",
                                    "ZimmerNrText": "  "
                                },
                                {
                                    "ZimmerID": "160",
                                    "EtagenID": "6",
                                    "Zimmer": "Ärztebibliothek",
                                    "ZimmerNr": "4",
                                    "ZimmerNrText": "  "
                                },
                                {
                                    "ZimmerID": "161",
                                    "EtagenID": "6",
                                    "Zimmer": "Dusche",
                                    "ZimmerNr": "5",
                                    "ZimmerNrText": "  "
                                },
                                {
                                    "ZimmerID": "162",
                                    "EtagenID": "6",
                                    "Zimmer": "Speisesaal",
                                    "ZimmerNr": "6",
                                    "ZimmerNrText": "  "
                                },
                                {
                                    "ZimmerID": "163",
                                    "EtagenID": "6",
                                    "Zimmer": "Raucher WC",
                                    "ZimmerNr": "1",
                                    "ZimmerNrText": "  "
                                },
                                {
                                    "ZimmerID": "164",
                                    "EtagenID": "6",
                                    "Zimmer": "WC Damen",
                                    "ZimmerNr": "2",
                                    "ZimmerNrText": "  "
                                },
                                {
                                    "ZimmerID": "165",
                                    "EtagenID": "6",
                                    "Zimmer": "WC Herren",
                                    "ZimmerNr": "3",
                                    "ZimmerNrText": "  "
                                },
                                {
                                    "ZimmerID": "166",
                                    "EtagenID": "6",
                                    "Zimmer": " WC Arztbereich",
                                    "ZimmerNr": "4",
                                    "ZimmerNrText": "  "
                                },
                                {
                                    "ZimmerID": "167",
                                    "EtagenID": "6",
                                    "Zimmer": "",
                                    "ZimmerNr": "NULL",
                                    "ZimmerNrText": "  "
                                },
                                {
                                    "ZimmerID": "168",
                                    "EtagenID": "6",
                                    "Zimmer": "Garten",
                                    "ZimmerNr": "6",
                                    "ZimmerNrText": "  "
                                },
                                {
                                    "ZimmerID": "169",
                                    "EtagenID": "6",
                                    "Zimmer": "Putzkammer",
                                    "ZimmerNr": "1",
                                    "ZimmerNrText": "  "
                                },
                                {
                                    "ZimmerID": "170",
                                    "EtagenID": "6",
                                    "Zimmer": " WC Mitarbeiter",
                                    "ZimmerNr": "2",
                                    "ZimmerNrText": "  "
                                },
                                {
                                    "ZimmerID": "171",
                                    "EtagenID": "6",
                                    "Zimmer": "Äußere Anwendungen",
                                    "ZimmerNr": "3",
                                    "ZimmerNrText": "  "
                                },
                                {
                                    "ZimmerID": "172",
                                    "EtagenID": "6",
                                    "Zimmer": "Flur",
                                    "ZimmerNr": "4",
                                    "ZimmerNrText": "  "
                                },
                                {
                                    "ZimmerID": "173",
                                    "EtagenID": "6",
                                    "Zimmer": "Büro Nr. 7 Chefarzt",
                                    "ZimmerNr": "5",
                                    "ZimmerNrText": "  "
                                },
                                {
                                    "ZimmerID": "175",
                                    "EtagenID": "7",
                                    "Zimmer": "Tagungsraum",
                                    "ZimmerNr": "1",
                                    "ZimmerNrText": "  "
                                },
                                {
                                    "ZimmerID": "176",
                                    "EtagenID": "16",
                                    "Zimmer": "Gastzimmer 740",
                                    "ZimmerNr": "1",
                                    "ZimmerNrText": "  "
                                },
                                {
                                    "ZimmerID": "177",
                                    "EtagenID": "16",
                                    "Zimmer": "Gastzimmer 743",
                                    "ZimmerNr": "2",
                                    "ZimmerNrText": "  "
                                },
                                {
                                    "ZimmerID": "178",
                                    "EtagenID": "16",
                                    "Zimmer": "Dienstarztzimmer ",
                                    "ZimmerNr": "3",
                                    "ZimmerNrText": "  "
                                },
                                {
                                    "ZimmerID": "179",
                                    "EtagenID": "16",
                                    "Zimmer": "Arbeitszimmer Dienstarzt",
                                    "ZimmerNr": "4",
                                    "ZimmerNrText": "  "
                                },
                                {
                                    "ZimmerID": "180",
                                    "EtagenID": "16",
                                    "Zimmer": "Speicher",
                                    "ZimmerNr": "5",
                                    "ZimmerNrText": "  "
                                },
                                {
                                    "ZimmerID": "181",
                                    "EtagenID": "16",
                                    "Zimmer": "Flur",
                                    "ZimmerNr": "6",
                                    "ZimmerNrText": "  "
                                },
                                {
                                    "ZimmerID": "182",
                                    "EtagenID": "16",
                                    "Zimmer": "Lüftungszentrale",
                                    "ZimmerNr": "1",
                                    "ZimmerNrText": "  "
                                },
                                {
                                    "ZimmerID": "183",
                                    "EtagenID": "17",
                                    "Zimmer": "Sozialdienst",
                                    "ZimmerNr": "1",
                                    "ZimmerNrText": "  "
                                },
                                {
                                    "ZimmerID": "184",
                                    "EtagenID": "17",
                                    "Zimmer": "Arztzimmer UST",
                                    "ZimmerNr": "2",
                                    "ZimmerNrText": "  "
                                },
                                {
                                    "ZimmerID": "185",
                                    "EtagenID": "17",
                                    "Zimmer": "Arztzimmer OST",
                                    "ZimmerNr": "3",
                                    "ZimmerNrText": "  "
                                },
                                {
                                    "ZimmerID": "186",
                                    "EtagenID": "17",
                                    "Zimmer": "Arztzimmer MST",
                                    "ZimmerNr": "4",
                                    "ZimmerNrText": "  "
                                },
                                {
                                    "ZimmerID": "187",
                                    "EtagenID": "17",
                                    "Zimmer": "Gruppenraum UST",
                                    "ZimmerNr": "5",
                                    "ZimmerNrText": "  "
                                },
                                {
                                    "ZimmerID": "188",
                                    "EtagenID": "17",
                                    "Zimmer": "Krankengymnastik",
                                    "ZimmerNr": "6",
                                    "ZimmerNrText": "  "
                                },
                                {
                                    "ZimmerID": "189",
                                    "EtagenID": "17",
                                    "Zimmer": "Bettenzentrale",
                                    "ZimmerNr": "7",
                                    "ZimmerNrText": "  "
                                },
                                {
                                    "ZimmerID": "190",
                                    "EtagenID": "17",
                                    "Zimmer": "Pflegemagazin",
                                    "ZimmerNr": "8",
                                    "ZimmerNrText": "  "
                                },
                                {
                                    "ZimmerID": "191",
                                    "EtagenID": "17",
                                    "Zimmer": "WC Mitarbeiter",
                                    "ZimmerNr": "1",
                                    "ZimmerNrText": "  "
                                },
                                {
                                    "ZimmerID": "192",
                                    "EtagenID": "17",
                                    "Zimmer": "WC",
                                    "ZimmerNr": "2",
                                    "ZimmerNrText": "  "
                                },
                                {
                                    "ZimmerID": "193",
                                    "EtagenID": "17",
                                    "Zimmer": "Dusche",
                                    "ZimmerNr": "3",
                                    "ZimmerNrText": "  "
                                },
                                {
                                    "ZimmerID": "194",
                                    "EtagenID": "17",
                                    "Zimmer": "Hauswirtschaftsraum",
                                    "ZimmerNr": "4",
                                    "ZimmerNrText": "  "
                                },
                                {
                                    "ZimmerID": "195",
                                    "EtagenID": "17",
                                    "Zimmer": "Tischtennisplattenraum",
                                    "ZimmerNr": "5",
                                    "ZimmerNrText": "  "
                                },
                                {
                                    "ZimmerID": "196",
                                    "EtagenID": "17",
                                    "Zimmer": "Kofferkammer",
                                    "ZimmerNr": "6",
                                    "ZimmerNrText": "  "
                                },
                                {
                                    "ZimmerID": "197",
                                    "EtagenID": "17",
                                    "Zimmer": "Flur",
                                    "ZimmerNr": "7",
                                    "ZimmerNrText": "  "
                                },
                                {
                                    "ZimmerID": "198",
                                    "EtagenID": "17",
                                    "Zimmer": "WC Besucher",
                                    "ZimmerNr": "8",
                                    "ZimmerNrText": "  "
                                },
                                {
                                    "ZimmerID": "199",
                                    "EtagenID": "17",
                                    "Zimmer": "Putzkammer",
                                    "ZimmerNr": "1",
                                    "ZimmerNrText": "  "
                                },
                                {
                                    "ZimmerID": "200",
                                    "EtagenID": "17",
                                    "Zimmer": "Windfang",
                                    "ZimmerNr": "2",
                                    "ZimmerNrText": "  "
                                },
                                {
                                    "ZimmerID": "201",
                                    "EtagenID": "17",
                                    "Zimmer": "Brandmeldezentrale",
                                    "ZimmerNr": "3",
                                    "ZimmerNrText": "  "
                                },
                                {
                                    "ZimmerID": "202",
                                    "EtagenID": "17",
                                    "Zimmer": "Foyer Haupteingang",
                                    "ZimmerNr": "4",
                                    "ZimmerNrText": "  "
                                },
                                {
                                    "ZimmerID": "207",
                                    "EtagenID": "6",
                                    "Zimmer": "Büro Nr. 12 Arztsek.",
                                    "ZimmerNr": "12",
                                    "ZimmerNrText": "  "
                                },
                                {
                                    "ZimmerID": "210",
                                    "EtagenID": "5",
                                    "Zimmer": "Patientenzimmer 8",
                                    "ZimmerNr": "1",
                                    "ZimmerNrText": "  "
                                },
                                {
                                    "ZimmerID": "211",
                                    "EtagenID": "5",
                                    "Zimmer": "WC Behinderten",
                                    "ZimmerNr": "1",
                                    "ZimmerNrText": "  "
                                },
                                {
                                    "ZimmerID": "212",
                                    "EtagenID": "5",
                                    "Zimmer": "WC Damen",
                                    "ZimmerNr": "2",
                                    "ZimmerNrText": "  "
                                },
                                {
                                    "ZimmerID": "213",
                                    "EtagenID": "7",
                                    "Zimmer": "Putzkammer",
                                    "ZimmerNr": "1",
                                    "ZimmerNrText": "  "
                                },
                                {
                                    "ZimmerID": "214",
                                    "EtagenID": "7",
                                    "Zimmer": "WC Behinderten",
                                    "ZimmerNr": "1",
                                    "ZimmerNrText": "  "
                                },
                                {
                                    "ZimmerID": "215",
                                    "EtagenID": "7",
                                    "Zimmer": "Speisesaal",
                                    "ZimmerNr": "1",
                                    "ZimmerNrText": "  "
                                },
                                {
                                    "ZimmerID": "216",
                                    "EtagenID": "21",
                                    "Zimmer": "Büro Therapieleitung",
                                    "ZimmerNr": "1",
                                    "ZimmerNrText": "  "
                                },
                                {
                                    "ZimmerID": "217",
                                    "EtagenID": "21",
                                    "Zimmer": "Schmutzwäsche",
                                    "ZimmerNr": "2",
                                    "ZimmerNrText": "  "
                                },
                                {
                                    "ZimmerID": "218",
                                    "EtagenID": "21",
                                    "Zimmer": "Magazin HW",
                                    "ZimmerNr": "3",
                                    "ZimmerNrText": "  "
                                },
                                {
                                    "ZimmerID": "219",
                                    "EtagenID": "21",
                                    "Zimmer": "Wäschezentrale",
                                    "ZimmerNr": "4",
                                    "ZimmerNrText": "  "
                                },
                                {
                                    "ZimmerID": "220",
                                    "EtagenID": "21",
                                    "Zimmer": "Bettenabrüstung",
                                    "ZimmerNr": "5",
                                    "ZimmerNrText": "  "
                                },
                                {
                                    "ZimmerID": "221",
                                    "EtagenID": "21",
                                    "Zimmer": "Büro Hausleitung",
                                    "ZimmerNr": "6",
                                    "ZimmerNrText": "  "
                                },
                                {
                                    "ZimmerID": "222",
                                    "EtagenID": "21",
                                    "Zimmer": "Bettenzentrale",
                                    "ZimmerNr": "7",
                                    "ZimmerNrText": "  "
                                },
                                {
                                    "ZimmerID": "223",
                                    "EtagenID": "21",
                                    "Zimmer": "Hebeanlage",
                                    "ZimmerNr": "8",
                                    "ZimmerNrText": "  "
                                },
                                {
                                    "ZimmerID": "224",
                                    "EtagenID": "21",
                                    "Zimmer": "Heizraum",
                                    "ZimmerNr": "9",
                                    "ZimmerNrText": "  "
                                },
                                {
                                    "ZimmerID": "225",
                                    "EtagenID": "21",
                                    "Zimmer": "Elektroverteilerraum",
                                    "ZimmerNr": "10",
                                    "ZimmerNrText": "  "
                                },
                                {
                                    "ZimmerID": "226",
                                    "EtagenID": "21",
                                    "Zimmer": "Büromittel",
                                    "ZimmerNr": "11",
                                    "ZimmerNrText": "  "
                                },
                                {
                                    "ZimmerID": "227",
                                    "EtagenID": "21",
                                    "Zimmer": "Flur West",
                                    "ZimmerNr": "12",
                                    "ZimmerNrText": "  "
                                },
                                {
                                    "ZimmerID": "228",
                                    "EtagenID": "21",
                                    "Zimmer": "Flur Anlieferung",
                                    "ZimmerNr": "13",
                                    "ZimmerNrText": "  "
                                },
                                {
                                    "ZimmerID": "229",
                                    "EtagenID": "21",
                                    "Zimmer": "Flur",
                                    "ZimmerNr": "14",
                                    "ZimmerNrText": "  "
                                },
                                {
                                    "ZimmerID": "230",
                                    "EtagenID": "21",
                                    "Zimmer": "Treppenraum",
                                    "ZimmerNr": "15",
                                    "ZimmerNrText": "  "
                                },
                                {
                                    "ZimmerID": "231",
                                    "EtagenID": "21",
                                    "Zimmer": "Patientenwaschmaschinenraum",
                                    "ZimmerNr": "16",
                                    "ZimmerNrText": "  "
                                },
                                {
                                    "ZimmerID": "232",
                                    "EtagenID": "21",
                                    "Zimmer": "WC Besucher Herren",
                                    "ZimmerNr": "17",
                                    "ZimmerNrText": "  "
                                },
                                {
                                    "ZimmerID": "233",
                                    "EtagenID": "21",
                                    "Zimmer": "WC Besucher Damen",
                                    "ZimmerNr": "18",
                                    "ZimmerNrText": "  "
                                },
                                {
                                    "ZimmerID": "234",
                                    "EtagenID": "21",
                                    "Zimmer": "Pflegemagazin",
                                    "ZimmerNr": "19",
                                    "ZimmerNrText": "  "
                                },
                                {
                                    "ZimmerID": "235",
                                    "EtagenID": "21",
                                    "Zimmer": "Magazin HW",
                                    "ZimmerNr": "20",
                                    "ZimmerNrText": "  "
                                },
                                {
                                    "ZimmerID": "236",
                                    "EtagenID": "21",
                                    "Zimmer": "Umkleide Damen",
                                    "ZimmerNr": "1",
                                    "ZimmerNrText": "  "
                                },
                                {
                                    "ZimmerID": "237",
                                    "EtagenID": "21",
                                    "Zimmer": "Umkleide Herren",
                                    "ZimmerNr": "2",
                                    "ZimmerNrText": "  "
                                },
                                {
                                    "ZimmerID": "238",
                                    "EtagenID": "21",
                                    "Zimmer": "Müllraum",
                                    "ZimmerNr": "3",
                                    "ZimmerNrText": "  "
                                },
                                {
                                    "ZimmerID": "239",
                                    "EtagenID": "21",
                                    "Zimmer": "Aussengelände Anlieferung",
                                    "ZimmerNr": "4",
                                    "ZimmerNrText": "  "
                                },
                                {
                                    "ZimmerID": "241",
                                    "EtagenID": "22",
                                    "Zimmer": "Patientenzimmer 1",
                                    "ZimmerNr": "1",
                                    "ZimmerNrText": "  "
                                },
                                {
                                    "ZimmerID": "242",
                                    "EtagenID": "22",
                                    "Zimmer": "Patientenzimmer 2",
                                    "ZimmerNr": "2",
                                    "ZimmerNrText": "  "
                                },
                                {
                                    "ZimmerID": "243",
                                    "EtagenID": "22",
                                    "Zimmer": "Patientenzimmer 3",
                                    "ZimmerNr": "3",
                                    "ZimmerNrText": "  "
                                },
                                {
                                    "ZimmerID": "244",
                                    "EtagenID": "22",
                                    "Zimmer": "Patientenzimmer 4",
                                    "ZimmerNr": "4",
                                    "ZimmerNrText": "  "
                                },
                                {
                                    "ZimmerID": "245",
                                    "EtagenID": "22",
                                    "Zimmer": "Besucherzimmer",
                                    "ZimmerNr": "5",
                                    "ZimmerNrText": "  "
                                },
                                {
                                    "ZimmerID": "246",
                                    "EtagenID": "22",
                                    "Zimmer": "Speisesaal",
                                    "ZimmerNr": "6",
                                    "ZimmerNrText": "  "
                                },
                                {
                                    "ZimmerID": "247",
                                    "EtagenID": "22",
                                    "Zimmer": "Verteilerküche",
                                    "ZimmerNr": "7",
                                    "ZimmerNrText": "  "
                                },
                                {
                                    "ZimmerID": "248",
                                    "EtagenID": "22",
                                    "Zimmer": "Patientenzimmer 5",
                                    "ZimmerNr": "8",
                                    "ZimmerNrText": "  "
                                },
                                {
                                    "ZimmerID": "249",
                                    "EtagenID": "22",
                                    "Zimmer": "Patientenzimmer 6 ",
                                    "ZimmerNr": "9",
                                    "ZimmerNrText": "  "
                                },
                                {
                                    "ZimmerID": "250",
                                    "EtagenID": "22",
                                    "Zimmer": "Patientenzimmer 7",
                                    "ZimmerNr": "10",
                                    "ZimmerNrText": "  "
                                },
                                {
                                    "ZimmerID": "251",
                                    "EtagenID": "22",
                                    "Zimmer": "Patientenzimmer 8",
                                    "ZimmerNr": "11",
                                    "ZimmerNrText": "  "
                                },
                                {
                                    "ZimmerID": "252",
                                    "EtagenID": "22",
                                    "Zimmer": "Patientenzimmer 9",
                                    "ZimmerNr": "12",
                                    "ZimmerNrText": "  "
                                },
                                {
                                    "ZimmerID": "253",
                                    "EtagenID": "22",
                                    "Zimmer": "Patientenzimmer 10",
                                    "ZimmerNr": "13",
                                    "ZimmerNrText": "  "
                                },
                                {
                                    "ZimmerID": "254",
                                    "EtagenID": "22",
                                    "Zimmer": "Arztzimmer groß",
                                    "ZimmerNr": "14",
                                    "ZimmerNrText": "  "
                                },
                                {
                                    "ZimmerID": "255",
                                    "EtagenID": "22",
                                    "Zimmer": "Arztzimmer klein",
                                    "ZimmerNr": "15",
                                    "ZimmerNrText": "  "
                                },
                                {
                                    "ZimmerID": "256",
                                    "EtagenID": "22",
                                    "Zimmer": "Werkraum",
                                    "ZimmerNr": "16",
                                    "ZimmerNrText": "  "
                                },
                                {
                                    "ZimmerID": "257",
                                    "EtagenID": "22",
                                    "Zimmer": "Putzkammer",
                                    "ZimmerNr": "17",
                                    "ZimmerNrText": "  "
                                },
                                {
                                    "ZimmerID": "258",
                                    "EtagenID": "22",
                                    "Zimmer": "Stationsbad",
                                    "ZimmerNr": "18",
                                    "ZimmerNrText": "  "
                                },
                                {
                                    "ZimmerID": "259",
                                    "EtagenID": "22",
                                    "Zimmer": "Garderobe",
                                    "ZimmerNr": "19",
                                    "ZimmerNrText": "  "
                                },
                                {
                                    "ZimmerID": "260",
                                    "EtagenID": "22",
                                    "Zimmer": "WC Mitarbeiter Herren",
                                    "ZimmerNr": "20",
                                    "ZimmerNrText": "  "
                                },
                                {
                                    "ZimmerID": "261",
                                    "EtagenID": "22",
                                    "Zimmer": "WC Mitarbeiter Damen",
                                    "ZimmerNr": "1",
                                    "ZimmerNrText": "  "
                                },
                                {
                                    "ZimmerID": "262",
                                    "EtagenID": "22",
                                    "Zimmer": "Stationszimmer",
                                    "ZimmerNr": "2",
                                    "ZimmerNrText": "  "
                                },
                                {
                                    "ZimmerID": "263",
                                    "EtagenID": "22",
                                    "Zimmer": "Schreibzimmer",
                                    "ZimmerNr": "3",
                                    "ZimmerNrText": "  "
                                },
                                {
                                    "ZimmerID": "264",
                                    "EtagenID": "22",
                                    "Zimmer": "Wickelraum",
                                    "ZimmerNr": "4",
                                    "ZimmerNrText": "  "
                                },
                                {
                                    "ZimmerID": "265",
                                    "EtagenID": "22",
                                    "Zimmer": "Schmutzraum",
                                    "ZimmerNr": "5",
                                    "ZimmerNrText": "  "
                                },
                                {
                                    "ZimmerID": "266",
                                    "EtagenID": "22",
                                    "Zimmer": "Teeküche",
                                    "ZimmerNr": "6",
                                    "ZimmerNrText": "  "
                                },
                                {
                                    "ZimmerID": "267",
                                    "EtagenID": "22",
                                    "Zimmer": "",
                                    "ZimmerNr": "NULL",
                                    "ZimmerNrText": "  "
                                },
                                {
                                    "ZimmerID": "268",
                                    "EtagenID": "22",
                                    "Zimmer": "",
                                    "ZimmerNr": "NULL",
                                    "ZimmerNrText": "  "
                                },
                                {
                                    "ZimmerID": "269",
                                    "EtagenID": "22",
                                    "Zimmer": "Patientenzimmer 11",
                                    "ZimmerNr": "7",
                                    "ZimmerNrText": "  "
                                },
                                {
                                    "ZimmerID": "270",
                                    "EtagenID": "22",
                                    "Zimmer": "Raucherbalkon",
                                    "ZimmerNr": "8",
                                    "ZimmerNrText": "  "
                                },
                                {
                                    "ZimmerID": "271",
                                    "EtagenID": "22",
                                    "Zimmer": "Gärtchen",
                                    "ZimmerNr": "9",
                                    "ZimmerNrText": "  "
                                },
                                {
                                    "ZimmerID": "272",
                                    "EtagenID": "22",
                                    "Zimmer": "Flur",
                                    "ZimmerNr": "10",
                                    "ZimmerNrText": "  "
                                },
                                {
                                    "ZimmerID": "273",
                                    "EtagenID": "22",
                                    "Zimmer": "Foyer",
                                    "ZimmerNr": "11",
                                    "ZimmerNrText": "  "
                                },
                                {
                                    "ZimmerID": "274",
                                    "EtagenID": "28",
                                    "Zimmer": "Sprachtherapie",
                                    "ZimmerNr": "1",
                                    "ZimmerNrText": "  "
                                },
                                {
                                    "ZimmerID": "275",
                                    "EtagenID": "28",
                                    "Zimmer": "Teeküche",
                                    "ZimmerNr": "2",
                                    "ZimmerNrText": "  "
                                },
                                {
                                    "ZimmerID": "276",
                                    "EtagenID": "28",
                                    "Zimmer": "WC `s",
                                    "ZimmerNr": "3",
                                    "ZimmerNrText": "  "
                                },
                                {
                                    "ZimmerID": "277",
                                    "EtagenID": "28",
                                    "Zimmer": "Stuhllager",
                                    "ZimmerNr": "4",
                                    "ZimmerNrText": "  "
                                },
                                {
                                    "ZimmerID": "278",
                                    "EtagenID": "28",
                                    "Zimmer": "Nebenraum Bühne",
                                    "ZimmerNr": "5",
                                    "ZimmerNrText": "  "
                                },
                                {
                                    "ZimmerID": "279",
                                    "EtagenID": "23",
                                    "Zimmer": "Patientenzimmer 1",
                                    "ZimmerNr": "1",
                                    "ZimmerNrText": "  "
                                },
                                {
                                    "ZimmerID": "280",
                                    "EtagenID": "23",
                                    "Zimmer": "Patientenzimmer 2",
                                    "ZimmerNr": "2",
                                    "ZimmerNrText": "  "
                                },
                                {
                                    "ZimmerID": "281",
                                    "EtagenID": "23",
                                    "Zimmer": "Patientenzimmer 3",
                                    "ZimmerNr": "3",
                                    "ZimmerNrText": "  "
                                },
                                {
                                    "ZimmerID": "282",
                                    "EtagenID": "23",
                                    "Zimmer": "Patientenzimmer 4",
                                    "ZimmerNr": "4",
                                    "ZimmerNrText": "  "
                                },
                                {
                                    "ZimmerID": "283",
                                    "EtagenID": "23",
                                    "Zimmer": "Arztzimmer",
                                    "ZimmerNr": "5",
                                    "ZimmerNrText": "  "
                                },
                                {
                                    "ZimmerID": "284",
                                    "EtagenID": "23",
                                    "Zimmer": "Speisesaal",
                                    "ZimmerNr": "6",
                                    "ZimmerNrText": "  "
                                },
                                {
                                    "ZimmerID": "285",
                                    "EtagenID": "23",
                                    "Zimmer": "Verteilerküche",
                                    "ZimmerNr": "7",
                                    "ZimmerNrText": "  "
                                },
                                {
                                    "ZimmerID": "286",
                                    "EtagenID": "23",
                                    "Zimmer": "Patientenzimmer 5",
                                    "ZimmerNr": "8",
                                    "ZimmerNrText": "  "
                                },
                                {
                                    "ZimmerID": "287",
                                    "EtagenID": "23",
                                    "Zimmer": "Patientenzimmer 6",
                                    "ZimmerNr": "9",
                                    "ZimmerNrText": "  "
                                },
                                {
                                    "ZimmerID": "288",
                                    "EtagenID": "23",
                                    "Zimmer": "Patientenzimmer 7",
                                    "ZimmerNr": "10",
                                    "ZimmerNrText": "  "
                                },
                                {
                                    "ZimmerID": "289",
                                    "EtagenID": "23",
                                    "Zimmer": "Patientenzimmer 8",
                                    "ZimmerNr": "11",
                                    "ZimmerNrText": "  "
                                },
                                {
                                    "ZimmerID": "290",
                                    "EtagenID": "23",
                                    "Zimmer": "Patientenzimmer 9",
                                    "ZimmerNr": "12",
                                    "ZimmerNrText": "  "
                                },
                                {
                                    "ZimmerID": "291",
                                    "EtagenID": "23",
                                    "Zimmer": "Patientenzimmer 10",
                                    "ZimmerNr": "13",
                                    "ZimmerNrText": "  "
                                },
                                {
                                    "ZimmerID": "292",
                                    "EtagenID": "23",
                                    "Zimmer": "Arztzimmer groß",
                                    "ZimmerNr": "14",
                                    "ZimmerNrText": "  "
                                },
                                {
                                    "ZimmerID": "293",
                                    "EtagenID": "23",
                                    "Zimmer": "Arztzimmer klein",
                                    "ZimmerNr": "15",
                                    "ZimmerNrText": "  "
                                },
                                {
                                    "ZimmerID": "294",
                                    "EtagenID": "23",
                                    "Zimmer": "Werkraum",
                                    "ZimmerNr": "16",
                                    "ZimmerNrText": "  "
                                },
                                {
                                    "ZimmerID": "295",
                                    "EtagenID": "23",
                                    "Zimmer": "Putzkammer",
                                    "ZimmerNr": "17",
                                    "ZimmerNrText": "  "
                                },
                                {
                                    "ZimmerID": "296",
                                    "EtagenID": "23",
                                    "Zimmer": "Stationsbad",
                                    "ZimmerNr": "18",
                                    "ZimmerNrText": "  "
                                },
                                {
                                    "ZimmerID": "297",
                                    "EtagenID": "23",
                                    "Zimmer": "Garderobe",
                                    "ZimmerNr": "19",
                                    "ZimmerNrText": "  "
                                },
                                {
                                    "ZimmerID": "298",
                                    "EtagenID": "23",
                                    "Zimmer": "WC MItarbeiter Herren",
                                    "ZimmerNr": "20",
                                    "ZimmerNrText": "  "
                                },
                                {
                                    "ZimmerID": "299",
                                    "EtagenID": "23",
                                    "Zimmer": "WC Mitarbeiter Damen ",
                                    "ZimmerNr": "21",
                                    "ZimmerNrText": "  "
                                },
                                {
                                    "ZimmerID": "300",
                                    "EtagenID": "23",
                                    "Zimmer": "Stationszimmer",
                                    "ZimmerNr": "22",
                                    "ZimmerNrText": "  "
                                },
                                {
                                    "ZimmerID": "301",
                                    "EtagenID": "23",
                                    "Zimmer": "Schreibzimmer",
                                    "ZimmerNr": "23",
                                    "ZimmerNrText": "  "
                                },
                                {
                                    "ZimmerID": "302",
                                    "EtagenID": "23",
                                    "Zimmer": "Wickelraum",
                                    "ZimmerNr": "24",
                                    "ZimmerNrText": "  "
                                },
                                {
                                    "ZimmerID": "303",
                                    "EtagenID": "23",
                                    "Zimmer": "Schmutzraum",
                                    "ZimmerNr": "25",
                                    "ZimmerNrText": "  "
                                },
                                {
                                    "ZimmerID": "304",
                                    "EtagenID": "23",
                                    "Zimmer": "Teeküche",
                                    "ZimmerNr": "26",
                                    "ZimmerNrText": "  "
                                },
                                {
                                    "ZimmerID": "305",
                                    "EtagenID": "23",
                                    "Zimmer": "",
                                    "ZimmerNr": "NULL",
                                    "ZimmerNrText": "  "
                                },
                                {
                                    "ZimmerID": "306",
                                    "EtagenID": "23",
                                    "Zimmer": "",
                                    "ZimmerNr": "NULL",
                                    "ZimmerNrText": "   "
                                },
                                {
                                    "ZimmerID": "307",
                                    "EtagenID": "23",
                                    "Zimmer": "Patientenzimmer 11",
                                    "ZimmerNr": "27",
                                    "ZimmerNrText": "  "
                                },
                                {
                                    "ZimmerID": "308",
                                    "EtagenID": "23",
                                    "Zimmer": " Balkon",
                                    "ZimmerNr": "28",
                                    "ZimmerNrText": "  "
                                },
                                {
                                    "ZimmerID": "309",
                                    "EtagenID": "23",
                                    "Zimmer": "Flur",
                                    "ZimmerNr": "29",
                                    "ZimmerNrText": "  "
                                },
                                {
                                    "ZimmerID": "310",
                                    "EtagenID": "23",
                                    "Zimmer": "Foyer",
                                    "ZimmerNr": "30",
                                    "ZimmerNrText": "  "
                                },
                                {
                                    "ZimmerID": "311",
                                    "EtagenID": "23",
                                    "Zimmer": "",
                                    "ZimmerNr": "33",
                                    "ZimmerNrText": "  "
                                },
                                {
                                    "ZimmerID": "312",
                                    "EtagenID": "24",
                                    "Zimmer": "Patientenzimmer 1",
                                    "ZimmerNr": "1",
                                    "ZimmerNrText": "  "
                                },
                                {
                                    "ZimmerID": "313",
                                    "EtagenID": "24",
                                    "Zimmer": "Patientenzimmer 2",
                                    "ZimmerNr": "2",
                                    "ZimmerNrText": "  "
                                },
                                {
                                    "ZimmerID": "314",
                                    "EtagenID": "24",
                                    "Zimmer": "Patientenzimmer 3",
                                    "ZimmerNr": "3",
                                    "ZimmerNrText": "  "
                                },
                                {
                                    "ZimmerID": "315",
                                    "EtagenID": "24",
                                    "Zimmer": "Patientenzimmer 4",
                                    "ZimmerNr": "4",
                                    "ZimmerNrText": "  "
                                },
                                {
                                    "ZimmerID": "316",
                                    "EtagenID": "24",
                                    "Zimmer": "Arztzimmer",
                                    "ZimmerNr": "5",
                                    "ZimmerNrText": "  "
                                },
                                {
                                    "ZimmerID": "317",
                                    "EtagenID": "24",
                                    "Zimmer": "Speisesaal",
                                    "ZimmerNr": "6",
                                    "ZimmerNrText": "  "
                                },
                                {
                                    "ZimmerID": "318",
                                    "EtagenID": "24",
                                    "Zimmer": "Teeküche",
                                    "ZimmerNr": "7",
                                    "ZimmerNrText": "  "
                                },
                                {
                                    "ZimmerID": "319",
                                    "EtagenID": "24",
                                    "Zimmer": "Patientenzimmer 5",
                                    "ZimmerNr": "8",
                                    "ZimmerNrText": "  "
                                },
                                {
                                    "ZimmerID": "320",
                                    "EtagenID": "24",
                                    "Zimmer": "Patientenzimmer 6",
                                    "ZimmerNr": "9",
                                    "ZimmerNrText": "  "
                                },
                                {
                                    "ZimmerID": "321",
                                    "EtagenID": "24",
                                    "Zimmer": "Patientenzimmer 7",
                                    "ZimmerNr": "10",
                                    "ZimmerNrText": "  "
                                },
                                {
                                    "ZimmerID": "322",
                                    "EtagenID": "24",
                                    "Zimmer": "Patientenzimmer 8",
                                    "ZimmerNr": "11",
                                    "ZimmerNrText": "  "
                                },
                                {
                                    "ZimmerID": "323",
                                    "EtagenID": "24",
                                    "Zimmer": "Patientenzimmer 9",
                                    "ZimmerNr": "12",
                                    "ZimmerNrText": "  "
                                },
                                {
                                    "ZimmerID": "324",
                                    "EtagenID": "24",
                                    "Zimmer": "Patientenzimmer 10",
                                    "ZimmerNr": "13",
                                    "ZimmerNrText": "  "
                                },
                                {
                                    "ZimmerID": "325",
                                    "EtagenID": "24",
                                    "Zimmer": "Gemeinschaftsraum",
                                    "ZimmerNr": "14",
                                    "ZimmerNrText": "  "
                                },
                                {
                                    "ZimmerID": "326",
                                    "EtagenID": "24",
                                    "Zimmer": "Arztzimmer klein",
                                    "ZimmerNr": "15",
                                    "ZimmerNrText": "  "
                                },
                                {
                                    "ZimmerID": "327",
                                    "EtagenID": "24",
                                    "Zimmer": "Arztzimmer groß",
                                    "ZimmerNr": "16",
                                    "ZimmerNrText": "  "
                                },
                                {
                                    "ZimmerID": "328",
                                    "EtagenID": "24",
                                    "Zimmer": "Putzkammer",
                                    "ZimmerNr": "17",
                                    "ZimmerNrText": "  "
                                },
                                {
                                    "ZimmerID": "329",
                                    "EtagenID": "24",
                                    "Zimmer": "Stationsbad",
                                    "ZimmerNr": "18",
                                    "ZimmerNrText": "  "
                                },
                                {
                                    "ZimmerID": "330",
                                    "EtagenID": "24",
                                    "Zimmer": "Garderobe",
                                    "ZimmerNr": "19",
                                    "ZimmerNrText": "  "
                                },
                                {
                                    "ZimmerID": "331",
                                    "EtagenID": "24",
                                    "Zimmer": "WC Mitarbeiter Herren",
                                    "ZimmerNr": "20",
                                    "ZimmerNrText": "  "
                                },
                                {
                                    "ZimmerID": "332",
                                    "EtagenID": "24",
                                    "Zimmer": "WC Mitarbeiter Damen",
                                    "ZimmerNr": "21",
                                    "ZimmerNrText": "  "
                                },
                                {
                                    "ZimmerID": "333",
                                    "EtagenID": "24",
                                    "Zimmer": "Stationszimmer",
                                    "ZimmerNr": "22",
                                    "ZimmerNrText": "  "
                                },
                                {
                                    "ZimmerID": "334",
                                    "EtagenID": "24",
                                    "Zimmer": "Schreibzimmer",
                                    "ZimmerNr": "23",
                                    "ZimmerNrText": "  "
                                },
                                {
                                    "ZimmerID": "335",
                                    "EtagenID": "24",
                                    "Zimmer": "Schmutzraum",
                                    "ZimmerNr": "24",
                                    "ZimmerNrText": "  "
                                },
                                {
                                    "ZimmerID": "336",
                                    "EtagenID": "24",
                                    "Zimmer": "Geräteraum",
                                    "ZimmerNr": "25",
                                    "ZimmerNrText": "  "
                                },
                                {
                                    "ZimmerID": "337",
                                    "EtagenID": "24",
                                    "Zimmer": "Äußere Anwendungen",
                                    "ZimmerNr": "26",
                                    "ZimmerNrText": "  "
                                },
                                {
                                    "ZimmerID": "338",
                                    "EtagenID": "24",
                                    "Zimmer": "",
                                    "ZimmerNr": "NULL",
                                    "ZimmerNrText": "   "
                                },
                                {
                                    "ZimmerID": "339",
                                    "EtagenID": "24",
                                    "Zimmer": "",
                                    "ZimmerNr": "NULL",
                                    "ZimmerNrText": "  "
                                },
                                {
                                    "ZimmerID": "340",
                                    "EtagenID": "24",
                                    "Zimmer": "Patientenzimmer 11",
                                    "ZimmerNr": "27",
                                    "ZimmerNrText": "  "
                                },
                                {
                                    "ZimmerID": "341",
                                    "EtagenID": "24",
                                    "Zimmer": "Balkon",
                                    "ZimmerNr": "28",
                                    "ZimmerNrText": "  "
                                },
                                {
                                    "ZimmerID": "342",
                                    "EtagenID": "24",
                                    "Zimmer": "Flur",
                                    "ZimmerNr": "29",
                                    "ZimmerNrText": "  "
                                },
                                {
                                    "ZimmerID": "343",
                                    "EtagenID": "24",
                                    "Zimmer": "Foyer",
                                    "ZimmerNr": "30",
                                    "ZimmerNrText": "  "
                                },
                                {
                                    "ZimmerID": "344",
                                    "EtagenID": "24",
                                    "Zimmer": "",
                                    "ZimmerNr": "33",
                                    "ZimmerNrText": "  "
                                },
                                {
                                    "ZimmerID": "345",
                                    "EtagenID": "25",
                                    "Zimmer": "Lüftungszentrale",
                                    "ZimmerNr": "1",
                                    "ZimmerNrText": "  "
                                },
                                {
                                    "ZimmerID": "346",
                                    "EtagenID": "25",
                                    "Zimmer": "Pflegebereitschaftsraum",
                                    "ZimmerNr": "2",
                                    "ZimmerNrText": "  "
                                },
                                {
                                    "ZimmerID": "347",
                                    "EtagenID": "25",
                                    "Zimmer": "Speicher",
                                    "ZimmerNr": "3",
                                    "ZimmerNrText": "  "
                                },
                                {
                                    "ZimmerID": "348",
                                    "EtagenID": "25",
                                    "Zimmer": "",
                                    "ZimmerNr": "4",
                                    "ZimmerNrText": "NULL"
                                },
                                {
                                    "ZimmerID": "349",
                                    "EtagenID": "27",
                                    "Zimmer": "Musiktherapie",
                                    "ZimmerNr": "1",
                                    "ZimmerNrText": "  "
                                },
                                {
                                    "ZimmerID": "350",
                                    "EtagenID": "27",
                                    "Zimmer": "Büro Funktionsoberarzt",
                                    "ZimmerNr": "2",
                                    "ZimmerNrText": "  "
                                },
                                {
                                    "ZimmerID": "351",
                                    "EtagenID": "27",
                                    "Zimmer": "Büro Leitung Therapie",
                                    "ZimmerNr": "3",
                                    "ZimmerNrText": "  "
                                },
                                {
                                    "ZimmerID": "352",
                                    "EtagenID": "27",
                                    "Zimmer": "Büro Arzt Terra",
                                    "ZimmerNr": "4",
                                    "ZimmerNrText": "  "
                                },
                                {
                                    "ZimmerID": "353",
                                    "EtagenID": "27",
                                    "Zimmer": "Physiotherapie",
                                    "ZimmerNr": "5",
                                    "ZimmerNrText": "  "
                                },
                                {
                                    "ZimmerID": "354",
                                    "EtagenID": "27",
                                    "Zimmer": "Büro ",
                                    "ZimmerNr": "6",
                                    "ZimmerNrText": "  "
                                },
                                {
                                    "ZimmerID": "355",
                                    "EtagenID": "27",
                                    "Zimmer": "Büro ",
                                    "ZimmerNr": "7",
                                    "ZimmerNrText": "  "
                                },
                                {
                                    "ZimmerID": "356",
                                    "EtagenID": "27",
                                    "Zimmer": "Büro",
                                    "ZimmerNr": "8",
                                    "ZimmerNrText": "  "
                                },
                                {
                                    "ZimmerID": "357",
                                    "EtagenID": "27",
                                    "Zimmer": "Büro",
                                    "ZimmerNr": "9",
                                    "ZimmerNrText": "  "
                                },
                                {
                                    "ZimmerID": "358",
                                    "EtagenID": "27",
                                    "Zimmer": "KleinesT reppenhaus",
                                    "ZimmerNr": "10",
                                    "ZimmerNrText": "  "
                                },
                                {
                                    "ZimmerID": "359",
                                    "EtagenID": "27",
                                    "Zimmer": "Weberei",
                                    "ZimmerNr": "11",
                                    "ZimmerNrText": "  "
                                },
                                {
                                    "ZimmerID": "360",
                                    "EtagenID": "27",
                                    "Zimmer": "Zugang Weberei",
                                    "ZimmerNr": "12",
                                    "ZimmerNrText": "  "
                                },
                                {
                                    "ZimmerID": "361",
                                    "EtagenID": "27",
                                    "Zimmer": "Putzkammer",
                                    "ZimmerNr": "13",
                                    "ZimmerNrText": "  "
                                },
                                {
                                    "ZimmerID": "362",
                                    "EtagenID": "27",
                                    "Zimmer": "Putzkammer",
                                    "ZimmerNr": "14",
                                    "ZimmerNrText": "  "
                                },
                                {
                                    "ZimmerID": "363",
                                    "EtagenID": "28",
                                    "Zimmer": "Bühne",
                                    "ZimmerNr": "1",
                                    "ZimmerNrText": "  "
                                },
                                {
                                    "ZimmerID": "364",
                                    "EtagenID": "28",
                                    "Zimmer": "Nebenraum",
                                    "ZimmerNr": "2",
                                    "ZimmerNrText": "  "
                                },
                                {
                                    "ZimmerID": "365",
                                    "EtagenID": "28",
                                    "Zimmer": "WC",
                                    "ZimmerNr": "3",
                                    "ZimmerNrText": "  "
                                },
                                {
                                    "ZimmerID": "366",
                                    "EtagenID": "28",
                                    "Zimmer": "Treppenhaus hinten",
                                    "ZimmerNr": "4",
                                    "ZimmerNrText": "  "
                                },
                                {
                                    "ZimmerID": "367",
                                    "EtagenID": "28",
                                    "Zimmer": "Saal",
                                    "ZimmerNr": "5",
                                    "ZimmerNrText": "  "
                                },
                                {
                                    "ZimmerID": "368",
                                    "EtagenID": "28",
                                    "Zimmer": "Foyer / Garderobe",
                                    "ZimmerNr": "6",
                                    "ZimmerNrText": "  "
                                },
                                {
                                    "ZimmerID": "374",
                                    "EtagenID": "29",
                                    "Zimmer": "Magazin",
                                    "ZimmerNr": "1",
                                    "ZimmerNrText": "  "
                                },
                                {
                                    "ZimmerID": "375",
                                    "EtagenID": "29",
                                    "Zimmer": "Aufzug",
                                    "ZimmerNr": "2",
                                    "ZimmerNrText": "  "
                                },
                                {
                                    "ZimmerID": "376",
                                    "EtagenID": "29",
                                    "Zimmer": "Lager ( alter TK)",
                                    "ZimmerNr": "3",
                                    "ZimmerNrText": "  "
                                },
                                {
                                    "ZimmerID": "377",
                                    "EtagenID": "29",
                                    "Zimmer": "Umkleide Frauen",
                                    "ZimmerNr": "4",
                                    "ZimmerNrText": "  "
                                },
                                {
                                    "ZimmerID": "378",
                                    "EtagenID": "29",
                                    "Zimmer": "",
                                    "ZimmerNr": "5",
                                    "ZimmerNrText": "  "
                                },
                                {
                                    "ZimmerID": "379",
                                    "EtagenID": "29",
                                    "Zimmer": "Leergutlager",
                                    "ZimmerNr": "6",
                                    "ZimmerNrText": "  "
                                },
                                {
                                    "ZimmerID": "380",
                                    "EtagenID": "29",
                                    "Zimmer": "Treppenaufgang",
                                    "ZimmerNr": "7",
                                    "ZimmerNrText": "  "
                                },
                                {
                                    "ZimmerID": "381",
                                    "EtagenID": "29",
                                    "Zimmer": "Lager ( Bananenkeller )",
                                    "ZimmerNr": "8",
                                    "ZimmerNrText": "  "
                                },
                                {
                                    "ZimmerID": "382",
                                    "EtagenID": "29",
                                    "Zimmer": "Heizraum",
                                    "ZimmerNr": "9",
                                    "ZimmerNrText": "  "
                                },
                                {
                                    "ZimmerID": "383",
                                    "EtagenID": "29",
                                    "Zimmer": "Flur",
                                    "ZimmerNr": "10",
                                    "ZimmerNrText": "  "
                                },
                                {
                                    "ZimmerID": "384",
                                    "EtagenID": "29",
                                    "Zimmer": "Schmutzraum",
                                    "ZimmerNr": "11",
                                    "ZimmerNrText": "  "
                                },
                                {
                                    "ZimmerID": "385",
                                    "EtagenID": "29",
                                    "Zimmer": "Kühlraum ( Kartoffeln) ",
                                    "ZimmerNr": "12",
                                    "ZimmerNrText": "  "
                                },
                                {
                                    "ZimmerID": "386",
                                    "EtagenID": "29",
                                    "Zimmer": "Kühlraum ( Gemüse )",
                                    "ZimmerNr": "13",
                                    "ZimmerNrText": "  "
                                },
                                {
                                    "ZimmerID": "387",
                                    "EtagenID": "29",
                                    "Zimmer": "Aufenthaltsraum",
                                    "ZimmerNr": "14",
                                    "ZimmerNrText": "  "
                                },
                                {
                                    "ZimmerID": "388",
                                    "EtagenID": "29",
                                    "Zimmer": "Eingangsbereich",
                                    "ZimmerNr": "15",
                                    "ZimmerNrText": "  "
                                },
                                {
                                    "ZimmerID": "389",
                                    "EtagenID": "29",
                                    "Zimmer": "Garage",
                                    "ZimmerNr": "1",
                                    "ZimmerNrText": "  "
                                },
                                {
                                    "ZimmerID": "390",
                                    "EtagenID": "30",
                                    "Zimmer": "Topfspüle ",
                                    "ZimmerNr": "1",
                                    "ZimmerNrText": "  "
                                },
                                {
                                    "ZimmerID": "391",
                                    "EtagenID": "30",
                                    "Zimmer": "Backstube",
                                    "ZimmerNr": "2",
                                    "ZimmerNrText": "  "
                                },
                                {
                                    "ZimmerID": "392",
                                    "EtagenID": "30",
                                    "Zimmer": "Brotkammer",
                                    "ZimmerNr": "3",
                                    "ZimmerNrText": "  "
                                },
                                {
                                    "ZimmerID": "393",
                                    "EtagenID": "30",
                                    "Zimmer": "Kalte Küche",
                                    "ZimmerNr": "4",
                                    "ZimmerNrText": "  "
                                },
                                {
                                    "ZimmerID": "394",
                                    "EtagenID": "30",
                                    "Zimmer": "Kühlraum 1",
                                    "ZimmerNr": "5",
                                    "ZimmerNrText": "  "
                                },
                                {
                                    "ZimmerID": "395",
                                    "EtagenID": "30",
                                    "Zimmer": "Kühlraum 2",
                                    "ZimmerNr": "6",
                                    "ZimmerNrText": "  "
                                },
                                {
                                    "ZimmerID": "396",
                                    "EtagenID": "30",
                                    "Zimmer": "Kühlschrank",
                                    "ZimmerNr": "7",
                                    "ZimmerNrText": "  "
                                },
                                {
                                    "ZimmerID": "397",
                                    "EtagenID": "30",
                                    "Zimmer": "Umkleide Herren",
                                    "ZimmerNr": "8",
                                    "ZimmerNrText": "  "
                                },
                                {
                                    "ZimmerID": "398",
                                    "EtagenID": "30",
                                    "Zimmer": "Treppenaufgang",
                                    "ZimmerNr": "9",
                                    "ZimmerNrText": "  "
                                },
                                {
                                    "ZimmerID": "399",
                                    "EtagenID": "30",
                                    "Zimmer": "Magazin",
                                    "ZimmerNr": "10",
                                    "ZimmerNrText": "  "
                                },
                                {
                                    "ZimmerID": "400",
                                    "EtagenID": "30",
                                    "Zimmer": "Hauptküche ",
                                    "ZimmerNr": "11",
                                    "ZimmerNrText": "  "
                                },
                                {
                                    "ZimmerID": "401",
                                    "EtagenID": "30",
                                    "Zimmer": "Lager Thermoboxen",
                                    "ZimmerNr": "12",
                                    "ZimmerNrText": "  "
                                },
                                {
                                    "ZimmerID": "402",
                                    "EtagenID": "30",
                                    "Zimmer": "Stellplatz Essenswägen",
                                    "ZimmerNr": "13",
                                    "ZimmerNrText": "  "
                                },
                                {
                                    "ZimmerID": "403",
                                    "EtagenID": "30",
                                    "Zimmer": "Stellplatz E- Wagen",
                                    "ZimmerNr": "14",
                                    "ZimmerNrText": "  "
                                },
                                {
                                    "ZimmerID": "404",
                                    "EtagenID": "30",
                                    "Zimmer": "Gemüseküche",
                                    "ZimmerNr": "15",
                                    "ZimmerNrText": "  "
                                },
                                {
                                    "ZimmerID": "405",
                                    "EtagenID": "30",
                                    "Zimmer": "Putzkammer",
                                    "ZimmerNr": "16",
                                    "ZimmerNrText": "  "
                                },
                                {
                                    "ZimmerID": "406",
                                    "EtagenID": "30",
                                    "Zimmer": "Flur",
                                    "ZimmerNr": "17",
                                    "ZimmerNrText": "  "
                                },
                                {
                                    "ZimmerID": "407",
                                    "EtagenID": "30",
                                    "Zimmer": "Büro Leitung Speiseversorgung",
                                    "ZimmerNr": "18",
                                    "ZimmerNrText": "  "
                                },
                                {
                                    "ZimmerID": "410",
                                    "EtagenID": "31",
                                    "Zimmer": "Eingangsbereich",
                                    "ZimmerNr": "1",
                                    "ZimmerNrText": "  "
                                },
                                {
                                    "ZimmerID": "411",
                                    "EtagenID": "31",
                                    "Zimmer": "Galeria",
                                    "ZimmerNr": "2",
                                    "ZimmerNrText": "  "
                                },
                                {
                                    "ZimmerID": "412",
                                    "EtagenID": "31",
                                    "Zimmer": "WC`s",
                                    "ZimmerNr": "3",
                                    "ZimmerNrText": "  "
                                },
                                {
                                    "ZimmerID": "413",
                                    "EtagenID": "31",
                                    "Zimmer": "Anrichte",
                                    "ZimmerNr": "4",
                                    "ZimmerNrText": "  "
                                },
                                {
                                    "ZimmerID": "414",
                                    "EtagenID": "31",
                                    "Zimmer": "Spülküche",
                                    "ZimmerNr": "5",
                                    "ZimmerNrText": "  "
                                },
                                {
                                    "ZimmerID": "415",
                                    "EtagenID": "31",
                                    "Zimmer": "Schulungsraum",
                                    "ZimmerNr": "6",
                                    "ZimmerNrText": "  "
                                },
                                {
                                    "ZimmerID": "416",
                                    "EtagenID": "31",
                                    "Zimmer": "Garderobe",
                                    "ZimmerNr": "7",
                                    "ZimmerNrText": "  "
                                },
                                {
                                    "ZimmerID": "417",
                                    "EtagenID": "31",
                                    "Zimmer": "WC´s",
                                    "ZimmerNr": "8",
                                    "ZimmerNrText": "  "
                                },
                                {
                                    "ZimmerID": "418",
                                    "EtagenID": "31",
                                    "Zimmer": "Aussenbereich",
                                    "ZimmerNr": "9",
                                    "ZimmerNrText": "  "
                                },
                                {
                                    "ZimmerID": "419",
                                    "EtagenID": "32",
                                    "Zimmer": "Oberstübchen",
                                    "ZimmerNr": "1",
                                    "ZimmerNrText": "  "
                                },
                                {
                                    "ZimmerID": "420",
                                    "EtagenID": "32",
                                    "Zimmer": "Speicher",
                                    "ZimmerNr": "2",
                                    "ZimmerNrText": "  "
                                },
                                {
                                    "ZimmerID": "421",
                                    "EtagenID": "32",
                                    "Zimmer": "Treppe",
                                    "ZimmerNr": "3",
                                    "ZimmerNrText": "  "
                                },
                                {
                                    "ZimmerID": "422",
                                    "EtagenID": "45",
                                    "Zimmer": "Eingangsbereich ",
                                    "ZimmerNr": "1",
                                    "ZimmerNrText": "  "
                                },
                                {
                                    "ZimmerID": "423",
                                    "EtagenID": "45",
                                    "Zimmer": "Trainingsraum",
                                    "ZimmerNr": "2",
                                    "ZimmerNrText": "  "
                                },
                                {
                                    "ZimmerID": "424",
                                    "EtagenID": "45",
                                    "Zimmer": "Schreinerei Bankraum",
                                    "ZimmerNr": "3",
                                    "ZimmerNrText": "  "
                                },
                                {
                                    "ZimmerID": "425",
                                    "EtagenID": "45",
                                    "Zimmer": "Holzlager Freiraum",
                                    "ZimmerNr": "4",
                                    "ZimmerNrText": "  "
                                },
                                {
                                    "ZimmerID": "426",
                                    "EtagenID": "45",
                                    "Zimmer": "Elektroverteilerraum",
                                    "ZimmerNr": "5",
                                    "ZimmerNrText": "  "
                                },
                                {
                                    "ZimmerID": "427",
                                    "EtagenID": "45",
                                    "Zimmer": "Batterieraum",
                                    "ZimmerNr": "6",
                                    "ZimmerNrText": "  "
                                },
                                {
                                    "ZimmerID": "428",
                                    "EtagenID": "45",
                                    "Zimmer": "Heizungsraum",
                                    "ZimmerNr": "7",
                                    "ZimmerNrText": "  "
                                },
                                {
                                    "ZimmerID": "429",
                                    "EtagenID": "45",
                                    "Zimmer": "Umkleide / WC",
                                    "ZimmerNr": "8",
                                    "ZimmerNrText": "  "
                                },
                                {
                                    "ZimmerID": "430",
                                    "EtagenID": "45",
                                    "Zimmer": "WC",
                                    "ZimmerNr": "9",
                                    "ZimmerNrText": "  "
                                },
                                {
                                    "ZimmerID": "431",
                                    "EtagenID": "46",
                                    "Zimmer": "Flur",
                                    "ZimmerNr": "1",
                                    "ZimmerNrText": "  "
                                },
                                {
                                    "ZimmerID": "432",
                                    "EtagenID": "46",
                                    "Zimmer": "Büro Flechten",
                                    "ZimmerNr": "2",
                                    "ZimmerNrText": "  "
                                },
                                {
                                    "ZimmerID": "433",
                                    "EtagenID": "46",
                                    "Zimmer": "Flechten / Schnitzen",
                                    "ZimmerNr": "3",
                                    "ZimmerNrText": "  "
                                },
                                {
                                    "ZimmerID": "434",
                                    "EtagenID": "46",
                                    "Zimmer": "Tonraum",
                                    "ZimmerNr": "4",
                                    "ZimmerNrText": "  "
                                },
                                {
                                    "ZimmerID": "435",
                                    "EtagenID": "46",
                                    "Zimmer": "Kompressorraum",
                                    "ZimmerNr": "5",
                                    "ZimmerNrText": "  "
                                },
                                {
                                    "ZimmerID": "436",
                                    "EtagenID": "46",
                                    "Zimmer": "Brennraum",
                                    "ZimmerNr": "6",
                                    "ZimmerNrText": "  "
                                },
                                {
                                    "ZimmerID": "437",
                                    "EtagenID": "46",
                                    "Zimmer": "Töpferei",
                                    "ZimmerNr": "7",
                                    "ZimmerNrText": "  "
                                },
                                {
                                    "ZimmerID": "438",
                                    "EtagenID": "46",
                                    "Zimmer": "Gipsplatz",
                                    "ZimmerNr": "8",
                                    "ZimmerNrText": "  "
                                },
                                {
                                    "ZimmerID": "439",
                                    "EtagenID": "46",
                                    "Zimmer": "Büro Töpferei",
                                    "ZimmerNr": "9",
                                    "ZimmerNrText": "  "
                                },
                                {
                                    "ZimmerID": "440",
                                    "EtagenID": "46",
                                    "Zimmer": "Malraum",
                                    "ZimmerNr": "10",
                                    "ZimmerNrText": "  "
                                },
                                {
                                    "ZimmerID": "441",
                                    "EtagenID": "46",
                                    "Zimmer": "Büro Malen",
                                    "ZimmerNr": "11",
                                    "ZimmerNrText": "  "
                                },
                                {
                                    "ZimmerID": "442",
                                    "EtagenID": "46",
                                    "Zimmer": "Umkleide Personal",
                                    "ZimmerNr": "12",
                                    "ZimmerNrText": "  "
                                },
                                {
                                    "ZimmerID": "443",
                                    "EtagenID": "46",
                                    "Zimmer": "WC Mitarbeiter",
                                    "ZimmerNr": "13",
                                    "ZimmerNrText": "  "
                                },
                                {
                                    "ZimmerID": "444",
                                    "EtagenID": "46",
                                    "Zimmer": "WC  Damen",
                                    "ZimmerNr": "14",
                                    "ZimmerNrText": "  "
                                },
                                {
                                    "ZimmerID": "445",
                                    "EtagenID": "46",
                                    "Zimmer": "WC Herren",
                                    "ZimmerNr": "15",
                                    "ZimmerNrText": "  "
                                },
                                {
                                    "ZimmerID": "446",
                                    "EtagenID": "46",
                                    "Zimmer": "Putzkammer",
                                    "ZimmerNr": "1",
                                    "ZimmerNrText": "  "
                                },
                                {
                                    "ZimmerID": "447",
                                    "EtagenID": "46",
                                    "Zimmer": "Aussenbereich",
                                    "ZimmerNr": "1",
                                    "ZimmerNrText": "  "
                                },
                                {
                                    "ZimmerID": "448",
                                    "EtagenID": "1",
                                    "Zimmer": "Armaturenraum",
                                    "ZimmerNr": "1",
                                    "ZimmerNrText": "  "
                                },
                                {
                                    "ZimmerID": "449",
                                    "EtagenID": "1",
                                    "Zimmer": "Archiv Personalbuchhaltung",
                                    "ZimmerNr": "2",
                                    "ZimmerNrText": "  "
                                },
                                {
                                    "ZimmerID": "450",
                                    "EtagenID": "1",
                                    "Zimmer": "WC",
                                    "ZimmerNr": "3",
                                    "ZimmerNrText": "  "
                                },
                                {
                                    "ZimmerID": "451",
                                    "EtagenID": "1",
                                    "Zimmer": "Archiv Verwaltung",
                                    "ZimmerNr": "4",
                                    "ZimmerNrText": "  "
                                },
                                {
                                    "ZimmerID": "452",
                                    "EtagenID": "1",
                                    "Zimmer": "Bad",
                                    "ZimmerNr": "5",
                                    "ZimmerNrText": "  "
                                },
                                {
                                    "ZimmerID": "453",
                                    "EtagenID": "1",
                                    "Zimmer": "Büro antroposophischer Pflegebeauftragter",
                                    "ZimmerNr": "6",
                                    "ZimmerNrText": "  "
                                },
                                {
                                    "ZimmerID": "454",
                                    "EtagenID": "1",
                                    "Zimmer": "Flur Nord",
                                    "ZimmerNr": "7",
                                    "ZimmerNrText": "  "
                                },
                                {
                                    "ZimmerID": "455",
                                    "EtagenID": "1",
                                    "Zimmer": "Flur Süd",
                                    "ZimmerNr": "8",
                                    "ZimmerNrText": "  "
                                },
                                {
                                    "ZimmerID": "456",
                                    "EtagenID": "1",
                                    "Zimmer": "Aussenbereich",
                                    "ZimmerNr": "1",
                                    "ZimmerNrText": "  "
                                },
                                {
                                    "ZimmerID": "457",
                                    "EtagenID": "2",
                                    "Zimmer": "Telefonzelle",
                                    "ZimmerNr": "1",
                                    "ZimmerNrText": " "
                                },
                                {
                                    "ZimmerID": "458",
                                    "EtagenID": "2",
                                    "Zimmer": "Brandmeldezentrale",
                                    "ZimmerNr": "2",
                                    "ZimmerNrText": " "
                                },
                                {
                                    "ZimmerID": "459",
                                    "EtagenID": "2",
                                    "Zimmer": "Büro Arztsekretariat",
                                    "ZimmerNr": "3",
                                    "ZimmerNrText": " "
                                },
                                {
                                    "ZimmerID": "460",
                                    "EtagenID": "2",
                                    "Zimmer": "Lager Arztsekretariat",
                                    "ZimmerNr": "4",
                                    "ZimmerNrText": " "
                                },
                                {
                                    "ZimmerID": "461",
                                    "EtagenID": "2",
                                    "Zimmer": "WC",
                                    "ZimmerNr": "5",
                                    "ZimmerNrText": " "
                                },
                                {
                                    "ZimmerID": "462",
                                    "EtagenID": "2",
                                    "Zimmer": "Putzkammer",
                                    "ZimmerNr": "6",
                                    "ZimmerNrText": " "
                                },
                                {
                                    "ZimmerID": "463",
                                    "EtagenID": "2",
                                    "Zimmer": "Aussenbereich",
                                    "ZimmerNr": "1",
                                    "ZimmerNrText": " "
                                },
                                {
                                    "ZimmerID": "464",
                                    "EtagenID": "10",
                                    "Zimmer": "Stationsbad",
                                    "ZimmerNr": "1",
                                    "ZimmerNrText": " "
                                },
                                {
                                    "ZimmerID": "465",
                                    "EtagenID": "10",
                                    "Zimmer": "Dusche klein",
                                    "ZimmerNr": "2",
                                    "ZimmerNrText": " "
                                },
                                {
                                    "ZimmerID": "466",
                                    "EtagenID": "10",
                                    "Zimmer": "Dusche gross",
                                    "ZimmerNr": "3",
                                    "ZimmerNrText": " "
                                },
                                {
                                    "ZimmerID": "467",
                                    "EtagenID": "10",
                                    "Zimmer": "WC",
                                    "ZimmerNr": "4",
                                    "ZimmerNrText": " "
                                },
                                {
                                    "ZimmerID": "468",
                                    "EtagenID": "10",
                                    "Zimmer": "WC",
                                    "ZimmerNr": "5",
                                    "ZimmerNrText": " "
                                },
                                {
                                    "ZimmerID": "469",
                                    "EtagenID": "10",
                                    "Zimmer": "WC",
                                    "ZimmerNr": "6",
                                    "ZimmerNrText": " "
                                },
                                {
                                    "ZimmerID": "470",
                                    "EtagenID": "10",
                                    "Zimmer": "Putzkammer",
                                    "ZimmerNr": "7",
                                    "ZimmerNrText": " "
                                },
                                {
                                    "ZimmerID": "471",
                                    "EtagenID": "10",
                                    "Zimmer": "Ehemalige Teeküche",
                                    "ZimmerNr": "8",
                                    "ZimmerNrText": " "
                                },
                                {
                                    "ZimmerID": "472",
                                    "EtagenID": "10",
                                    "Zimmer": "Zimmer ",
                                    "ZimmerNr": "9",
                                    "ZimmerNrText": " "
                                },
                                {
                                    "ZimmerID": "473",
                                    "EtagenID": "10",
                                    "Zimmer": "Zimmer",
                                    "ZimmerNr": "10",
                                    "ZimmerNrText": " "
                                },
                                {
                                    "ZimmerID": "474",
                                    "EtagenID": "10",
                                    "Zimmer": "Putzkammer",
                                    "ZimmerNr": "11",
                                    "ZimmerNrText": " "
                                },
                                {
                                    "ZimmerID": "475",
                                    "EtagenID": "10",
                                    "Zimmer": "Zimmer 205",
                                    "ZimmerNr": "12",
                                    "ZimmerNrText": " "
                                },
                                {
                                    "ZimmerID": "476",
                                    "EtagenID": "10",
                                    "Zimmer": "Bad",
                                    "ZimmerNr": "13",
                                    "ZimmerNrText": " "
                                },
                                {
                                    "ZimmerID": "477",
                                    "EtagenID": "10",
                                    "Zimmer": "WC",
                                    "ZimmerNr": "14",
                                    "ZimmerNrText": " "
                                },
                                {
                                    "ZimmerID": "478",
                                    "EtagenID": "10",
                                    "Zimmer": "WC",
                                    "ZimmerNr": "15",
                                    "ZimmerNrText": " "
                                },
                                {
                                    "ZimmerID": "479",
                                    "EtagenID": "10",
                                    "Zimmer": "Teeküche nord",
                                    "ZimmerNr": "16",
                                    "ZimmerNrText": " "
                                },
                                {
                                    "ZimmerID": "480",
                                    "EtagenID": "10",
                                    "Zimmer": "Teeküche Süd",
                                    "ZimmerNr": "1",
                                    "ZimmerNrText": " "
                                },
                                {
                                    "ZimmerID": "481",
                                    "EtagenID": "10",
                                    "Zimmer": "Flur Nord",
                                    "ZimmerNr": "2",
                                    "ZimmerNrText": " "
                                },
                                {
                                    "ZimmerID": "482",
                                    "EtagenID": "10",
                                    "Zimmer": "Flur Süd",
                                    "ZimmerNr": "3",
                                    "ZimmerNrText": " "
                                },
                                {
                                    "ZimmerID": "483",
                                    "EtagenID": "2",
                                    "Zimmer": "Flur Nord",
                                    "ZimmerNr": "1",
                                    "ZimmerNrText": " "
                                },
                                {
                                    "ZimmerID": "484",
                                    "EtagenID": "2",
                                    "Zimmer": "Flur Süd",
                                    "ZimmerNr": "2",
                                    "ZimmerNrText": " "
                                },
                                {
                                    "ZimmerID": "485",
                                    "EtagenID": "2",
                                    "Zimmer": "Foyer",
                                    "ZimmerNr": "3",
                                    "ZimmerNrText": "  "
                                },
                                {
                                    "ZimmerID": "486",
                                    "EtagenID": "62",
                                    "Zimmer": "Zimmer 301",
                                    "ZimmerNr": "1",
                                    "ZimmerNrText": " "
                                },
                                {
                                    "ZimmerID": "487",
                                    "EtagenID": "62",
                                    "Zimmer": "Zimmer 302",
                                    "ZimmerNr": "2",
                                    "ZimmerNrText": " "
                                },
                                {
                                    "ZimmerID": "488",
                                    "EtagenID": "62",
                                    "Zimmer": "Zimmer 303",
                                    "ZimmerNr": "3",
                                    "ZimmerNrText": " "
                                },
                                {
                                    "ZimmerID": "489",
                                    "EtagenID": "62",
                                    "Zimmer": "Zimmer 304 ",
                                    "ZimmerNr": "4",
                                    "ZimmerNrText": "  "
                                },
                                {
                                    "ZimmerID": "490",
                                    "EtagenID": "62",
                                    "Zimmer": "Zimmer 305",
                                    "ZimmerNr": "5",
                                    "ZimmerNrText": " "
                                },
                                {
                                    "ZimmerID": "491",
                                    "EtagenID": "62",
                                    "Zimmer": "Zimmer 307",
                                    "ZimmerNr": "6",
                                    "ZimmerNrText": " "
                                },
                                {
                                    "ZimmerID": "492",
                                    "EtagenID": "62",
                                    "Zimmer": "Zimmer 308",
                                    "ZimmerNr": "7",
                                    "ZimmerNrText": " "
                                },
                                {
                                    "ZimmerID": "493",
                                    "EtagenID": "62",
                                    "Zimmer": "Zoimmer 309",
                                    "ZimmerNr": "8",
                                    "ZimmerNrText": " "
                                },
                                {
                                    "ZimmerID": "494",
                                    "EtagenID": "62",
                                    "Zimmer": "Zimmer 310",
                                    "ZimmerNr": "9",
                                    "ZimmerNrText": " "
                                },
                                {
                                    "ZimmerID": "495",
                                    "EtagenID": "62",
                                    "Zimmer": "Zimmer 311 ",
                                    "ZimmerNr": "10",
                                    "ZimmerNrText": " "
                                },
                                {
                                    "ZimmerID": "496",
                                    "EtagenID": "62",
                                    "Zimmer": "Zimmer 312",
                                    "ZimmerNr": "11",
                                    "ZimmerNrText": " "
                                },
                                {
                                    "ZimmerID": "497",
                                    "EtagenID": "62",
                                    "Zimmer": "Zimmer 313",
                                    "ZimmerNr": "12",
                                    "ZimmerNrText": " "
                                },
                                {
                                    "ZimmerID": "498",
                                    "EtagenID": "62",
                                    "Zimmer": "Zimmer 314",
                                    "ZimmerNr": "13",
                                    "ZimmerNrText": " "
                                },
                                {
                                    "ZimmerID": "499",
                                    "EtagenID": "62",
                                    "Zimmer": "Arztzimmer ",
                                    "ZimmerNr": "14",
                                    "ZimmerNrText": " "
                                },
                                {
                                    "ZimmerID": "500",
                                    "EtagenID": "62",
                                    "Zimmer": "Zimmer 315",
                                    "ZimmerNr": "15",
                                    "ZimmerNrText": " "
                                },
                                {
                                    "ZimmerID": "501",
                                    "EtagenID": "62",
                                    "Zimmer": "Bad",
                                    "ZimmerNr": "16",
                                    "ZimmerNrText": " "
                                },
                                {
                                    "ZimmerID": "502",
                                    "EtagenID": "62",
                                    "Zimmer": "Dusche",
                                    "ZimmerNr": "17",
                                    "ZimmerNrText": " "
                                },
                                {
                                    "ZimmerID": "503",
                                    "EtagenID": "62",
                                    "Zimmer": "Zimmer 316",
                                    "ZimmerNr": "18",
                                    "ZimmerNrText": " "
                                },
                                {
                                    "ZimmerID": "504",
                                    "EtagenID": "62",
                                    "Zimmer": "Wickelraum",
                                    "ZimmerNr": "19",
                                    "ZimmerNrText": " "
                                },
                                {
                                    "ZimmerID": "505",
                                    "EtagenID": "62",
                                    "Zimmer": "Zimmer 316",
                                    "ZimmerNr": "20",
                                    "ZimmerNrText": " "
                                },
                                {
                                    "ZimmerID": "506",
                                    "EtagenID": "62",
                                    "Zimmer": "WC",
                                    "ZimmerNr": "21",
                                    "ZimmerNrText": " "
                                },
                                {
                                    "ZimmerID": "507",
                                    "EtagenID": "62",
                                    "Zimmer": "WC",
                                    "ZimmerNr": "22",
                                    "ZimmerNrText": " "
                                },
                                {
                                    "ZimmerID": "508",
                                    "EtagenID": "62",
                                    "Zimmer": "WC",
                                    "ZimmerNr": "23",
                                    "ZimmerNrText": " "
                                },
                                {
                                    "ZimmerID": "509",
                                    "EtagenID": "62",
                                    "Zimmer": "Putzkammer",
                                    "ZimmerNr": "24",
                                    "ZimmerNrText": " "
                                },
                                {
                                    "ZimmerID": "510",
                                    "EtagenID": "62",
                                    "Zimmer": "Stationszimmer ",
                                    "ZimmerNr": "25",
                                    "ZimmerNrText": " "
                                },
                                {
                                    "ZimmerID": "511",
                                    "EtagenID": "62",
                                    "Zimmer": "Arztzimmer",
                                    "ZimmerNr": "26",
                                    "ZimmerNrText": " "
                                },
                                {
                                    "ZimmerID": "512",
                                    "EtagenID": "62",
                                    "Zimmer": "Arztzimmer",
                                    "ZimmerNr": "27",
                                    "ZimmerNrText": " "
                                },
                                {
                                    "ZimmerID": "513",
                                    "EtagenID": "62",
                                    "Zimmer": "Putzkammer",
                                    "ZimmerNr": "28",
                                    "ZimmerNrText": " "
                                },
                                {
                                    "ZimmerID": "514",
                                    "EtagenID": "62",
                                    "Zimmer": "Dusche",
                                    "ZimmerNr": "29",
                                    "ZimmerNrText": " "
                                },
                                {
                                    "ZimmerID": "515",
                                    "EtagenID": "62",
                                    "Zimmer": "Bad",
                                    "ZimmerNr": "30",
                                    "ZimmerNrText": " "
                                },
                                {
                                    "ZimmerID": "516",
                                    "EtagenID": "62",
                                    "Zimmer": "WC",
                                    "ZimmerNr": "1",
                                    "ZimmerNrText": " "
                                },
                                {
                                    "ZimmerID": "517",
                                    "EtagenID": "62",
                                    "Zimmer": "WC",
                                    "ZimmerNr": "2",
                                    "ZimmerNrText": " "
                                },
                                {
                                    "ZimmerID": "518",
                                    "EtagenID": "62",
                                    "Zimmer": "Flur nord",
                                    "ZimmerNr": "3",
                                    "ZimmerNrText": " "
                                },
                                {
                                    "ZimmerID": "519",
                                    "EtagenID": "62",
                                    "Zimmer": "Flur Süd",
                                    "ZimmerNr": "4",
                                    "ZimmerNrText": "  "
                                },
                                {
                                    "ZimmerID": "520",
                                    "EtagenID": "62",
                                    "Zimmer": "Treppenhaus",
                                    "ZimmerNr": "5",
                                    "ZimmerNrText": " "
                                },
                                {
                                    "ZimmerID": "521",
                                    "EtagenID": "63",
                                    "Zimmer": "Zimmer 1- 16",
                                    "ZimmerNr": "1",
                                    "ZimmerNrText": " "
                                },
                                {
                                    "ZimmerID": "522",
                                    "EtagenID": "63",
                                    "Zimmer": "Flur",
                                    "ZimmerNr": "2",
                                    "ZimmerNrText": " "
                                },
                                {
                                    "ZimmerID": "523",
                                    "EtagenID": "63",
                                    "Zimmer": "Treppenhaus",
                                    "ZimmerNr": "3",
                                    "ZimmerNrText": " "
                                },
                                {
                                    "ZimmerID": "526",
                                    "EtagenID": "33",
                                    "Zimmer": "Bibliotheke",
                                    "ZimmerNr": "1",
                                    "ZimmerNrText": " "
                                },
                                {
                                    "ZimmerID": "527",
                                    "EtagenID": "33",
                                    "Zimmer": "Zimmer 301",
                                    "ZimmerNr": "2",
                                    "ZimmerNrText": "  "
                                },
                                {
                                    "ZimmerID": "528",
                                    "EtagenID": "33",
                                    "Zimmer": "Keller vorne",
                                    "ZimmerNr": "3",
                                    "ZimmerNrText": " "
                                },
                                {
                                    "ZimmerID": "529",
                                    "EtagenID": "33",
                                    "Zimmer": "Keller hinten",
                                    "ZimmerNr": "4",
                                    "ZimmerNrText": " "
                                },
                                {
                                    "ZimmerID": "530",
                                    "EtagenID": "33",
                                    "Zimmer": "Heizraum",
                                    "ZimmerNr": "5",
                                    "ZimmerNrText": " "
                                },
                                {
                                    "ZimmerID": "531",
                                    "EtagenID": "33",
                                    "Zimmer": "WC",
                                    "ZimmerNr": "6",
                                    "ZimmerNrText": " "
                                },
                                {
                                    "ZimmerID": "532",
                                    "EtagenID": "33",
                                    "Zimmer": "Flur",
                                    "ZimmerNr": "7",
                                    "ZimmerNrText": " "
                                },
                                {
                                    "ZimmerID": "533",
                                    "EtagenID": "33",
                                    "Zimmer": "Aussenbereich",
                                    "ZimmerNr": "1",
                                    "ZimmerNrText": " "
                                },
                                {
                                    "ZimmerID": "534",
                                    "EtagenID": "34",
                                    "Zimmer": "Dusche 1",
                                    "ZimmerNr": "1",
                                    "ZimmerNrText": " "
                                },
                                {
                                    "ZimmerID": "535",
                                    "EtagenID": "34",
                                    "Zimmer": "Dusche ",
                                    "ZimmerNr": "2",
                                    "ZimmerNrText": " "
                                },
                                {
                                    "ZimmerID": "536",
                                    "EtagenID": "34",
                                    "Zimmer": "Bad",
                                    "ZimmerNr": "3",
                                    "ZimmerNrText": " "
                                },
                                {
                                    "ZimmerID": "537",
                                    "EtagenID": "34",
                                    "Zimmer": "WC",
                                    "ZimmerNr": "4",
                                    "ZimmerNrText": " "
                                },
                                {
                                    "ZimmerID": "538",
                                    "EtagenID": "34",
                                    "Zimmer": "WC",
                                    "ZimmerNr": "5",
                                    "ZimmerNrText": " "
                                },
                                {
                                    "ZimmerID": "539",
                                    "EtagenID": "34",
                                    "Zimmer": "ZImmer 310",
                                    "ZimmerNr": "6",
                                    "ZimmerNrText": " "
                                },
                                {
                                    "ZimmerID": "540",
                                    "EtagenID": "34",
                                    "Zimmer": "Zimmer 311",
                                    "ZimmerNr": "7",
                                    "ZimmerNrText": " "
                                },
                                {
                                    "ZimmerID": "541",
                                    "EtagenID": "34",
                                    "Zimmer": "Zimmer 312",
                                    "ZimmerNr": "8",
                                    "ZimmerNrText": " "
                                },
                                {
                                    "ZimmerID": "542",
                                    "EtagenID": "34",
                                    "Zimmer": "Zimmer 314",
                                    "ZimmerNr": "9",
                                    "ZimmerNrText": " "
                                },
                                {
                                    "ZimmerID": "543",
                                    "EtagenID": "34",
                                    "Zimmer": "Zimmer 315",
                                    "ZimmerNr": "10",
                                    "ZimmerNrText": " "
                                },
                                {
                                    "ZimmerID": "544",
                                    "EtagenID": "34",
                                    "Zimmer": "Zimmer 316",
                                    "ZimmerNr": "11",
                                    "ZimmerNrText": " "
                                },
                                {
                                    "ZimmerID": "545",
                                    "EtagenID": "34",
                                    "Zimmer": "Flur",
                                    "ZimmerNr": "12",
                                    "ZimmerNrText": " "
                                },
                                {
                                    "ZimmerID": "546",
                                    "EtagenID": "34",
                                    "Zimmer": "Balkon",
                                    "ZimmerNr": "13",
                                    "ZimmerNrText": " "
                                },
                                {
                                    "ZimmerID": "547",
                                    "EtagenID": "35",
                                    "Zimmer": "Dusche",
                                    "ZimmerNr": "1",
                                    "ZimmerNrText": " "
                                },
                                {
                                    "ZimmerID": "548",
                                    "EtagenID": "35",
                                    "Zimmer": "Duasche",
                                    "ZimmerNr": "2",
                                    "ZimmerNrText": " "
                                },
                                {
                                    "ZimmerID": "549",
                                    "EtagenID": "35",
                                    "Zimmer": "WC",
                                    "ZimmerNr": "3",
                                    "ZimmerNrText": " "
                                },
                                {
                                    "ZimmerID": "550",
                                    "EtagenID": "35",
                                    "Zimmer": "WC",
                                    "ZimmerNr": "4",
                                    "ZimmerNrText": " "
                                },
                                {
                                    "ZimmerID": "551",
                                    "EtagenID": "35",
                                    "Zimmer": "Zimmer 320  ",
                                    "ZimmerNr": "5",
                                    "ZimmerNrText": " "
                                },
                                {
                                    "ZimmerID": "552",
                                    "EtagenID": "35",
                                    "Zimmer": "Zimmer 321 ",
                                    "ZimmerNr": "6",
                                    "ZimmerNrText": " "
                                },
                                {
                                    "ZimmerID": "553",
                                    "EtagenID": "35",
                                    "Zimmer": "Zimmer 322 ",
                                    "ZimmerNr": "7",
                                    "ZimmerNrText": " "
                                },
                                {
                                    "ZimmerID": "554",
                                    "EtagenID": "35",
                                    "Zimmer": "Zimmer 324 ",
                                    "ZimmerNr": "8",
                                    "ZimmerNrText": " "
                                },
                                {
                                    "ZimmerID": "555",
                                    "EtagenID": "35",
                                    "Zimmer": "Zimmer 325 ",
                                    "ZimmerNr": "9",
                                    "ZimmerNrText": " "
                                },
                                {
                                    "ZimmerID": "556",
                                    "EtagenID": "35",
                                    "Zimmer": "Zimmer 326 ",
                                    "ZimmerNr": "10",
                                    "ZimmerNrText": " "
                                },
                                {
                                    "ZimmerID": "557",
                                    "EtagenID": "35",
                                    "Zimmer": "Flur",
                                    "ZimmerNr": "11",
                                    "ZimmerNrText": " "
                                },
                                {
                                    "ZimmerID": "558",
                                    "EtagenID": "35",
                                    "Zimmer": "Balkon",
                                    "ZimmerNr": "12",
                                    "ZimmerNrText": " "
                                },
                                {
                                    "ZimmerID": "559",
                                    "EtagenID": "35",
                                    "Zimmer": "Treppenhaus",
                                    "ZimmerNr": "13",
                                    "ZimmerNrText": " "
                                },
                                {
                                    "ZimmerID": "560",
                                    "EtagenID": "36",
                                    "Zimmer": "Wohnung",
                                    "ZimmerNr": "1",
                                    "ZimmerNrText": " "
                                },
                                {
                                    "ZimmerID": "561",
                                    "EtagenID": "36",
                                    "Zimmer": "Speicher",
                                    "ZimmerNr": "2",
                                    "ZimmerNrText": " "
                                },
                                {
                                    "ZimmerID": "562",
                                    "EtagenID": "36",
                                    "Zimmer": "Treppenhaus",
                                    "ZimmerNr": "3",
                                    "ZimmerNrText": " "
                                },
                                {
                                    "ZimmerID": "563",
                                    "EtagenID": "34",
                                    "Zimmer": "Aussenbereich",
                                    "ZimmerNr": "1",
                                    "ZimmerNrText": " "
                                },
                                {
                                    "ZimmerID": "564",
                                    "EtagenID": "37",
                                    "Zimmer": "Flur",
                                    "ZimmerNr": "1",
                                    "ZimmerNrText": " "
                                },
                                {
                                    "ZimmerID": "565",
                                    "EtagenID": "37",
                                    "Zimmer": "Keller",
                                    "ZimmerNr": "2",
                                    "ZimmerNrText": " "
                                },
                                {
                                    "ZimmerID": "566",
                                    "EtagenID": "37",
                                    "Zimmer": "WC",
                                    "ZimmerNr": "3",
                                    "ZimmerNrText": " "
                                },
                                {
                                    "ZimmerID": "567",
                                    "EtagenID": "38",
                                    "Zimmer": "Flur",
                                    "ZimmerNr": "1",
                                    "ZimmerNrText": " "
                                },
                                {
                                    "ZimmerID": "568",
                                    "EtagenID": "38",
                                    "Zimmer": "Sakristei",
                                    "ZimmerNr": "2",
                                    "ZimmerNrText": " "
                                },
                                {
                                    "ZimmerID": "569",
                                    "EtagenID": "38",
                                    "Zimmer": "Kirchenraum",
                                    "ZimmerNr": "3",
                                    "ZimmerNrText": " "
                                },
                                {
                                    "ZimmerID": "570",
                                    "EtagenID": "38",
                                    "Zimmer": "Aussenbereich",
                                    "ZimmerNr": "4",
                                    "ZimmerNrText": " "
                                },
                                {
                                    "ZimmerID": "571",
                                    "EtagenID": "39",
                                    "Zimmer": "Speicher",
                                    "ZimmerNr": "1",
                                    "ZimmerNrText": " "
                                },
                                {
                                    "ZimmerID": "572",
                                    "EtagenID": "39",
                                    "Zimmer": "Aussenbereich",
                                    "ZimmerNr": "2",
                                    "ZimmerNrText": " "
                                },
                                {
                                    "ZimmerID": "573",
                                    "EtagenID": "40",
                                    "Zimmer": "Keller 1 Altbau",
                                    "ZimmerNr": "1",
                                    "ZimmerNrText": " "
                                },
                                {
                                    "ZimmerID": "574",
                                    "EtagenID": "40",
                                    "Zimmer": "Heizraum Altbau",
                                    "ZimmerNr": "2",
                                    "ZimmerNrText": " "
                                },
                                {
                                    "ZimmerID": "575",
                                    "EtagenID": "40",
                                    "Zimmer": "Heizraum Neubau",
                                    "ZimmerNr": "3",
                                    "ZimmerNrText": " "
                                },
                                {
                                    "ZimmerID": "576",
                                    "EtagenID": "40",
                                    "Zimmer": "Kellerräume Wohnungen",
                                    "ZimmerNr": "4",
                                    "ZimmerNrText": " "
                                },
                                {
                                    "ZimmerID": "577",
                                    "EtagenID": "40",
                                    "Zimmer": "Waschmaschinenraum",
                                    "ZimmerNr": "5",
                                    "ZimmerNrText": " "
                                },
                                {
                                    "ZimmerID": "578",
                                    "EtagenID": "40",
                                    "Zimmer": "Flur",
                                    "ZimmerNr": "6",
                                    "ZimmerNrText": " "
                                },
                                {
                                    "ZimmerID": "579",
                                    "EtagenID": "40",
                                    "Zimmer": "Treppenhaus",
                                    "ZimmerNr": "7",
                                    "ZimmerNrText": " "
                                },
                                {
                                    "ZimmerID": "580",
                                    "EtagenID": "41",
                                    "Zimmer": "Kleinkindgruppe",
                                    "ZimmerNr": "1",
                                    "ZimmerNrText": " "
                                },
                                {
                                    "ZimmerID": "581",
                                    "EtagenID": "41",
                                    "Zimmer": "Kindergarten",
                                    "ZimmerNr": "2",
                                    "ZimmerNrText": " "
                                },
                                {
                                    "ZimmerID": "584",
                                    "EtagenID": "41",
                                    "Zimmer": "Flur",
                                    "ZimmerNr": "5",
                                    "ZimmerNrText": " "
                                },
                                {
                                    "ZimmerID": "585",
                                    "EtagenID": "41",
                                    "Zimmer": "Treppenhaus",
                                    "ZimmerNr": "6",
                                    "ZimmerNrText": " "
                                },
                                {
                                    "ZimmerID": "586",
                                    "EtagenID": "41",
                                    "Zimmer": "Aussenbereich",
                                    "ZimmerNr": "7",
                                    "ZimmerNrText": " "
                                },
                                {
                                    "ZimmerID": "587",
                                    "EtagenID": "42",
                                    "Zimmer": "Wohnung Kleinkindgruppe",
                                    "ZimmerNr": "1",
                                    "ZimmerNrText": " "
                                },
                                {
                                    "ZimmerID": "588",
                                    "EtagenID": "42",
                                    "Zimmer": "Wohnung Altbau",
                                    "ZimmerNr": "2",
                                    "ZimmerNrText": " "
                                },
                                {
                                    "ZimmerID": "589",
                                    "EtagenID": "42",
                                    "Zimmer": "Appartment 1",
                                    "ZimmerNr": "3",
                                    "ZimmerNrText": " "
                                },
                                {
                                    "ZimmerID": "590",
                                    "EtagenID": "42",
                                    "Zimmer": "Appartment 2",
                                    "ZimmerNr": "4",
                                    "ZimmerNrText": " "
                                },
                                {
                                    "ZimmerID": "591",
                                    "EtagenID": "42",
                                    "Zimmer": "Wohnung",
                                    "ZimmerNr": "5",
                                    "ZimmerNrText": " "
                                },
                                {
                                    "ZimmerID": "592",
                                    "EtagenID": "42",
                                    "Zimmer": "Flur",
                                    "ZimmerNr": "6",
                                    "ZimmerNrText": " "
                                },
                                {
                                    "ZimmerID": "594",
                                    "EtagenID": "43",
                                    "Zimmer": "Wohnung Altbau",
                                    "ZimmerNr": "1",
                                    "ZimmerNrText": " "
                                },
                                {
                                    "ZimmerID": "595",
                                    "EtagenID": "43",
                                    "Zimmer": "Appartment Neubau",
                                    "ZimmerNr": "2",
                                    "ZimmerNrText": " "
                                },
                                {
                                    "ZimmerID": "596",
                                    "EtagenID": "43",
                                    "Zimmer": "Wohnung Neubau",
                                    "ZimmerNr": "3",
                                    "ZimmerNrText": " "
                                },
                                {
                                    "ZimmerID": "597",
                                    "EtagenID": "43",
                                    "Zimmer": "Flur",
                                    "ZimmerNr": "4",
                                    "ZimmerNrText": " "
                                },
                                {
                                    "ZimmerID": "598",
                                    "EtagenID": "43",
                                    "Zimmer": "Treppenhaus",
                                    "ZimmerNr": "5",
                                    "ZimmerNrText": " "
                                },
                                {
                                    "ZimmerID": "601",
                                    "EtagenID": "47",
                                    "Zimmer": "Kellr 1",
                                    "ZimmerNr": "1",
                                    "ZimmerNrText": " "
                                },
                                {
                                    "ZimmerID": "602",
                                    "EtagenID": "47",
                                    "Zimmer": "Keller 2 ",
                                    "ZimmerNr": "2",
                                    "ZimmerNrText": " "
                                },
                                {
                                    "ZimmerID": "603",
                                    "EtagenID": "47",
                                    "Zimmer": "Keller 3 ",
                                    "ZimmerNr": "3",
                                    "ZimmerNrText": " "
                                },
                                {
                                    "ZimmerID": "604",
                                    "EtagenID": "47",
                                    "Zimmer": "Heizraum",
                                    "ZimmerNr": "4",
                                    "ZimmerNrText": " "
                                },
                                {
                                    "ZimmerID": "605",
                                    "EtagenID": "47",
                                    "Zimmer": "Büro Hauswirtschaftsleitung",
                                    "ZimmerNr": "5",
                                    "ZimmerNrText": " "
                                },
                                {
                                    "ZimmerID": "606",
                                    "EtagenID": "47",
                                    "Zimmer": "WC",
                                    "ZimmerNr": "6",
                                    "ZimmerNrText": " "
                                },
                                {
                                    "ZimmerID": "607",
                                    "EtagenID": "47",
                                    "Zimmer": "Flur",
                                    "ZimmerNr": "7",
                                    "ZimmerNrText": " "
                                },
                                {
                                    "ZimmerID": "608",
                                    "EtagenID": "47",
                                    "Zimmer": "Aussenbereich",
                                    "ZimmerNr": "8",
                                    "ZimmerNrText": " "
                                },
                                {
                                    "ZimmerID": "609",
                                    "EtagenID": "48",
                                    "Zimmer": "Flur",
                                    "ZimmerNr": "1",
                                    "ZimmerNrText": " "
                                },
                                {
                                    "ZimmerID": "610",
                                    "EtagenID": "48",
                                    "Zimmer": "Teeküche",
                                    "ZimmerNr": "2",
                                    "ZimmerNrText": " "
                                },
                                {
                                    "ZimmerID": "611",
                                    "EtagenID": "49",
                                    "Zimmer": "Flur",
                                    "ZimmerNr": "1",
                                    "ZimmerNrText": " "
                                },
                                {
                                    "ZimmerID": "612",
                                    "EtagenID": "49",
                                    "Zimmer": "Treppenhaus",
                                    "ZimmerNr": "2",
                                    "ZimmerNrText": " "
                                },
                                {
                                    "ZimmerID": "613",
                                    "EtagenID": "50",
                                    "Zimmer": "Windfang ",
                                    "ZimmerNr": "1",
                                    "ZimmerNrText": " "
                                },
                                {
                                    "ZimmerID": "614",
                                    "EtagenID": "50",
                                    "Zimmer": "Musikzimmer",
                                    "ZimmerNr": "2",
                                    "ZimmerNrText": " "
                                },
                                {
                                    "ZimmerID": "615",
                                    "EtagenID": "50",
                                    "Zimmer": "WC",
                                    "ZimmerNr": "3",
                                    "ZimmerNrText": " "
                                },
                                {
                                    "ZimmerID": "616",
                                    "EtagenID": "50",
                                    "Zimmer": "Aussenbereich",
                                    "ZimmerNr": "4",
                                    "ZimmerNrText": " "
                                },
                                {
                                    "ZimmerID": "617",
                                    "EtagenID": "51",
                                    "Zimmer": "Heizraum",
                                    "ZimmerNr": "1",
                                    "ZimmerNrText": " "
                                },
                                {
                                    "ZimmerID": "618",
                                    "EtagenID": "51",
                                    "Zimmer": "Garage",
                                    "ZimmerNr": "2",
                                    "ZimmerNrText": " "
                                },
                                {
                                    "ZimmerID": "619",
                                    "EtagenID": "51",
                                    "Zimmer": "Flur",
                                    "ZimmerNr": "3",
                                    "ZimmerNrText": " "
                                },
                                {
                                    "ZimmerID": "620",
                                    "EtagenID": "51",
                                    "Zimmer": "Keller1 ",
                                    "ZimmerNr": "4",
                                    "ZimmerNrText": " "
                                },
                                {
                                    "ZimmerID": "621",
                                    "EtagenID": "51",
                                    "Zimmer": "Keller2",
                                    "ZimmerNr": "5",
                                    "ZimmerNrText": " "
                                },
                                {
                                    "ZimmerID": "622",
                                    "EtagenID": "51",
                                    "Zimmer": "Keller 3",
                                    "ZimmerNr": "6",
                                    "ZimmerNrText": " "
                                },
                                {
                                    "ZimmerID": "623",
                                    "EtagenID": "51",
                                    "Zimmer": "Aussenbereich",
                                    "ZimmerNr": "7",
                                    "ZimmerNrText": " "
                                },
                                {
                                    "ZimmerID": "624",
                                    "EtagenID": "52",
                                    "Zimmer": "Wohnung1",
                                    "ZimmerNr": "1",
                                    "ZimmerNrText": " "
                                },
                                {
                                    "ZimmerID": "625",
                                    "EtagenID": "52",
                                    "Zimmer": "Wohnung2 ",
                                    "ZimmerNr": "2",
                                    "ZimmerNrText": " "
                                },
                                {
                                    "ZimmerID": "626",
                                    "EtagenID": "52",
                                    "Zimmer": "Eingangsbereich",
                                    "ZimmerNr": "3",
                                    "ZimmerNrText": " "
                                },
                                {
                                    "ZimmerID": "627",
                                    "EtagenID": "53",
                                    "Zimmer": "Wohnung",
                                    "ZimmerNr": "1",
                                    "ZimmerNrText": " "
                                },
                                {
                                    "ZimmerID": "628",
                                    "EtagenID": "54",
                                    "Zimmer": "Lager 1",
                                    "ZimmerNr": "1",
                                    "ZimmerNrText": " "
                                },
                                {
                                    "ZimmerID": "629",
                                    "EtagenID": "54",
                                    "Zimmer": "Keller 1 ",
                                    "ZimmerNr": "2",
                                    "ZimmerNrText": " "
                                },
                                {
                                    "ZimmerID": "630",
                                    "EtagenID": "54",
                                    "Zimmer": "Keller 2 ",
                                    "ZimmerNr": "3",
                                    "ZimmerNrText": " "
                                },
                                {
                                    "ZimmerID": "631",
                                    "EtagenID": "54",
                                    "Zimmer": "Heizraum ",
                                    "ZimmerNr": "4",
                                    "ZimmerNrText": " "
                                },
                                {
                                    "ZimmerID": "632",
                                    "EtagenID": "54",
                                    "Zimmer": "WC",
                                    "ZimmerNr": "5",
                                    "ZimmerNrText": " "
                                },
                                {
                                    "ZimmerID": "633",
                                    "EtagenID": "54",
                                    "Zimmer": "Waschraum",
                                    "ZimmerNr": "6",
                                    "ZimmerNrText": " "
                                },
                                {
                                    "ZimmerID": "634",
                                    "EtagenID": "54",
                                    "Zimmer": "Flur",
                                    "ZimmerNr": "1",
                                    "ZimmerNrText": " "
                                },
                                {
                                    "ZimmerID": "635",
                                    "EtagenID": "54",
                                    "Zimmer": "Aussenbereich",
                                    "ZimmerNr": "2",
                                    "ZimmerNrText": " "
                                },
                                {
                                    "ZimmerID": "636",
                                    "EtagenID": "55",
                                    "Zimmer": "WC",
                                    "ZimmerNr": "1",
                                    "ZimmerNrText": " "
                                },
                                {
                                    "ZimmerID": "637",
                                    "EtagenID": "55",
                                    "Zimmer": "Bad",
                                    "ZimmerNr": "2",
                                    "ZimmerNrText": " "
                                },
                                {
                                    "ZimmerID": "638",
                                    "EtagenID": "55",
                                    "Zimmer": "Teeküche",
                                    "ZimmerNr": "3",
                                    "ZimmerNrText": " "
                                },
                                {
                                    "ZimmerID": "639",
                                    "EtagenID": "55",
                                    "Zimmer": "Zimmer 412",
                                    "ZimmerNr": "4",
                                    "ZimmerNrText": " "
                                },
                                {
                                    "ZimmerID": "640",
                                    "EtagenID": "55",
                                    "Zimmer": "Zimmer 411",
                                    "ZimmerNr": "5",
                                    "ZimmerNrText": " "
                                },
                                {
                                    "ZimmerID": "641",
                                    "EtagenID": "55",
                                    "Zimmer": "Zimmer 410",
                                    "ZimmerNr": "6",
                                    "ZimmerNrText": " "
                                },
                                {
                                    "ZimmerID": "642",
                                    "EtagenID": "55",
                                    "Zimmer": "Foyer",
                                    "ZimmerNr": "7",
                                    "ZimmerNrText": " "
                                },
                                {
                                    "ZimmerID": "643",
                                    "EtagenID": "55",
                                    "Zimmer": "Aussenbereich",
                                    "ZimmerNr": "8",
                                    "ZimmerNrText": " "
                                },
                                {
                                    "ZimmerID": "644",
                                    "EtagenID": "56",
                                    "Zimmer": "WC",
                                    "ZimmerNr": "1",
                                    "ZimmerNrText": " "
                                },
                                {
                                    "ZimmerID": "645",
                                    "EtagenID": "56",
                                    "Zimmer": "ZImmer 425",
                                    "ZimmerNr": "2",
                                    "ZimmerNrText": " "
                                },
                                {
                                    "ZimmerID": "646",
                                    "EtagenID": "56",
                                    "Zimmer": "Dusche",
                                    "ZimmerNr": "3",
                                    "ZimmerNrText": " "
                                },
                                {
                                    "ZimmerID": "647",
                                    "EtagenID": "56",
                                    "Zimmer": "Zimmer 424",
                                    "ZimmerNr": "4",
                                    "ZimmerNrText": " "
                                },
                                {
                                    "ZimmerID": "648",
                                    "EtagenID": "56",
                                    "Zimmer": "Zimmer 423",
                                    "ZimmerNr": "5",
                                    "ZimmerNrText": " "
                                },
                                {
                                    "ZimmerID": "649",
                                    "EtagenID": "56",
                                    "Zimmer": "Zimmer 422",
                                    "ZimmerNr": "6",
                                    "ZimmerNrText": " "
                                },
                                {
                                    "ZimmerID": "650",
                                    "EtagenID": "56",
                                    "Zimmer": "Zimmer 421",
                                    "ZimmerNr": "7",
                                    "ZimmerNrText": " "
                                },
                                {
                                    "ZimmerID": "651",
                                    "EtagenID": "56",
                                    "Zimmer": "Zimmer 420",
                                    "ZimmerNr": "8",
                                    "ZimmerNrText": " "
                                },
                                {
                                    "ZimmerID": "652",
                                    "EtagenID": "56",
                                    "Zimmer": "Flur",
                                    "ZimmerNr": "1",
                                    "ZimmerNrText": " "
                                },
                                {
                                    "ZimmerID": "653",
                                    "EtagenID": "57",
                                    "Zimmer": "Zimmer 431",
                                    "ZimmerNr": "1",
                                    "ZimmerNrText": " "
                                },
                                {
                                    "ZimmerID": "654",
                                    "EtagenID": "57",
                                    "Zimmer": "Nachtwachenzimmer",
                                    "ZimmerNr": "2",
                                    "ZimmerNrText": " "
                                },
                                {
                                    "ZimmerID": "655",
                                    "EtagenID": "57",
                                    "Zimmer": "Zimmer 430",
                                    "ZimmerNr": "3",
                                    "ZimmerNrText": " "
                                },
                                {
                                    "ZimmerID": "656",
                                    "EtagenID": "57",
                                    "Zimmer": "WC",
                                    "ZimmerNr": "4",
                                    "ZimmerNrText": " "
                                },
                                {
                                    "ZimmerID": "657",
                                    "EtagenID": "57",
                                    "Zimmer": "Flur",
                                    "ZimmerNr": "5",
                                    "ZimmerNrText": " "
                                },
                                {
                                    "ZimmerID": "658",
                                    "EtagenID": "58",
                                    "Zimmer": "Büro Haustechnik",
                                    "ZimmerNr": "1",
                                    "ZimmerNrText": " "
                                },
                                {
                                    "ZimmerID": "659",
                                    "EtagenID": "58",
                                    "Zimmer": "Lager Haustechnik",
                                    "ZimmerNr": "2",
                                    "ZimmerNrText": " "
                                },
                                {
                                    "ZimmerID": "660",
                                    "EtagenID": "58",
                                    "Zimmer": "Lager Haustechnik",
                                    "ZimmerNr": "3",
                                    "ZimmerNrText": " "
                                },
                                {
                                    "ZimmerID": "661",
                                    "EtagenID": "58",
                                    "Zimmer": "Lager Haustechnik",
                                    "ZimmerNr": "4",
                                    "ZimmerNrText": " "
                                },
                                {
                                    "ZimmerID": "662",
                                    "EtagenID": "58",
                                    "Zimmer": "Dusche",
                                    "ZimmerNr": "5",
                                    "ZimmerNrText": " "
                                },
                                {
                                    "ZimmerID": "663",
                                    "EtagenID": "58",
                                    "Zimmer": "Flur",
                                    "ZimmerNr": "6",
                                    "ZimmerNrText": " "
                                },
                                {
                                    "ZimmerID": "664",
                                    "EtagenID": "58",
                                    "Zimmer": "Aussenbereich",
                                    "ZimmerNr": "7",
                                    "ZimmerNrText": " "
                                },
                                {
                                    "ZimmerID": "665",
                                    "EtagenID": "59",
                                    "Zimmer": "Wohnung",
                                    "ZimmerNr": "1",
                                    "ZimmerNrText": " "
                                },
                                {
                                    "ZimmerID": "666",
                                    "EtagenID": "59",
                                    "Zimmer": "Schreibzimmer Haustechnik",
                                    "ZimmerNr": "2",
                                    "ZimmerNrText": " "
                                },
                                {
                                    "ZimmerID": "667",
                                    "EtagenID": "59",
                                    "Zimmer": "Teeküche",
                                    "ZimmerNr": "3",
                                    "ZimmerNrText": " "
                                },
                                {
                                    "ZimmerID": "668",
                                    "EtagenID": "59",
                                    "Zimmer": "Bad",
                                    "ZimmerNr": "4",
                                    "ZimmerNrText": " "
                                },
                                {
                                    "ZimmerID": "669",
                                    "EtagenID": "59",
                                    "Zimmer": "Dusche",
                                    "ZimmerNr": "5",
                                    "ZimmerNrText": " "
                                },
                                {
                                    "ZimmerID": "670",
                                    "EtagenID": "59",
                                    "Zimmer": "Foyer",
                                    "ZimmerNr": "6",
                                    "ZimmerNrText": " "
                                },
                                {
                                    "ZimmerID": "671",
                                    "EtagenID": "59",
                                    "Zimmer": "Aussenbereich",
                                    "ZimmerNr": "7",
                                    "ZimmerNrText": " "
                                },
                                {
                                    "ZimmerID": "672",
                                    "EtagenID": "60",
                                    "Zimmer": "Zimmer 523",
                                    "ZimmerNr": "1",
                                    "ZimmerNrText": " "
                                },
                                {
                                    "ZimmerID": "673",
                                    "EtagenID": "60",
                                    "Zimmer": "Zimmer 522",
                                    "ZimmerNr": "2",
                                    "ZimmerNrText": " "
                                },
                                {
                                    "ZimmerID": "674",
                                    "EtagenID": "60",
                                    "Zimmer": "Zimmer 521",
                                    "ZimmerNr": "3",
                                    "ZimmerNrText": " "
                                },
                                {
                                    "ZimmerID": "675",
                                    "EtagenID": "60",
                                    "Zimmer": "Zimmer 520",
                                    "ZimmerNr": "4",
                                    "ZimmerNrText": " "
                                },
                                {
                                    "ZimmerID": "676",
                                    "EtagenID": "60",
                                    "Zimmer": "WC",
                                    "ZimmerNr": "5",
                                    "ZimmerNrText": " "
                                },
                                {
                                    "ZimmerID": "677",
                                    "EtagenID": "60",
                                    "Zimmer": "Flur",
                                    "ZimmerNr": "6",
                                    "ZimmerNrText": " "
                                },
                                {
                                    "ZimmerID": "679",
                                    "EtagenID": "61",
                                    "Zimmer": "Zimmer 530",
                                    "ZimmerNr": "1",
                                    "ZimmerNrText": " "
                                },
                                {
                                    "ZimmerID": "680",
                                    "EtagenID": "61",
                                    "Zimmer": "Zimmer 531",
                                    "ZimmerNr": "2",
                                    "ZimmerNrText": " "
                                },
                                {
                                    "ZimmerID": "681",
                                    "EtagenID": "61",
                                    "Zimmer": "WC",
                                    "ZimmerNr": "3",
                                    "ZimmerNrText": " "
                                },
                                {
                                    "ZimmerID": "682",
                                    "EtagenID": "61",
                                    "Zimmer": "Flur",
                                    "ZimmerNr": "4",
                                    "ZimmerNrText": " "
                                },
                                {
                                    "ZimmerID": "685",
                                    "EtagenID": "64",
                                    "Zimmer": "Strassen",
                                    "ZimmerNr": "1",
                                    "ZimmerNrText": " "
                                },
                                {
                                    "ZimmerID": "686",
                                    "EtagenID": "64",
                                    "Zimmer": "Wege",
                                    "ZimmerNr": "2",
                                    "ZimmerNrText": " "
                                },
                                {
                                    "ZimmerID": "687",
                                    "EtagenID": "64",
                                    "Zimmer": "Sitzbänke",
                                    "ZimmerNr": "3",
                                    "ZimmerNrText": " "
                                },
                                {
                                    "ZimmerID": "688",
                                    "EtagenID": "64",
                                    "Zimmer": "Rasenfläche",
                                    "ZimmerNr": "4",
                                    "ZimmerNrText": " "
                                },
                                {
                                    "ZimmerID": "689",
                                    "EtagenID": "64",
                                    "Zimmer": "Beleuchtung",
                                    "ZimmerNr": "5",
                                    "ZimmerNrText": " "
                                },
                                {
                                    "ZimmerID": "698",
                                    "EtagenID": "73",
                                    "Zimmer": "Heizraum",
                                    "ZimmerNr": "NULL",
                                    "ZimmerNrText": "4"
                                },
                                {
                                    "ZimmerID": "702",
                                    "EtagenID": "73",
                                    "Zimmer": "Kellerräume",
                                    "ZimmerNr": "NULL",
                                    "ZimmerNrText": "1-3"
                                },
                                {
                                    "ZimmerID": "703",
                                    "EtagenID": "84",
                                    "Zimmer": "Teeküche",
                                    "ZimmerNr": "2",
                                    "ZimmerNrText": "NULL"
                                },
                                {
                                    "ZimmerID": "704",
                                    "EtagenID": "84",
                                    "Zimmer": "Büro FiBU",
                                    "ZimmerNr": "3",
                                    "ZimmerNrText": "NULL"
                                },
                                {
                                    "ZimmerID": "705",
                                    "EtagenID": "84",
                                    "Zimmer": "Büro Assitenz GF",
                                    "ZimmerNr": "4",
                                    "ZimmerNrText": "NULL"
                                },
                                {
                                    "ZimmerID": "706",
                                    "EtagenID": "84",
                                    "Zimmer": "Büro GF",
                                    "ZimmerNr": "5",
                                    "ZimmerNrText": "NULL"
                                },
                                {
                                    "ZimmerID": "707",
                                    "EtagenID": "84",
                                    "Zimmer": "Flur",
                                    "ZimmerNr": "6",
                                    "ZimmerNrText": "NULL"
                                },
                                {
                                    "ZimmerID": "708",
                                    "EtagenID": "84",
                                    "Zimmer": "",
                                    "ZimmerNr": "NULL",
                                    "ZimmerNrText": "NULL"
                                },
                                {
                                    "ZimmerID": "709",
                                    "EtagenID": "84",
                                    "Zimmer": "",
                                    "ZimmerNr": "NULL",
                                    "ZimmerNrText": "NULL"
                                },
                                {
                                    "ZimmerID": "710",
                                    "EtagenID": "84",
                                    "Zimmer": "",
                                    "ZimmerNr": "NULL",
                                    "ZimmerNrText": "NULL"
                                },
                                {
                                    "ZimmerID": "711",
                                    "EtagenID": "84",
                                    "Zimmer": "",
                                    "ZimmerNr": "NULL",
                                    "ZimmerNrText": "NULL"
                                },
                                {
                                    "ZimmerID": "712",
                                    "EtagenID": "58",
                                    "Zimmer": "NULL",
                                    "ZimmerNr": "NULL",
                                    "ZimmerNrText": "NULL"
                                },
                                {
                                    "ZimmerID": "713",
                                    "EtagenID": "85",
                                    "Zimmer": "WC",
                                    "ZimmerNr": "1",
                                    "ZimmerNrText": "NULL"
                                },
                                {
                                    "ZimmerID": "714",
                                    "EtagenID": "85",
                                    "Zimmer": "Abstellraum",
                                    "ZimmerNr": "2",
                                    "ZimmerNrText": "NULL"
                                },
                                {
                                    "ZimmerID": "715",
                                    "EtagenID": "86",
                                    "Zimmer": "",
                                    "ZimmerNr": "NULL",
                                    "ZimmerNrText": "NULL"
                                },
                                {
                                    "ZimmerID": "716",
                                    "EtagenID": "86",
                                    "Zimmer": "",
                                    "ZimmerNr": "NULL",
                                    "ZimmerNrText": "NULL"
                                },
                                {
                                    "ZimmerID": "727",
                                    "EtagenID": "85",
                                    "Zimmer": "Büro Personal",
                                    "ZimmerNr": "3",
                                    "ZimmerNrText": "NULL"
                                },
                                {
                                    "ZimmerID": "728",
                                    "EtagenID": "85",
                                    "Zimmer": "Büro Personal",
                                    "ZimmerNr": "4",
                                    "ZimmerNrText": "NULL"
                                },
                                {
                                    "ZimmerID": "729",
                                    "EtagenID": "85",
                                    "Zimmer": "Büro EDV",
                                    "ZimmerNr": "5",
                                    "ZimmerNrText": "NULL"
                                },
                                {
                                    "ZimmerID": "730",
                                    "EtagenID": "85",
                                    "Zimmer": "Büro Medizin Contolling",
                                    "ZimmerNr": "6",
                                    "ZimmerNrText": "NULL"
                                },
                                {
                                    "ZimmerID": "731",
                                    "EtagenID": "85",
                                    "Zimmer": "Flur",
                                    "ZimmerNr": "7",
                                    "ZimmerNrText": "NULL"
                                },
                                {
                                    "ZimmerID": "732",
                                    "EtagenID": "48",
                                    "Zimmer": "Bad",
                                    "ZimmerNr": "3",
                                    "ZimmerNrText": "NULL"
                                },
                                {
                                    "ZimmerID": "733",
                                    "EtagenID": "48",
                                    "Zimmer": "Büro Assitenz PDL",
                                    "ZimmerNr": "4",
                                    "ZimmerNrText": "NULL"
                                },
                                {
                                    "ZimmerID": "734",
                                    "EtagenID": "48",
                                    "Zimmer": "Büro PDL",
                                    "ZimmerNr": "5",
                                    "ZimmerNrText": "NULL"
                                },
                                {
                                    "ZimmerID": "735",
                                    "EtagenID": "48",
                                    "Zimmer": "Büro QM",
                                    "ZimmerNr": "6",
                                    "ZimmerNrText": "NULL"
                                },
                                {
                                    "ZimmerID": "736",
                                    "EtagenID": "49",
                                    "Zimmer": "Bad",
                                    "ZimmerNr": "3",
                                    "ZimmerNrText": "NULL"
                                },
                                {
                                    "ZimmerID": "737",
                                    "EtagenID": "49",
                                    "Zimmer": "Besprechungssraum",
                                    "ZimmerNr": "4",
                                    "ZimmerNrText": "NULL"
                                },
                                {
                                    "ZimmerID": "738",
                                    "EtagenID": "49",
                                    "Zimmer": "Reserve",
                                    "ZimmerNr": "5",
                                    "ZimmerNrText": "NULL"
                                },
                                {
                                    "ZimmerID": "739",
                                    "EtagenID": "49",
                                    "Zimmer": "Reserve",
                                    "ZimmerNr": "6",
                                    "ZimmerNrText": "NULL"
                                },
                                {
                                    "ZimmerID": "740",
                                    "EtagenID": "45",
                                    "Zimmer": "Aussenbereich",
                                    "ZimmerNr": "10",
                                    "ZimmerNrText": "NULL"
                                },
                                {
                                    "ZimmerID": "741",
                                    "EtagenID": "27",
                                    "Zimmer": "Flur",
                                    "ZimmerNr": "15",
                                    "ZimmerNrText": "NULL"
                                },
                                {
                                    "ZimmerID": "742",
                                    "EtagenID": "27",
                                    "Zimmer": "WC`s",
                                    "ZimmerNr": "16",
                                    "ZimmerNrText": "NULL"
                                },
                                {
                                    "ZimmerID": "743",
                                    "EtagenID": "33",
                                    "Zimmer": "Serverraum",
                                    "ZimmerNr": "8",
                                    "ZimmerNrText": "NULL"
                                },
                                {
                                    "ZimmerID": "744",
                                    "EtagenID": "87",
                                    "Zimmer": "Treppe E-001",
                                    "ZimmerNr": "NULL",
                                    "ZimmerNrText": "Treppe E-001"
                                },
                                {
                                    "ZimmerID": "745",
                                    "EtagenID": "87",
                                    "Zimmer": "Lager 1 E-001.1",
                                    "ZimmerNr": "NULL",
                                    "ZimmerNrText": "NULL"
                                },
                                {
                                    "ZimmerID": "746",
                                    "EtagenID": "87",
                                    "Zimmer": "Flur PIA E-002",
                                    "ZimmerNr": "NULL",
                                    "ZimmerNrText": "NULL"
                                },
                                {
                                    "ZimmerID": "747",
                                    "EtagenID": "87",
                                    "Zimmer": "Arztzimmer PIA E-003",
                                    "ZimmerNr": "NULL",
                                    "ZimmerNrText": "NULL"
                                },
                                {
                                    "ZimmerID": "748",
                                    "EtagenID": "87",
                                    "Zimmer": "Sozialdienst PIA E-004",
                                    "ZimmerNr": "NULL",
                                    "ZimmerNrText": "NULL"
                                },
                                {
                                    "ZimmerID": "749",
                                    "EtagenID": "87",
                                    "Zimmer": "Technik E-005",
                                    "ZimmerNr": "NULL",
                                    "ZimmerNrText": "NULL"
                                },
                                {
                                    "ZimmerID": "750",
                                    "EtagenID": "87",
                                    "Zimmer": "Arztzimmer PIA E-006",
                                    "ZimmerNr": "NULL",
                                    "ZimmerNrText": "NULL"
                                },
                                {
                                    "ZimmerID": "751",
                                    "EtagenID": "87",
                                    "Zimmer": "Empfang PIA E-007",
                                    "ZimmerNr": "NULL",
                                    "ZimmerNrText": "NULL"
                                },
                                {
                                    "ZimmerID": "752",
                                    "EtagenID": "87",
                                    "Zimmer": "Untersuchung PIA E-008",
                                    "ZimmerNr": "NULL",
                                    "ZimmerNrText": "NULL"
                                },
                                {
                                    "ZimmerID": "753",
                                    "EtagenID": "87",
                                    "Zimmer": "Foyer E-009",
                                    "ZimmerNr": "NULL",
                                    "ZimmerNrText": "NULL"
                                },
                                {
                                    "ZimmerID": "754",
                                    "EtagenID": "87",
                                    "Zimmer": "Empfang E-010",
                                    "ZimmerNr": "NULL",
                                    "ZimmerNrText": "NULL"
                                },
                                {
                                    "ZimmerID": "755",
                                    "EtagenID": "87",
                                    "Zimmer": "Post E-010.1",
                                    "ZimmerNr": "NULL",
                                    "ZimmerNrText": "NULL"
                                },
                                {
                                    "ZimmerID": "756",
                                    "EtagenID": "87",
                                    "Zimmer": "Windfang E-011",
                                    "ZimmerNr": "NULL",
                                    "ZimmerNrText": "NULL"
                                },
                                {
                                    "ZimmerID": "757",
                                    "EtagenID": "87",
                                    "Zimmer": "Aufnahme E-012",
                                    "ZimmerNr": "NULL",
                                    "ZimmerNrText": "NULL"
                                },
                                {
                                    "ZimmerID": "758",
                                    "EtagenID": "87",
                                    "Zimmer": "Besuchertoilette E-013",
                                    "ZimmerNr": "NULL",
                                    "ZimmerNrText": "NULL"
                                },
                                {
                                    "ZimmerID": "759",
                                    "EtagenID": "87",
                                    "Zimmer": "Personaltoilette E-014",
                                    "ZimmerNr": "NULL",
                                    "ZimmerNrText": "NULL"
                                },
                                {
                                    "ZimmerID": "760",
                                    "EtagenID": "87",
                                    "Zimmer": "Besuchertoilette E-015",
                                    "ZimmerNr": "NULL",
                                    "ZimmerNrText": "NULL"
                                },
                                {
                                    "ZimmerID": "761",
                                    "EtagenID": "87",
                                    "Zimmer": "Besuchertoilette E-016",
                                    "ZimmerNr": "NULL",
                                    "ZimmerNrText": "NULL"
                                },
                                {
                                    "ZimmerID": "762",
                                    "EtagenID": "87",
                                    "Zimmer": "Flur E-017",
                                    "ZimmerNr": "NULL",
                                    "ZimmerNrText": "NULL"
                                },
                                {
                                    "ZimmerID": "763",
                                    "EtagenID": "87",
                                    "Zimmer": "Technik E-018",
                                    "ZimmerNr": "NULL",
                                    "ZimmerNrText": "NULL"
                                },
                                {
                                    "ZimmerID": "764",
                                    "EtagenID": "87",
                                    "Zimmer": "Flur E-019",
                                    "ZimmerNr": "NULL",
                                    "ZimmerNrText": "NULL"
                                },
                                {
                                    "ZimmerID": "765",
                                    "EtagenID": "87",
                                    "Zimmer": "Labor E-020",
                                    "ZimmerNr": "NULL",
                                    "ZimmerNrText": "NULL"
                                },
                                {
                                    "ZimmerID": "766",
                                    "EtagenID": "87",
                                    "Zimmer": "Arztzimmer PIA E-021",
                                    "ZimmerNr": "NULL",
                                    "ZimmerNrText": "NULL"
                                },
                                {
                                    "ZimmerID": "767",
                                    "EtagenID": "87",
                                    "Zimmer": "Arztzimmer PIA E-022",
                                    "ZimmerNr": "NULL",
                                    "ZimmerNrText": "NULL"
                                },
                                {
                                    "ZimmerID": "768",
                                    "EtagenID": "87",
                                    "Zimmer": "Arztzimmer E-023",
                                    "ZimmerNr": "NULL",
                                    "ZimmerNrText": "NULL"
                                },
                                {
                                    "ZimmerID": "769",
                                    "EtagenID": "87",
                                    "Zimmer": "Arztzimmer E-024",
                                    "ZimmerNr": "NULL",
                                    "ZimmerNrText": "NULL"
                                },
                                {
                                    "ZimmerID": "770",
                                    "EtagenID": "87",
                                    "Zimmer": "Aufenthalt/ Teeküche E-025",
                                    "ZimmerNr": "NULL",
                                    "ZimmerNrText": "NULL"
                                },
                                {
                                    "ZimmerID": "771",
                                    "EtagenID": "87",
                                    "Zimmer": "Technik E-026",
                                    "ZimmerNr": "NULL",
                                    "ZimmerNrText": "NULL"
                                },
                                {
                                    "ZimmerID": "772",
                                    "EtagenID": "87",
                                    "Zimmer": "Batterieraum E-027",
                                    "ZimmerNr": "NULL",
                                    "ZimmerNrText": "NULL"
                                },
                                {
                                    "ZimmerID": "773",
                                    "EtagenID": "87",
                                    "Zimmer": "SV E-028",
                                    "ZimmerNr": "NULL",
                                    "ZimmerNrText": "NULL"
                                },
                                {
                                    "ZimmerID": "774",
                                    "EtagenID": "87",
                                    "Zimmer": "AV E-029",
                                    "ZimmerNr": "NULL",
                                    "ZimmerNrText": "NULL"
                                },
                                {
                                    "ZimmerID": "775",
                                    "EtagenID": "87",
                                    "Zimmer": "Büromittel E-030",
                                    "ZimmerNr": "NULL",
                                    "ZimmerNrText": "NULL"
                                },
                                {
                                    "ZimmerID": "776",
                                    "EtagenID": "87",
                                    "Zimmer": "Notfall/med. Bedarf E-031",
                                    "ZimmerNr": "NULL",
                                    "ZimmerNrText": "NULL"
                                },
                                {
                                    "ZimmerID": "777",
                                    "EtagenID": "87",
                                    "Zimmer": "Treppe E-032",
                                    "ZimmerNr": "NULL",
                                    "ZimmerNrText": "NULL"
                                },
                                {
                                    "ZimmerID": "778",
                                    "EtagenID": "87",
                                    "Zimmer": "Hauswirtschaft unrein E-033",
                                    "ZimmerNr": "NULL",
                                    "ZimmerNrText": "NULL"
                                },
                                {
                                    "ZimmerID": "779",
                                    "EtagenID": "87",
                                    "Zimmer": "Hauswirtschaft rein E-034",
                                    "ZimmerNr": "NULL",
                                    "ZimmerNrText": "NULL"
                                },
                                {
                                    "ZimmerID": "780",
                                    "EtagenID": "87",
                                    "Zimmer": "Aufzug E-035",
                                    "ZimmerNr": "NULL",
                                    "ZimmerNrText": "NULL"
                                },
                                {
                                    "ZimmerID": "781",
                                    "EtagenID": "87",
                                    "Zimmer": "Flur E-036",
                                    "ZimmerNr": "NULL",
                                    "ZimmerNrText": "NULL"
                                },
                                {
                                    "ZimmerID": "782",
                                    "EtagenID": "87",
                                    "Zimmer": "Flur E-036.1",
                                    "ZimmerNr": "NULL",
                                    "ZimmerNrText": "NULL"
                                },
                                {
                                    "ZimmerID": "783",
                                    "EtagenID": "87",
                                    "Zimmer": "Gruppenraum E-037",
                                    "ZimmerNr": "NULL",
                                    "ZimmerNrText": "NULL"
                                },
                                {
                                    "ZimmerID": "784",
                                    "EtagenID": "87",
                                    "Zimmer": "Stuhllager E-037.1",
                                    "ZimmerNr": "NULL",
                                    "ZimmerNrText": "NULL"
                                },
                                {
                                    "ZimmerID": "785",
                                    "EtagenID": "87",
                                    "Zimmer": "EKG E-038",
                                    "ZimmerNr": "NULL",
                                    "ZimmerNrText": "NULL"
                                },
                                {
                                    "ZimmerID": "786",
                                    "EtagenID": "87",
                                    "Zimmer": "Physiotherapie E-039",
                                    "ZimmerNr": "NULL",
                                    "ZimmerNrText": "NULL"
                                },
                                {
                                    "ZimmerID": "787",
                                    "EtagenID": "87",
                                    "Zimmer": "Sozialdienst E-040",
                                    "ZimmerNr": "NULL",
                                    "ZimmerNrText": "NULL"
                                },
                                {
                                    "ZimmerID": "788",
                                    "EtagenID": "87",
                                    "Zimmer": "Sozialdienst E-041",
                                    "ZimmerNr": "NULL",
                                    "ZimmerNrText": "NULL"
                                },
                                {
                                    "ZimmerID": "789",
                                    "EtagenID": "87",
                                    "Zimmer": "Sozialdienst E-042",
                                    "ZimmerNr": "NULL",
                                    "ZimmerNrText": "NULL"
                                },
                                {
                                    "ZimmerID": "790",
                                    "EtagenID": "87",
                                    "Zimmer": "Hausleitung E-043",
                                    "ZimmerNr": "NULL",
                                    "ZimmerNrText": "NULL"
                                },
                                {
                                    "ZimmerID": "791",
                                    "EtagenID": "87",
                                    "Zimmer": "Hausdienst E-044",
                                    "ZimmerNr": "NULL",
                                    "ZimmerNrText": "NULL"
                                },
                                {
                                    "ZimmerID": "792",
                                    "EtagenID": "87",
                                    "Zimmer": "Flur E-045",
                                    "ZimmerNr": "NULL",
                                    "ZimmerNrText": "NULL"
                                },
                                {
                                    "ZimmerID": "793",
                                    "EtagenID": "87",
                                    "Zimmer": "Flur E-045.1",
                                    "ZimmerNr": "NULL",
                                    "ZimmerNrText": "NULL"
                                },
                                {
                                    "ZimmerID": "794",
                                    "EtagenID": "87",
                                    "Zimmer": "Wäschezentrale E-046",
                                    "ZimmerNr": "NULL",
                                    "ZimmerNrText": "NULL"
                                },
                                {
                                    "ZimmerID": "795",
                                    "EtagenID": "87",
                                    "Zimmer": "Entsorgung E-047",
                                    "ZimmerNr": "NULL",
                                    "ZimmerNrText": "NULL"
                                },
                                {
                                    "ZimmerID": "796",
                                    "EtagenID": "87",
                                    "Zimmer": "Technik E-048",
                                    "ZimmerNr": "NULL",
                                    "ZimmerNrText": "NULL"
                                },
                                {
                                    "ZimmerID": "797",
                                    "EtagenID": "87",
                                    "Zimmer": "Pflegemagazin E-049",
                                    "ZimmerNr": "NULL",
                                    "ZimmerNrText": "NULL"
                                },
                                {
                                    "ZimmerID": "798",
                                    "EtagenID": "87",
                                    "Zimmer": "Waschmaschinenraum E-050",
                                    "ZimmerNr": "NULL",
                                    "ZimmerNrText": "NULL"
                                },
                                {
                                    "ZimmerID": "799",
                                    "EtagenID": "87",
                                    "Zimmer": "Bettenlager E-051",
                                    "ZimmerNr": "NULL",
                                    "ZimmerNrText": "NULL"
                                },
                                {
                                    "ZimmerID": "800",
                                    "EtagenID": "87",
                                    "Zimmer": "Umkleide Herren E-052",
                                    "ZimmerNr": "NULL",
                                    "ZimmerNrText": "NULL"
                                },
                                {
                                    "ZimmerID": "801",
                                    "EtagenID": "87",
                                    "Zimmer": "Umkleide Damen E-054",
                                    "ZimmerNr": "NULL",
                                    "ZimmerNrText": "NULL"
                                },
                                {
                                    "ZimmerID": "802",
                                    "EtagenID": "87",
                                    "Zimmer": "Technik E-055",
                                    "ZimmerNr": "NULL",
                                    "ZimmerNrText": "NULL"
                                },
                                {
                                    "ZimmerID": "803",
                                    "EtagenID": "87",
                                    "Zimmer": "Bereitschaftszimmer Arzt E-056.1",
                                    "ZimmerNr": "NULL",
                                    "ZimmerNrText": "NULL"
                                },
                                {
                                    "ZimmerID": "804",
                                    "EtagenID": "87",
                                    "Zimmer": "Vorraum E-056.2",
                                    "ZimmerNr": "NULL",
                                    "ZimmerNrText": "NULL"
                                },
                                {
                                    "ZimmerID": "805",
                                    "EtagenID": "87",
                                    "Zimmer": "Dusche/WC E-056.3",
                                    "ZimmerNr": "NULL",
                                    "ZimmerNrText": "NULL"
                                },
                                {
                                    "ZimmerID": "806",
                                    "EtagenID": "87",
                                    "Zimmer": "Pausenraum Pflege E-057.1 ",
                                    "ZimmerNr": "NULL",
                                    "ZimmerNrText": "NULL"
                                },
                                {
                                    "ZimmerID": "807",
                                    "EtagenID": "87",
                                    "Zimmer": "Vorraum E-057.2",
                                    "ZimmerNr": "NULL",
                                    "ZimmerNrText": "NULL"
                                },
                                {
                                    "ZimmerID": "808",
                                    "EtagenID": "87",
                                    "Zimmer": "Dusche/WC E-057.3",
                                    "ZimmerNr": "NULL",
                                    "ZimmerNrText": "NULL"
                                },
                                {
                                    "ZimmerID": "809",
                                    "EtagenID": "87",
                                    "Zimmer": "Treppe E-058",
                                    "ZimmerNr": "NULL",
                                    "ZimmerNrText": "NULL"
                                },
                                {
                                    "ZimmerID": "810",
                                    "EtagenID": "87",
                                    "Zimmer": "Lager 2 E-058.2",
                                    "ZimmerNr": "NULL",
                                    "ZimmerNrText": "NULL"
                                },
                                {
                                    "ZimmerID": "811",
                                    "EtagenID": "87",
                                    "Zimmer": "NULL",
                                    "ZimmerNr": "NULL",
                                    "ZimmerNrText": "NULL"
                                },
                                {
                                    "ZimmerID": "812",
                                    "EtagenID": "87",
                                    "Zimmer": "NULL",
                                    "ZimmerNr": "NULL",
                                    "ZimmerNrText": "NULL"
                                },
                                {
                                    "ZimmerID": "813",
                                    "EtagenID": "87",
                                    "Zimmer": "NULL",
                                    "ZimmerNr": "NULL",
                                    "ZimmerNrText": "NULL"
                                },
                                {
                                    "ZimmerID": "814",
                                    "EtagenID": "87",
                                    "Zimmer": "NULL",
                                    "ZimmerNr": "NULL",
                                    "ZimmerNrText": "NULL"
                                },
                                {
                                    "ZimmerID": "815",
                                    "EtagenID": "87",
                                    "Zimmer": "NULL",
                                    "ZimmerNr": "NULL",
                                    "ZimmerNrText": "NULL"
                                },
                                {
                                    "ZimmerID": "816",
                                    "EtagenID": "88",
                                    "Zimmer": "Treppenhaus 1-001",
                                    "ZimmerNr": "NULL",
                                    "ZimmerNrText": "NULL"
                                },
                                {
                                    "ZimmerID": "817",
                                    "EtagenID": "88",
                                    "Zimmer": "Flur 1-002",
                                    "ZimmerNr": "NULL",
                                    "ZimmerNrText": "NULL"
                                },
                                {
                                    "ZimmerID": "818",
                                    "EtagenID": "88",
                                    "Zimmer": "Flur 1-002.1",
                                    "ZimmerNr": "NULL",
                                    "ZimmerNrText": "NULL"
                                },
                                {
                                    "ZimmerID": "819",
                                    "EtagenID": "88",
                                    "Zimmer": "Patientennzimmer 09 Zimmer 1-003.1",
                                    "ZimmerNr": "NULL",
                                    "ZimmerNrText": "NULL"
                                },
                                {
                                    "ZimmerID": "820",
                                    "EtagenID": "88",
                                    "Zimmer": "Patientenzimmer 09 Vorraum 1-003.2",
                                    "ZimmerNr": "NULL",
                                    "ZimmerNrText": "NULL"
                                },
                                {
                                    "ZimmerID": "821",
                                    "EtagenID": "88",
                                    "Zimmer": "Patientenzimmer 09 Dusche/WC 1-003.3",
                                    "ZimmerNr": "NULL",
                                    "ZimmerNrText": "NULL"
                                },
                                {
                                    "ZimmerID": "822",
                                    "EtagenID": "88",
                                    "Zimmer": "Patientenzimmer 08 Zimmer 1-004.1",
                                    "ZimmerNr": "NULL",
                                    "ZimmerNrText": "NULL"
                                },
                                {
                                    "ZimmerID": "823",
                                    "EtagenID": "88",
                                    "Zimmer": "Patientenzimmer 08 Vorraum 1-004.2",
                                    "ZimmerNr": "NULL",
                                    "ZimmerNrText": "NULL"
                                },
                                {
                                    "ZimmerID": "824",
                                    "EtagenID": "88",
                                    "Zimmer": "Patientenzimmer 08 Dusche/WC 1-004.3",
                                    "ZimmerNr": "NULL",
                                    "ZimmerNrText": "NULL"
                                },
                                {
                                    "ZimmerID": "825",
                                    "EtagenID": "88",
                                    "Zimmer": "Patientenzimmer 07 Zimmer 1-005.1",
                                    "ZimmerNr": "NULL",
                                    "ZimmerNrText": "NULL"
                                },
                                {
                                    "ZimmerID": "826",
                                    "EtagenID": "88",
                                    "Zimmer": "Patientenzimmer 07 Vorraum 1-005.2",
                                    "ZimmerNr": "NULL",
                                    "ZimmerNrText": "NULL"
                                },
                                {
                                    "ZimmerID": "827",
                                    "EtagenID": "88",
                                    "Zimmer": "Patientenzimmer 07 Dusche/WC 1-005.3",
                                    "ZimmerNr": "NULL",
                                    "ZimmerNrText": "NULL"
                                },
                                {
                                    "ZimmerID": "828",
                                    "EtagenID": "88",
                                    "Zimmer": "Gesprächszimmer 1 1-006",
                                    "ZimmerNr": "NULL",
                                    "ZimmerNrText": "NULL"
                                },
                                {
                                    "ZimmerID": "829",
                                    "EtagenID": "88",
                                    "Zimmer": "Arbeitsraum unrein 1 1-007",
                                    "ZimmerNr": "NULL",
                                    "ZimmerNrText": "NULL"
                                },
                                {
                                    "ZimmerID": "830",
                                    "EtagenID": "88",
                                    "Zimmer": "Raucher 1 1-008",
                                    "ZimmerNr": "NULL",
                                    "ZimmerNrText": "NULL"
                                },
                                {
                                    "ZimmerID": "831",
                                    "EtagenID": "88",
                                    "Zimmer": "Patientenzimmer 06 Zimmer 1-009.1",
                                    "ZimmerNr": "NULL",
                                    "ZimmerNrText": "NULL"
                                },
                                {
                                    "ZimmerID": "832",
                                    "EtagenID": "88",
                                    "Zimmer": "Patientenzimmer 06 Vorraum 1-009.2",
                                    "ZimmerNr": "NULL",
                                    "ZimmerNrText": "NULL"
                                },
                                {
                                    "ZimmerID": "833",
                                    "EtagenID": "88",
                                    "Zimmer": "Patientenzimmer 06 Dusche/WC 1-009.3",
                                    "ZimmerNr": "NULL",
                                    "ZimmerNrText": "NULL"
                                },
                                {
                                    "ZimmerID": "834",
                                    "EtagenID": "88",
                                    "Zimmer": "Arztzimmer 05 Zimmer 1-010.1",
                                    "ZimmerNr": "NULL",
                                    "ZimmerNrText": "NULL"
                                },
                                {
                                    "ZimmerID": "835",
                                    "EtagenID": "88",
                                    "Zimmer": "Arztzimmer 05 Vorraum 1-010.2",
                                    "ZimmerNr": "NULL",
                                    "ZimmerNrText": "NULL"
                                },
                                {
                                    "ZimmerID": "836",
                                    "EtagenID": "88",
                                    "Zimmer": "Arztzimmer 05 Dusche/WC 1-010.3",
                                    "ZimmerNr": "NULL",
                                    "ZimmerNrText": "NULL"
                                },
                                {
                                    "ZimmerID": "837",
                                    "EtagenID": "88",
                                    "Zimmer": "Patientenzimmer 04 Zimmer 1-011.1",
                                    "ZimmerNr": "NULL",
                                    "ZimmerNrText": "NULL"
                                },
                                {
                                    "ZimmerID": "838",
                                    "EtagenID": "88",
                                    "Zimmer": "Patientenzimmer 04 Vorraum 1-011.2",
                                    "ZimmerNr": "NULL",
                                    "ZimmerNrText": "NULL"
                                },
                                {
                                    "ZimmerID": "839",
                                    "EtagenID": "88",
                                    "Zimmer": "Patientenzimmer 04 Dusche/WC 1-011.3",
                                    "ZimmerNr": "NULL",
                                    "ZimmerNrText": "NULL"
                                },
                                {
                                    "ZimmerID": "840",
                                    "EtagenID": "88",
                                    "Zimmer": "Bad/Wickel 1 1-012",
                                    "ZimmerNr": "NULL",
                                    "ZimmerNrText": "NULL"
                                },
                                {
                                    "ZimmerID": "841",
                                    "EtagenID": "88",
                                    "Zimmer": "Gruppenraum 1  1-013",
                                    "ZimmerNr": "NULL",
                                    "ZimmerNrText": "NULL"
                                },
                                {
                                    "ZimmerID": "842",
                                    "EtagenID": "88",
                                    "Zimmer": "Essen/Aufenthalt 1  1-014",
                                    "ZimmerNr": "NULL",
                                    "ZimmerNrText": "NULL"
                                },
                                {
                                    "ZimmerID": "843",
                                    "EtagenID": "88",
                                    "Zimmer": "Flur 1-015",
                                    "ZimmerNr": "NULL",
                                    "ZimmerNrText": "NULL"
                                },
                                {
                                    "ZimmerID": "844",
                                    "EtagenID": "88",
                                    "Zimmer": "Technik 1-016",
                                    "ZimmerNr": "NULL",
                                    "ZimmerNrText": "NULL"
                                },
                                {
                                    "ZimmerID": "845",
                                    "EtagenID": "88",
                                    "Zimmer": "Technik 1-017",
                                    "ZimmerNr": "NULL",
                                    "ZimmerNrText": "NULL"
                                },
                                {
                                    "ZimmerID": "846",
                                    "EtagenID": "88",
                                    "Zimmer": "Personaltoilette Damen 1-018",
                                    "ZimmerNr": "NULL",
                                    "ZimmerNrText": "NULL"
                                },
                                {
                                    "ZimmerID": "847",
                                    "EtagenID": "88",
                                    "Zimmer": "Lager 1  1-019",
                                    "ZimmerNr": "NULL",
                                    "ZimmerNrText": "NULL"
                                },
                                {
                                    "ZimmerID": "848",
                                    "EtagenID": "88",
                                    "Zimmer": "Patientenzimmer 03 Zimmer 1-020.1",
                                    "ZimmerNr": "NULL",
                                    "ZimmerNrText": "NULL"
                                },
                                {
                                    "ZimmerID": "849",
                                    "EtagenID": "88",
                                    "Zimmer": "Patientenzimmer 03 Vorraum 1-020.2",
                                    "ZimmerNr": "NULL",
                                    "ZimmerNrText": "NULL"
                                },
                                {
                                    "ZimmerID": "850",
                                    "EtagenID": "88",
                                    "Zimmer": "Patientenzimmer 03 Dusche/WC 1-020.3",
                                    "ZimmerNr": "NULL",
                                    "ZimmerNrText": "NULL"
                                },
                                {
                                    "ZimmerID": "851",
                                    "EtagenID": "88",
                                    "Zimmer": "Patientenzimmer 02 Zimmer 1-021.1",
                                    "ZimmerNr": "NULL",
                                    "ZimmerNrText": "NULL"
                                },
                                {
                                    "ZimmerID": "852",
                                    "EtagenID": "88",
                                    "Zimmer": "Patientenzimmer 02 Vorraum 1-021.2",
                                    "ZimmerNr": "NULL",
                                    "ZimmerNrText": "NULL"
                                },
                                {
                                    "ZimmerID": "853",
                                    "EtagenID": "88",
                                    "Zimmer": "Patientenzimmer 02 Dusche/WC 1-021.3",
                                    "ZimmerNr": "NULL",
                                    "ZimmerNrText": "NULL"
                                },
                                {
                                    "ZimmerID": "854",
                                    "EtagenID": "88",
                                    "Zimmer": "Arztzimmer 01 Zimmer 1-022.1",
                                    "ZimmerNr": "NULL",
                                    "ZimmerNrText": "NULL"
                                },
                                {
                                    "ZimmerID": "855",
                                    "EtagenID": "88",
                                    "Zimmer": "Arztzimmer 01 Flur 1-022.2",
                                    "ZimmerNr": "NULL",
                                    "ZimmerNrText": "NULL"
                                },
                                {
                                    "ZimmerID": "856",
                                    "EtagenID": "88",
                                    "Zimmer": "Lager 2 1-022.3",
                                    "ZimmerNr": "NULL",
                                    "ZimmerNrText": "NULL"
                                },
                                {
                                    "ZimmerID": "857",
                                    "EtagenID": "88",
                                    "Zimmer": "Teeküche 1-024",
                                    "ZimmerNr": "NULL",
                                    "ZimmerNrText": "NULL"
                                },
                                {
                                    "ZimmerID": "858",
                                    "EtagenID": "88",
                                    "Zimmer": "Medikamentenraum 1-025",
                                    "ZimmerNr": "NULL",
                                    "ZimmerNrText": "NULL"
                                },
                                {
                                    "ZimmerID": "859",
                                    "EtagenID": "88",
                                    "Zimmer": "Treppenhaus 1-027",
                                    "ZimmerNr": "NULL",
                                    "ZimmerNrText": "NULL"
                                },
                                {
                                    "ZimmerID": "860",
                                    "EtagenID": "88",
                                    "Zimmer": "Flur 1-028",
                                    "ZimmerNr": "NULL",
                                    "ZimmerNrText": "NULL"
                                },
                                {
                                    "ZimmerID": "861",
                                    "EtagenID": "88",
                                    "Zimmer": "Gesprächszimmer 2 1-029",
                                    "ZimmerNr": "NULL",
                                    "ZimmerNrText": "NULL"
                                },
                                {
                                    "ZimmerID": "862",
                                    "EtagenID": "88",
                                    "Zimmer": "Patientenzimmer 10 Zimmer 1-030.1",
                                    "ZimmerNr": "NULL",
                                    "ZimmerNrText": "NULL"
                                },
                                {
                                    "ZimmerID": "863",
                                    "EtagenID": "88",
                                    "Zimmer": "Patientenzimmer 10 Vorraum 1-030.2",
                                    "ZimmerNr": "NULL",
                                    "ZimmerNrText": "NULL"
                                },
                                {
                                    "ZimmerID": "864",
                                    "EtagenID": "88",
                                    "Zimmer": "Patientenzimmer 10 Dusche/WC 1-030.3",
                                    "ZimmerNr": "NULL",
                                    "ZimmerNrText": "NULL"
                                },
                                {
                                    "ZimmerID": "865",
                                    "EtagenID": "88",
                                    "Zimmer": "Patientenzimmer 23 Zimmer 1-031.1",
                                    "ZimmerNr": "NULL",
                                    "ZimmerNrText": "NULL"
                                },
                                {
                                    "ZimmerID": "866",
                                    "EtagenID": "88",
                                    "Zimmer": "Patientenzimmer 23 Dusche/WC 1-031.2",
                                    "ZimmerNr": "NULL",
                                    "ZimmerNrText": "NULL"
                                },
                                {
                                    "ZimmerID": "867",
                                    "EtagenID": "88",
                                    "Zimmer": "Patientenzimmer 22 Zimmer 1-032.1",
                                    "ZimmerNr": "NULL",
                                    "ZimmerNrText": "NULL"
                                },
                                {
                                    "ZimmerID": "868",
                                    "EtagenID": "88",
                                    "Zimmer": "Patientenzimmer 22 Dusche/WC 1-032.2",
                                    "ZimmerNr": "NULL",
                                    "ZimmerNrText": "NULL"
                                },
                                {
                                    "ZimmerID": "869",
                                    "EtagenID": "88",
                                    "Zimmer": "Rückhaltebereich 1-033",
                                    "ZimmerNr": "NULL",
                                    "ZimmerNrText": "NULL"
                                },
                                {
                                    "ZimmerID": "870",
                                    "EtagenID": "88",
                                    "Zimmer": "Stationszimmer 1-034",
                                    "ZimmerNr": "NULL",
                                    "ZimmerNrText": "NULL"
                                },
                                {
                                    "ZimmerID": "871",
                                    "EtagenID": "88",
                                    "Zimmer": "Gesprächszimmer 4  1-035",
                                    "ZimmerNr": "NULL",
                                    "ZimmerNrText": "NULL"
                                },
                                {
                                    "ZimmerID": "872",
                                    "EtagenID": "88",
                                    "Zimmer": "Flur 1-036",
                                    "ZimmerNr": "NULL",
                                    "ZimmerNrText": "NULL"
                                },
                                {
                                    "ZimmerID": "873",
                                    "EtagenID": "88",
                                    "Zimmer": "Schleuse 1-037",
                                    "ZimmerNr": "NULL",
                                    "ZimmerNrText": "NULL"
                                },
                                {
                                    "ZimmerID": "874",
                                    "EtagenID": "88",
                                    "Zimmer": "Verteilerküche 1-038",
                                    "ZimmerNr": "NULL",
                                    "ZimmerNrText": "NULL"
                                },
                                {
                                    "ZimmerID": "875",
                                    "EtagenID": "88",
                                    "Zimmer": "Essen/Aufenthalt 2  1-039",
                                    "ZimmerNr": "NULL",
                                    "ZimmerNrText": "NULL"
                                },
                                {
                                    "ZimmerID": "876",
                                    "EtagenID": "88",
                                    "Zimmer": "Personaltoilette Herren 1-041",
                                    "ZimmerNr": "NULL",
                                    "ZimmerNrText": "NULL"
                                },
                                {
                                    "ZimmerID": "877",
                                    "EtagenID": "88",
                                    "Zimmer": "Technik 1-042",
                                    "ZimmerNr": "NULL",
                                    "ZimmerNrText": "NULL"
                                },
                                {
                                    "ZimmerID": "878",
                                    "EtagenID": "88",
                                    "Zimmer": "Technik 1-043",
                                    "ZimmerNr": "NULL",
                                    "ZimmerNrText": "NULL"
                                },
                                {
                                    "ZimmerID": "879",
                                    "EtagenID": "88",
                                    "Zimmer": "Flur 1-044",
                                    "ZimmerNr": "NULL",
                                    "ZimmerNrText": "NULL"
                                },
                                {
                                    "ZimmerID": "880",
                                    "EtagenID": "88",
                                    "Zimmer": "Arztzimmer 11 Zimmer 1-045.1",
                                    "ZimmerNr": "NULL",
                                    "ZimmerNrText": "NULL"
                                },
                                {
                                    "ZimmerID": "881",
                                    "EtagenID": "88",
                                    "Zimmer": "Arztzimmer 11 Vorraum 1-045.2",
                                    "ZimmerNr": "NULL",
                                    "ZimmerNrText": "NULL"
                                },
                                {
                                    "ZimmerID": "882",
                                    "EtagenID": "88",
                                    "Zimmer": "Arztzimmer 11 Dusche/WC 1-045.3",
                                    "ZimmerNr": "NULL",
                                    "ZimmerNrText": "NULL"
                                },
                                {
                                    "ZimmerID": "883",
                                    "EtagenID": "88",
                                    "Zimmer": "Patientenzimmer 12 Zimmer 1-046.1",
                                    "ZimmerNr": "NULL",
                                    "ZimmerNrText": "NULL"
                                },
                                {
                                    "ZimmerID": "884",
                                    "EtagenID": "88",
                                    "Zimmer": "Patientenzimmer 12 Vorraum 1-046.2",
                                    "ZimmerNr": "NULL",
                                    "ZimmerNrText": "NULL"
                                },
                                {
                                    "ZimmerID": "885",
                                    "EtagenID": "88",
                                    "Zimmer": "Patientenzimmer 12 Dusche/WC 1-046.3",
                                    "ZimmerNr": "NULL",
                                    "ZimmerNrText": "NULL"
                                },
                                {
                                    "ZimmerID": "886",
                                    "EtagenID": "88",
                                    "Zimmer": "Patientenzimmer 13 Zimmer 1-047.1",
                                    "ZimmerNr": "NULL",
                                    "ZimmerNrText": "NULL"
                                },
                                {
                                    "ZimmerID": "887",
                                    "EtagenID": "88",
                                    "Zimmer": "Patientenzimmer 13 Vorraum 1-047.2",
                                    "ZimmerNr": "NULL",
                                    "ZimmerNrText": "NULL"
                                },
                                {
                                    "ZimmerID": "888",
                                    "EtagenID": "88",
                                    "Zimmer": "Patientenzimmer 13 Dusche/WC 1-047.3",
                                    "ZimmerNr": "NULL",
                                    "ZimmerNrText": "NULL"
                                },
                                {
                                    "ZimmerID": "889",
                                    "EtagenID": "88",
                                    "Zimmer": "Patientezimmer 14 Zimmer 1-048.1",
                                    "ZimmerNr": "NULL",
                                    "ZimmerNrText": "NULL"
                                },
                                {
                                    "ZimmerID": "890",
                                    "EtagenID": "88",
                                    "Zimmer": "Patientenzimmer 14 Vorraum 1-048.2",
                                    "ZimmerNr": "NULL",
                                    "ZimmerNrText": "NULL"
                                },
                                {
                                    "ZimmerID": "891",
                                    "EtagenID": "88",
                                    "Zimmer": "Patientenzimmer 14 Dusche/WC 1.048.3",
                                    "ZimmerNr": "NULL",
                                    "ZimmerNrText": "NULL"
                                },
                                {
                                    "ZimmerID": "892",
                                    "EtagenID": "88",
                                    "Zimmer": "Flur 1..049",
                                    "ZimmerNr": "NULL",
                                    "ZimmerNrText": "NULL"
                                },
                                {
                                    "ZimmerID": "893",
                                    "EtagenID": "88",
                                    "Zimmer": "Flur 1.049.1",
                                    "ZimmerNr": "NULL",
                                    "ZimmerNrText": "NULL"
                                },
                                {
                                    "ZimmerID": "894",
                                    "EtagenID": "88",
                                    "Zimmer": "Arztzimmer 15 Zimmer 1.050.1",
                                    "ZimmerNr": "NULL",
                                    "ZimmerNrText": "NULL"
                                },
                                {
                                    "ZimmerID": "895",
                                    "EtagenID": "88",
                                    "Zimmer": "Arztzimmer 15 Vorraum 1.050.2",
                                    "ZimmerNr": "NULL",
                                    "ZimmerNrText": "NULL"
                                },
                                {
                                    "ZimmerID": "896",
                                    "EtagenID": "88",
                                    "Zimmer": "Arztzimmer 15 Dusche/WC 1.050.3",
                                    "ZimmerNr": "NULL",
                                    "ZimmerNrText": "NULL"
                                },
                                {
                                    "ZimmerID": "897",
                                    "EtagenID": "88",
                                    "Zimmer": "Arztzimmer 16 Zimmer 1.051.1",
                                    "ZimmerNr": "NULL",
                                    "ZimmerNrText": "NULL"
                                },
                                {
                                    "ZimmerID": "898",
                                    "EtagenID": "88",
                                    "Zimmer": "Arztzimmer 16 Vorraum 1.051.2",
                                    "ZimmerNr": "NULL",
                                    "ZimmerNrText": "NULL"
                                },
                                {
                                    "ZimmerID": "899",
                                    "EtagenID": "88",
                                    "Zimmer": "Arztzimmer 16 Dusche/WC 1.051.3",
                                    "ZimmerNr": "NULL",
                                    "ZimmerNrText": "NULL"
                                },
                                {
                                    "ZimmerID": "900",
                                    "EtagenID": "88",
                                    "Zimmer": "Patientenzimmer 17 Zimmer 1.052.1",
                                    "ZimmerNr": "NULL",
                                    "ZimmerNrText": "NULL"
                                },
                                {
                                    "ZimmerID": "901",
                                    "EtagenID": "88",
                                    "Zimmer": "Patientenzimmer 17 Vorraum 1.052.2",
                                    "ZimmerNr": "NULL",
                                    "ZimmerNrText": "NULL"
                                },
                                {
                                    "ZimmerID": "902",
                                    "EtagenID": "88",
                                    "Zimmer": "Patientenzimmer 17 Dusche/WC 1.052.3",
                                    "ZimmerNr": "NULL",
                                    "ZimmerNrText": "NULL"
                                },
                                {
                                    "ZimmerID": "903",
                                    "EtagenID": "88",
                                    "Zimmer": "Patientenzimmer 18 Zimmer 1.053.1",
                                    "ZimmerNr": "NULL",
                                    "ZimmerNrText": "NULL"
                                },
                                {
                                    "ZimmerID": "904",
                                    "EtagenID": "88",
                                    "Zimmer": "Patientenzimmer 18 Vorraum 1.053.2",
                                    "ZimmerNr": "NULL",
                                    "ZimmerNrText": "NULL"
                                },
                                {
                                    "ZimmerID": "905",
                                    "EtagenID": "88",
                                    "Zimmer": "Patientenzimmer 18 Dusche/WC 1.053.3",
                                    "ZimmerNr": "NULL",
                                    "ZimmerNrText": "NULL"
                                },
                                {
                                    "ZimmerID": "906",
                                    "EtagenID": "88",
                                    "Zimmer": "Raucher 2  1.054",
                                    "ZimmerNr": "NULL",
                                    "ZimmerNrText": "NULL"
                                },
                                {
                                    "ZimmerID": "907",
                                    "EtagenID": "88",
                                    "Zimmer": "Gesprächszimmer 3 1-055",
                                    "ZimmerNr": "NULL",
                                    "ZimmerNrText": "NULL"
                                },
                                {
                                    "ZimmerID": "908",
                                    "EtagenID": "88",
                                    "Zimmer": "Arbeitesraum unrein 2 1-056",
                                    "ZimmerNr": "NULL",
                                    "ZimmerNrText": "NULL"
                                },
                                {
                                    "ZimmerID": "909",
                                    "EtagenID": "88",
                                    "Zimmer": "Bad/Wickel 2  1-057",
                                    "ZimmerNr": "NULL",
                                    "ZimmerNrText": "NULL"
                                },
                                {
                                    "ZimmerID": "910",
                                    "EtagenID": "88",
                                    "Zimmer": "Gruppenraum 2  1-058",
                                    "ZimmerNr": "NULL",
                                    "ZimmerNrText": "NULL"
                                },
                                {
                                    "ZimmerID": "911",
                                    "EtagenID": "88",
                                    "Zimmer": "Patientenzimmer 19 Zimmer 1-059.1",
                                    "ZimmerNr": "NULL",
                                    "ZimmerNrText": "NULL"
                                },
                                {
                                    "ZimmerID": "912",
                                    "EtagenID": "88",
                                    "Zimmer": "Patientenzimmer 19 Vorraum 1-059.2",
                                    "ZimmerNr": "NULL",
                                    "ZimmerNrText": "NULL"
                                },
                                {
                                    "ZimmerID": "913",
                                    "EtagenID": "88",
                                    "Zimmer": "Patientenzimmer 19 Dusche/WC 1-059.3",
                                    "ZimmerNr": "NULL",
                                    "ZimmerNrText": "NULL"
                                },
                                {
                                    "ZimmerID": "914",
                                    "EtagenID": "88",
                                    "Zimmer": "Patientenzimmer 20 Zimmer 1-060.1",
                                    "ZimmerNr": "NULL",
                                    "ZimmerNrText": "NULL"
                                },
                                {
                                    "ZimmerID": "915",
                                    "EtagenID": "88",
                                    "Zimmer": "Patientenzimmer 20 Vorraum 1-060.2",
                                    "ZimmerNr": "NULL",
                                    "ZimmerNrText": "NULL"
                                },
                                {
                                    "ZimmerID": "916",
                                    "EtagenID": "88",
                                    "Zimmer": "Patientenzimmer 20 Dusche/WC 1-060.3",
                                    "ZimmerNr": "NULL",
                                    "ZimmerNrText": "NULL"
                                },
                                {
                                    "ZimmerID": "917",
                                    "EtagenID": "88",
                                    "Zimmer": "Patientenzimmer 21 Zimmer 1-0611",
                                    "ZimmerNr": "NULL",
                                    "ZimmerNrText": "NULL"
                                },
                                {
                                    "ZimmerID": "918",
                                    "EtagenID": "88",
                                    "Zimmer": "Patientenzimmer 21 Vorraum 1-061.2",
                                    "ZimmerNr": "NULL",
                                    "ZimmerNrText": "NULL"
                                },
                                {
                                    "ZimmerID": "919",
                                    "EtagenID": "88",
                                    "Zimmer": "Patientenzimmer 21 Dusche/WC 1-061.3",
                                    "ZimmerNr": "NULL",
                                    "ZimmerNrText": "NULL"
                                },
                                {
                                    "ZimmerID": "920",
                                    "EtagenID": "88",
                                    "Zimmer": "Treppenhaus 1-062",
                                    "ZimmerNr": "NULL",
                                    "ZimmerNrText": "NULL"
                                },
                                {
                                    "ZimmerID": "921",
                                    "EtagenID": "88",
                                    "Zimmer": "Lager 3 1-063",
                                    "ZimmerNr": "NULL",
                                    "ZimmerNrText": "NULL"
                                },
                                {
                                    "ZimmerID": "922",
                                    "EtagenID": "88",
                                    "Zimmer": "Gärtchen",
                                    "ZimmerNr": "NULL",
                                    "ZimmerNrText": "NULL"
                                },
                                {
                                    "ZimmerID": "923",
                                    "EtagenID": "89",
                                    "Zimmer": "Treppenhaus 2-001",
                                    "ZimmerNr": "NULL",
                                    "ZimmerNrText": "NULL"
                                },
                                {
                                    "ZimmerID": "924",
                                    "EtagenID": "89",
                                    "Zimmer": "Flur 2-002",
                                    "ZimmerNr": "NULL",
                                    "ZimmerNrText": "NULL"
                                },
                                {
                                    "ZimmerID": "925",
                                    "EtagenID": "89",
                                    "Zimmer": "Flur 2-002.1",
                                    "ZimmerNr": "NULL",
                                    "ZimmerNrText": "NULL"
                                },
                                {
                                    "ZimmerID": "926",
                                    "EtagenID": "89",
                                    "Zimmer": "Patientezimmer 09 Zimmer 2-003.1",
                                    "ZimmerNr": "NULL",
                                    "ZimmerNrText": "NULL"
                                },
                                {
                                    "ZimmerID": "927",
                                    "EtagenID": "89",
                                    "Zimmer": "Patientenzimmer 09 Vorraum 2-003.2",
                                    "ZimmerNr": "NULL",
                                    "ZimmerNrText": "NULL"
                                },
                                {
                                    "ZimmerID": "928",
                                    "EtagenID": "89",
                                    "Zimmer": "Patientenzimer 09 Duche/WC 2-003.3",
                                    "ZimmerNr": "NULL",
                                    "ZimmerNrText": "NULL"
                                },
                                {
                                    "ZimmerID": "929",
                                    "EtagenID": "89",
                                    "Zimmer": "Patientenzimmer 08 Zimmer 2-004.1",
                                    "ZimmerNr": "NULL",
                                    "ZimmerNrText": "NULL"
                                },
                                {
                                    "ZimmerID": "930",
                                    "EtagenID": "89",
                                    "Zimmer": "Patientenzimmer 08 Vorraum 2-004.2",
                                    "ZimmerNr": "NULL",
                                    "ZimmerNrText": "NULL"
                                },
                                {
                                    "ZimmerID": "931",
                                    "EtagenID": "89",
                                    "Zimmer": "Patientenzimmer 08 Dusche/WC 2-004.3",
                                    "ZimmerNr": "NULL",
                                    "ZimmerNrText": "NULL"
                                },
                                {
                                    "ZimmerID": "932",
                                    "EtagenID": "89",
                                    "Zimmer": "Patientenzimmer 07 Zimmer 2-005.1",
                                    "ZimmerNr": "NULL",
                                    "ZimmerNrText": "NULL"
                                },
                                {
                                    "ZimmerID": "933",
                                    "EtagenID": "89",
                                    "Zimmer": "Patientenzimmer 07 Vorraum 2-005.2",
                                    "ZimmerNr": "NULL",
                                    "ZimmerNrText": "NULL"
                                },
                                {
                                    "ZimmerID": "934",
                                    "EtagenID": "89",
                                    "Zimmer": "Patientenzimmer Dusche/WC 2-005.3",
                                    "ZimmerNr": "NULL",
                                    "ZimmerNrText": "NULL"
                                },
                                {
                                    "ZimmerID": "935",
                                    "EtagenID": "89",
                                    "Zimmer": "Gesprächszimmer 1 2-006",
                                    "ZimmerNr": "NULL",
                                    "ZimmerNrText": "NULL"
                                },
                                {
                                    "ZimmerID": "936",
                                    "EtagenID": "89",
                                    "Zimmer": "Arbeitsraum unrein 1 2-007",
                                    "ZimmerNr": "NULL",
                                    "ZimmerNrText": "NULL"
                                },
                                {
                                    "ZimmerID": "937",
                                    "EtagenID": "89",
                                    "Zimmer": "Raucher 1 2-008",
                                    "ZimmerNr": "NULL",
                                    "ZimmerNrText": "NULL"
                                },
                                {
                                    "ZimmerID": "938",
                                    "EtagenID": "89",
                                    "Zimmer": "Patientenzimmer 06 Zimmer 2-009.1",
                                    "ZimmerNr": "NULL",
                                    "ZimmerNrText": "NULL"
                                },
                                {
                                    "ZimmerID": "939",
                                    "EtagenID": "89",
                                    "Zimmer": "Patientenzimmer 06 Vorraum 2-009.2",
                                    "ZimmerNr": "NULL",
                                    "ZimmerNrText": "NULL"
                                },
                                {
                                    "ZimmerID": "940",
                                    "EtagenID": "89",
                                    "Zimmer": "Patientenzimmer 06 Dusche/WC 2-009.3",
                                    "ZimmerNr": "NULL",
                                    "ZimmerNrText": "NULL"
                                },
                                {
                                    "ZimmerID": "941",
                                    "EtagenID": "89",
                                    "Zimmer": "Patientenzimmer 05 Zimmer 2-010.1",
                                    "ZimmerNr": "NULL",
                                    "ZimmerNrText": "NULL"
                                },
                                {
                                    "ZimmerID": "942",
                                    "EtagenID": "89",
                                    "Zimmer": "Patientenzimmer 05 Vorraum 2-010.2",
                                    "ZimmerNr": "NULL",
                                    "ZimmerNrText": "NULL"
                                },
                                {
                                    "ZimmerID": "943",
                                    "EtagenID": "89",
                                    "Zimmer": "Patientenzimmer 05 Dusche/WC 2-010.3",
                                    "ZimmerNr": "NULL",
                                    "ZimmerNrText": "NULL"
                                },
                                {
                                    "ZimmerID": "944",
                                    "EtagenID": "89",
                                    "Zimmer": "Arztzimmer 04 Zimmer 2-011.1",
                                    "ZimmerNr": "NULL",
                                    "ZimmerNrText": "NULL"
                                },
                                {
                                    "ZimmerID": "945",
                                    "EtagenID": "89",
                                    "Zimmer": "Arztzimmer Vorraum 2-011.2",
                                    "ZimmerNr": "NULL",
                                    "ZimmerNrText": "NULL"
                                },
                                {
                                    "ZimmerID": "946",
                                    "EtagenID": "89",
                                    "Zimmer": "Arztzimmer Dusche/WC 2-011.3",
                                    "ZimmerNr": "NULL",
                                    "ZimmerNrText": "NULL"
                                },
                                {
                                    "ZimmerID": "947",
                                    "EtagenID": "89",
                                    "Zimmer": "Bad/Wickel 1  2-012",
                                    "ZimmerNr": "NULL",
                                    "ZimmerNrText": "NULL"
                                },
                                {
                                    "ZimmerID": "948",
                                    "EtagenID": "89",
                                    "Zimmer": "Gruppenraum 1  2-013",
                                    "ZimmerNr": "NULL",
                                    "ZimmerNrText": "NULL"
                                },
                                {
                                    "ZimmerID": "949",
                                    "EtagenID": "89",
                                    "Zimmer": "Essen/Aufenthalt 1  2-014",
                                    "ZimmerNr": "NULL",
                                    "ZimmerNrText": "NULL"
                                },
                                {
                                    "ZimmerID": "950",
                                    "EtagenID": "89",
                                    "Zimmer": "Flur 2-015",
                                    "ZimmerNr": "NULL",
                                    "ZimmerNrText": "NULL"
                                },
                                {
                                    "ZimmerID": "951",
                                    "EtagenID": "89",
                                    "Zimmer": "Technik 2-016",
                                    "ZimmerNr": "NULL",
                                    "ZimmerNrText": "NULL"
                                },
                                {
                                    "ZimmerID": "952",
                                    "EtagenID": "89",
                                    "Zimmer": "Technik 2-017",
                                    "ZimmerNr": "NULL",
                                    "ZimmerNrText": "NULL"
                                },
                                {
                                    "ZimmerID": "953",
                                    "EtagenID": "89",
                                    "Zimmer": "Personaltoilette Herren 2-018",
                                    "ZimmerNr": "NULL",
                                    "ZimmerNrText": "NULL"
                                },
                                {
                                    "ZimmerID": "954",
                                    "EtagenID": "89",
                                    "Zimmer": "Personaltoilette Damen 2-019",
                                    "ZimmerNr": "NULL",
                                    "ZimmerNrText": "NULL"
                                },
                                {
                                    "ZimmerID": "955",
                                    "EtagenID": "89",
                                    "Zimmer": "Arztzimmer 03 Zimmer 2-020.1",
                                    "ZimmerNr": "NULL",
                                    "ZimmerNrText": "NULL"
                                },
                                {
                                    "ZimmerID": "956",
                                    "EtagenID": "89",
                                    "Zimmer": "Arztzimmer 03 Vorraum 2-020.2",
                                    "ZimmerNr": "NULL",
                                    "ZimmerNrText": "NULL"
                                },
                                {
                                    "ZimmerID": "957",
                                    "EtagenID": "89",
                                    "Zimmer": "Arztzimmer 03 Dusche/WC 2-020.3",
                                    "ZimmerNr": "NULL",
                                    "ZimmerNrText": "NULL"
                                },
                                {
                                    "ZimmerID": "958",
                                    "EtagenID": "89",
                                    "Zimmer": "Patientenzimmer 02 Zimmer 2-021.1",
                                    "ZimmerNr": "NULL",
                                    "ZimmerNrText": "NULL"
                                },
                                {
                                    "ZimmerID": "959",
                                    "EtagenID": "89",
                                    "Zimmer": "Patientenzimmer 02 Vorraum 2-021.2",
                                    "ZimmerNr": "NULL",
                                    "ZimmerNrText": "NULL"
                                },
                                {
                                    "ZimmerID": "960",
                                    "EtagenID": "89",
                                    "Zimmer": "Patientenzimmer 02 Dusche/WC 2-021.3",
                                    "ZimmerNr": "NULL",
                                    "ZimmerNrText": "NULL"
                                },
                                {
                                    "ZimmerID": "961",
                                    "EtagenID": "89",
                                    "Zimmer": "Patientenzimmer 01 Zimmer 2-022.1",
                                    "ZimmerNr": "NULL",
                                    "ZimmerNrText": "NULL"
                                },
                                {
                                    "ZimmerID": "962",
                                    "EtagenID": "89",
                                    "Zimmer": "Patientenzimmer 01 Vorraum 2-022.2",
                                    "ZimmerNr": "NULL",
                                    "ZimmerNrText": "NULL"
                                },
                                {
                                    "ZimmerID": "963",
                                    "EtagenID": "89",
                                    "Zimmer": "Patientenzimmer 01 Dusche/WC 2-022.3",
                                    "ZimmerNr": "NULL",
                                    "ZimmerNrText": "NULL"
                                },
                                {
                                    "ZimmerID": "964",
                                    "EtagenID": "89",
                                    "Zimmer": "Teeküche 2-023",
                                    "ZimmerNr": "NULL",
                                    "ZimmerNrText": "NULL"
                                },
                                {
                                    "ZimmerID": "965",
                                    "EtagenID": "89",
                                    "Zimmer": "Medikamentenraum 2-024",
                                    "ZimmerNr": "NULL",
                                    "ZimmerNrText": "NULL"
                                },
                                {
                                    "ZimmerID": "966",
                                    "EtagenID": "89",
                                    "Zimmer": "Treppenhaus 2-026",
                                    "ZimmerNr": "NULL",
                                    "ZimmerNrText": "NULL"
                                },
                                {
                                    "ZimmerID": "967",
                                    "EtagenID": "89",
                                    "Zimmer": "Flur 2-027",
                                    "ZimmerNr": "NULL",
                                    "ZimmerNrText": "NULL"
                                },
                                {
                                    "ZimmerID": "968",
                                    "EtagenID": "89",
                                    "Zimmer": "Gesprächszimmer 2   2-028",
                                    "ZimmerNr": "NULL",
                                    "ZimmerNrText": "NULL"
                                },
                                {
                                    "ZimmerID": "969",
                                    "EtagenID": "89",
                                    "Zimmer": "Patientenzimmer 10 Zimmer 2-029.1",
                                    "ZimmerNr": "NULL",
                                    "ZimmerNrText": "NULL"
                                },
                                {
                                    "ZimmerID": "970",
                                    "EtagenID": "89",
                                    "Zimmer": "Patientenzimmer 10 Vorraum 2-029.2",
                                    "ZimmerNr": "NULL",
                                    "ZimmerNrText": "NULL"
                                },
                                {
                                    "ZimmerID": "971",
                                    "EtagenID": "89",
                                    "Zimmer": "Patientenzimmer 10 Dusche/WC 2-029.3",
                                    "ZimmerNr": "NULL",
                                    "ZimmerNrText": "NULL"
                                },
                                {
                                    "ZimmerID": "972",
                                    "EtagenID": "89",
                                    "Zimmer": "Arztzimmer 23  2-030",
                                    "ZimmerNr": "NULL",
                                    "ZimmerNrText": "NULL"
                                },
                                {
                                    "ZimmerID": "973",
                                    "EtagenID": "89",
                                    "Zimmer": "Lager 1  2-031",
                                    "ZimmerNr": "NULL",
                                    "ZimmerNrText": "NULL"
                                },
                                {
                                    "ZimmerID": "974",
                                    "EtagenID": "89",
                                    "Zimmer": "Arztzimmer  2-032",
                                    "ZimmerNr": "NULL",
                                    "ZimmerNrText": "NULL"
                                },
                                {
                                    "ZimmerID": "975",
                                    "EtagenID": "89",
                                    "Zimmer": "Vorraum  2-033",
                                    "ZimmerNr": "NULL",
                                    "ZimmerNrText": "NULL"
                                },
                                {
                                    "ZimmerID": "976",
                                    "EtagenID": "89",
                                    "Zimmer": "Stationszimmer 2-034",
                                    "ZimmerNr": "NULL",
                                    "ZimmerNrText": "NULL"
                                },
                                {
                                    "ZimmerID": "977",
                                    "EtagenID": "89",
                                    "Zimmer": "Gesprächszimmer 4  2-035",
                                    "ZimmerNr": "NULL",
                                    "ZimmerNrText": "NULL"
                                },
                                {
                                    "ZimmerID": "978",
                                    "EtagenID": "89",
                                    "Zimmer": "Flur 2-036",
                                    "ZimmerNr": "NULL",
                                    "ZimmerNrText": "NULL"
                                },
                                {
                                    "ZimmerID": "979",
                                    "EtagenID": "89",
                                    "Zimmer": "Verteilerküche 2-037",
                                    "ZimmerNr": "NULL",
                                    "ZimmerNrText": "NULL"
                                },
                                {
                                    "ZimmerID": "980",
                                    "EtagenID": "89",
                                    "Zimmer": "Essen/Aufenthalt 2  2-038",
                                    "ZimmerNr": "NULL",
                                    "ZimmerNrText": "NULL"
                                },
                                {
                                    "ZimmerID": "981",
                                    "EtagenID": "89",
                                    "Zimmer": "Lager 1  2-040",
                                    "ZimmerNr": "NULL",
                                    "ZimmerNrText": "NULL"
                                },
                                {
                                    "ZimmerID": "982",
                                    "EtagenID": "89",
                                    "Zimmer": "TEchnik 2-041",
                                    "ZimmerNr": "NULL",
                                    "ZimmerNrText": "NULL"
                                },
                                {
                                    "ZimmerID": "983",
                                    "EtagenID": "89",
                                    "Zimmer": "Technik 2-042",
                                    "ZimmerNr": "NULL",
                                    "ZimmerNrText": "NULL"
                                },
                                {
                                    "ZimmerID": "984",
                                    "EtagenID": "89",
                                    "Zimmer": "Flur 2-043",
                                    "ZimmerNr": "NULL",
                                    "ZimmerNrText": "NULL"
                                },
                                {
                                    "ZimmerID": "985",
                                    "EtagenID": "89",
                                    "Zimmer": "Arztzimmer 11 Zimmer 2-044.1",
                                    "ZimmerNr": "NULL",
                                    "ZimmerNrText": "NULL"
                                },
                                {
                                    "ZimmerID": "986",
                                    "EtagenID": "89",
                                    "Zimmer": "Arztzimmer 11 Vorraum 2-044.2",
                                    "ZimmerNr": "NULL",
                                    "ZimmerNrText": "NULL"
                                },
                                {
                                    "ZimmerID": "987",
                                    "EtagenID": "89",
                                    "Zimmer": "Arztzimmer 11 Dusche/WC 2-044.3",
                                    "ZimmerNr": "NULL",
                                    "ZimmerNrText": "NULL"
                                },
                                {
                                    "ZimmerID": "988",
                                    "EtagenID": "89",
                                    "Zimmer": "Arztzimmer 12 Zimmer 2-045.1",
                                    "ZimmerNr": "NULL",
                                    "ZimmerNrText": "NULL"
                                },
                                {
                                    "ZimmerID": "989",
                                    "EtagenID": "89",
                                    "Zimmer": "Arztzimmer 12 Vorraum 2-045.2",
                                    "ZimmerNr": "NULL",
                                    "ZimmerNrText": "NULL"
                                },
                                {
                                    "ZimmerID": "990",
                                    "EtagenID": "89",
                                    "Zimmer": "Arztzimmer 12 Dusche/WC 2-045.3",
                                    "ZimmerNr": "NULL",
                                    "ZimmerNrText": "NULL"
                                },
                                {
                                    "ZimmerID": "991",
                                    "EtagenID": "89",
                                    "Zimmer": "Patientenzimmer 13 Zimmer 2-046.1",
                                    "ZimmerNr": "NULL",
                                    "ZimmerNrText": "NULL"
                                },
                                {
                                    "ZimmerID": "992",
                                    "EtagenID": "89",
                                    "Zimmer": "Patientenzimmer 13 Vorraum 2-046.2",
                                    "ZimmerNr": "NULL",
                                    "ZimmerNrText": "NULL"
                                },
                                {
                                    "ZimmerID": "993",
                                    "EtagenID": "89",
                                    "Zimmer": "Patientenzimmer 13 Dusche/WC 2-046.3",
                                    "ZimmerNr": "NULL",
                                    "ZimmerNrText": "NULL"
                                },
                                {
                                    "ZimmerID": "994",
                                    "EtagenID": "89",
                                    "Zimmer": "Patientenzimmer 14 Zimmer 2-047.1",
                                    "ZimmerNr": "NULL",
                                    "ZimmerNrText": "NULL"
                                },
                                {
                                    "ZimmerID": "995",
                                    "EtagenID": "89",
                                    "Zimmer": "Patientenzimmer 14 Vorraum 2-047.2",
                                    "ZimmerNr": "NULL",
                                    "ZimmerNrText": "NULL"
                                },
                                {
                                    "ZimmerID": "996",
                                    "EtagenID": "89",
                                    "Zimmer": "Patientenzimmer 14 Dusche/WC 2-047.3",
                                    "ZimmerNr": "NULL",
                                    "ZimmerNrText": "NULL"
                                },
                                {
                                    "ZimmerID": "997",
                                    "EtagenID": "89",
                                    "Zimmer": "Flur 2-048",
                                    "ZimmerNr": "NULL",
                                    "ZimmerNrText": "NULL"
                                },
                                {
                                    "ZimmerID": "998",
                                    "EtagenID": "89",
                                    "Zimmer": "Flur 2-048.1",
                                    "ZimmerNr": "NULL",
                                    "ZimmerNrText": "NULL"
                                },
                                {
                                    "ZimmerID": "999",
                                    "EtagenID": "89",
                                    "Zimmer": "Patientenzimmer 15 Zimmer 2-049.1",
                                    "ZimmerNr": "NULL",
                                    "ZimmerNrText": "NULL"
                                },
                                {
                                    "ZimmerID": "1000",
                                    "EtagenID": "89",
                                    "Zimmer": "Patientenzimmer 15 Vorraum  2-049.2",
                                    "ZimmerNr": "NULL",
                                    "ZimmerNrText": "NULL"
                                },
                                {
                                    "ZimmerID": "1001",
                                    "EtagenID": "89",
                                    "Zimmer": "Patientenzimmer 15 Dusche/WC 2-049.3",
                                    "ZimmerNr": "NULL",
                                    "ZimmerNrText": "NULL"
                                },
                                {
                                    "ZimmerID": "1002",
                                    "EtagenID": "89",
                                    "Zimmer": "Patientenzimmer 16 Zimmer 2-050.1",
                                    "ZimmerNr": "NULL",
                                    "ZimmerNrText": "NULL"
                                },
                                {
                                    "ZimmerID": "1003",
                                    "EtagenID": "89",
                                    "Zimmer": "Patientenzimmer 16 Vorraum 2-050.2",
                                    "ZimmerNr": "NULL",
                                    "ZimmerNrText": "NULL"
                                },
                                {
                                    "ZimmerID": "1004",
                                    "EtagenID": "89",
                                    "Zimmer": "Patientenzimmer 16 Dusche/WC 2-050.3",
                                    "ZimmerNr": "NULL",
                                    "ZimmerNrText": "NULL"
                                },
                                {
                                    "ZimmerID": "1005",
                                    "EtagenID": "89",
                                    "Zimmer": "Patientenzimmer 17 Zimmer 2-051.1",
                                    "ZimmerNr": "NULL",
                                    "ZimmerNrText": "NULL"
                                },
                                {
                                    "ZimmerID": "1006",
                                    "EtagenID": "89",
                                    "Zimmer": "Patientenzimmer 17 Vorraum 2-051.2",
                                    "ZimmerNr": "NULL",
                                    "ZimmerNrText": "NULL"
                                },
                                {
                                    "ZimmerID": "1007",
                                    "EtagenID": "89",
                                    "Zimmer": "Patientenzimmer 17 Dusche/WC 2-051.3",
                                    "ZimmerNr": "NULL",
                                    "ZimmerNrText": "NULL"
                                },
                                {
                                    "ZimmerID": "1008",
                                    "EtagenID": "89",
                                    "Zimmer": "Patientenzimmer 18 Zimmer 2-052.1",
                                    "ZimmerNr": "NULL",
                                    "ZimmerNrText": "NULL"
                                },
                                {
                                    "ZimmerID": "1009",
                                    "EtagenID": "89",
                                    "Zimmer": "Patientenzimmer 18 Vorraum 2-052.2",
                                    "ZimmerNr": "NULL",
                                    "ZimmerNrText": "NULL"
                                },
                                {
                                    "ZimmerID": "1010",
                                    "EtagenID": "89",
                                    "Zimmer": "Patientenzimmer 18 Dusche/WC 2-052.3",
                                    "ZimmerNr": "NULL",
                                    "ZimmerNrText": "NULL"
                                },
                                {
                                    "ZimmerID": "1011",
                                    "EtagenID": "89",
                                    "Zimmer": "Raucher 2  2-053",
                                    "ZimmerNr": "NULL",
                                    "ZimmerNrText": "NULL"
                                },
                                {
                                    "ZimmerID": "1012",
                                    "EtagenID": "89",
                                    "Zimmer": "Gesprächszimer 3  2-054",
                                    "ZimmerNr": "NULL",
                                    "ZimmerNrText": "NULL"
                                },
                                {
                                    "ZimmerID": "1013",
                                    "EtagenID": "89",
                                    "Zimmer": "Arbeitsraum unrein 2  2-055",
                                    "ZimmerNr": "NULL",
                                    "ZimmerNrText": "NULL"
                                },
                                {
                                    "ZimmerID": "1014",
                                    "EtagenID": "89",
                                    "Zimmer": "Bad/Wicke 2  2-056",
                                    "ZimmerNr": "NULL",
                                    "ZimmerNrText": "NULL"
                                },
                                {
                                    "ZimmerID": "1015",
                                    "EtagenID": "89",
                                    "Zimmer": "Gruppenraum 2  2-057",
                                    "ZimmerNr": "NULL",
                                    "ZimmerNrText": "NULL"
                                },
                                {
                                    "ZimmerID": "1016",
                                    "EtagenID": "89",
                                    "Zimmer": "Patientenzimmer 19 Zimmer 2-058.1",
                                    "ZimmerNr": "NULL",
                                    "ZimmerNrText": "NULL"
                                },
                                {
                                    "ZimmerID": "1017",
                                    "EtagenID": "89",
                                    "Zimmer": "Patientenzimmer 19 Vorraum 2-058.2",
                                    "ZimmerNr": "NULL",
                                    "ZimmerNrText": "NULL"
                                },
                                {
                                    "ZimmerID": "1018",
                                    "EtagenID": "89",
                                    "Zimmer": "Patientenzimmer 19 Dusche/WC 2-058.3",
                                    "ZimmerNr": "NULL",
                                    "ZimmerNrText": "NULL"
                                },
                                {
                                    "ZimmerID": "1019",
                                    "EtagenID": "89",
                                    "Zimmer": "Patientenzimmer 20 Zimmer 2-059.1",
                                    "ZimmerNr": "NULL",
                                    "ZimmerNrText": "NULL"
                                },
                                {
                                    "ZimmerID": "1020",
                                    "EtagenID": "89",
                                    "Zimmer": "Patientenzimmer 20 Vorraum 2-059.2",
                                    "ZimmerNr": "NULL",
                                    "ZimmerNrText": "NULL"
                                },
                                {
                                    "ZimmerID": "1021",
                                    "EtagenID": "89",
                                    "Zimmer": "Patientenzimmer 20 Dusche/WC 2-059.3",
                                    "ZimmerNr": "NULL",
                                    "ZimmerNrText": "NULL"
                                },
                                {
                                    "ZimmerID": "1022",
                                    "EtagenID": "89",
                                    "Zimmer": "Patientenzimmer 21 Zimmer 2-060.1",
                                    "ZimmerNr": "NULL",
                                    "ZimmerNrText": "NULL"
                                },
                                {
                                    "ZimmerID": "1023",
                                    "EtagenID": "89",
                                    "Zimmer": "Patientenzimmer 21 Vorraum 2-060.2",
                                    "ZimmerNr": "NULL",
                                    "ZimmerNrText": "NULL"
                                },
                                {
                                    "ZimmerID": "1024",
                                    "EtagenID": "89",
                                    "Zimmer": "Patientenzimmer 21 Dusche/WC 2-060.3",
                                    "ZimmerNr": "NULL",
                                    "ZimmerNrText": "NULL"
                                },
                                {
                                    "ZimmerID": "1025",
                                    "EtagenID": "89",
                                    "Zimmer": "Treppenhaus 2-061",
                                    "ZimmerNr": "NULL",
                                    "ZimmerNrText": "NULL"
                                },
                                {
                                    "ZimmerID": "1026",
                                    "EtagenID": "89",
                                    "Zimmer": "Lager 2-062",
                                    "ZimmerNr": "NULL",
                                    "ZimmerNrText": "NULL"
                                },
                                {
                                    "ZimmerID": "1027",
                                    "EtagenID": "31",
                                    "Zimmer": "Materialraum",
                                    "ZimmerNr": "10",
                                    "ZimmerNrText": "NULL"
                                }
                            ]
                        },
                        "text/html": [
                            "<table>",
                            "<tr><th>ZimmerID</th><th>EtagenID</th><th>Zimmer</th><th>ZimmerNr</th><th>ZimmerNrText</th></tr>",
                            "<tr><td>1</td><td>1</td><td>Büroraum</td><td>2</td><td> </td></tr>",
                            "<tr><td>2</td><td>1</td><td>EDV Raum</td><td>3</td><td> </td></tr>",
                            "<tr><td>3</td><td>1</td><td>Lager</td><td>4</td><td> </td></tr>",
                            "<tr><td>4</td><td>1</td><td>Lager</td><td>5</td><td> </td></tr>",
                            "<tr><td>5</td><td>1</td><td>Büro Haustechnik</td><td>6</td><td> </td></tr>",
                            "<tr><td>6</td><td>1</td><td>Heizungsraum</td><td>7</td><td> </td></tr>",
                            "<tr><td>7</td><td>1</td><td>Lager Haustechnik</td><td>8</td><td> </td></tr>",
                            "<tr><td>8</td><td>1</td><td>Müllraum</td><td>9</td><td> </td></tr>",
                            "<tr><td>9</td><td>1</td><td>Archiv Buchhaltung</td><td>10</td><td> </td></tr>",
                            "<tr><td>10</td><td>1</td><td> Archiv Patienten</td><td>11</td><td> </td></tr>",
                            "<tr><td>11</td><td>1</td><td>Archiv Patienten</td><td>12</td><td>  </td></tr>",
                            "<tr><td>12</td><td>1</td><td>Lager Hauswirtschaft</td><td>13</td><td>  </td></tr>",
                            "<tr><td>13</td><td>1</td><td> Archiv Patienten</td><td>14</td><td>  </td></tr>",
                            "<tr><td>14</td><td>1</td><td>Lager Haustechnik</td><td>15</td><td>  </td></tr>",
                            "<tr><td>15</td><td>1</td><td>Archiv Patienten</td><td>16</td><td>  </td></tr>",
                            "<tr><td>16</td><td>1</td><td>Archiv Bau</td><td>17</td><td>  </td></tr>",
                            "<tr><td>17</td><td>1</td><td>Lager Haustechnik</td><td>18</td><td>  </td></tr>",
                            "<tr><td>18</td><td>1</td><td>WC</td><td>19</td><td>  </td></tr>",
                            "<tr><td>19</td><td>1</td><td>Lager Haustechnik</td><td>20</td><td>  </td></tr>",
                            "<tr><td>20</td><td>1</td><td>Aufbahrung</td><td>21</td><td>  </td></tr>",
                            "<tr><td>21</td><td>1</td><td>Telefontechnikraum</td><td>22</td><td>  </td></tr>",
                            "<tr><td>23</td><td>2</td><td>Büro Oberarzt ( Meyer-Först )</td><td>2</td><td> </td></tr>",
                            "<tr><td>24</td><td>2</td><td>Büro Oberarzt ( Rönnefarth )</td><td>3</td><td> </td></tr>",
                            "<tr><td>25</td><td>2</td><td>Arztsekretariat</td><td>4</td><td> </td></tr>",
                            "<tr><td>26</td><td>2</td><td>Büro Leitender Arzt</td><td>5</td><td>  </td></tr>",
                            "<tr><td>27</td><td>2</td><td>Büro Leitender Arzt</td><td>6</td><td> </td></tr>",
                            "<tr><td>28</td><td>2</td><td>Bücherfundus</td><td>7</td><td> </td></tr>",
                            "<tr><td>29</td><td>2</td><td>Zenrale Auskunftsstelle</td><td>8</td><td> </td></tr>",
                            "<tr><td>30</td><td>2</td><td>Büromittel</td><td>9</td><td> </td></tr>",
                            "<tr><td>31</td><td>2</td><td>Aufnahmebüro</td><td>10</td><td> </td></tr>",
                            "<tr><td>32</td><td>2</td><td>Sektretariat Geschäftsführung</td><td>11</td><td> </td></tr>",
                            "<tr><td>33</td><td>2</td><td>Büro Geschäftsführung</td><td>12</td><td> </td></tr>",
                            "<tr><td>34</td><td>2</td><td>Ärztebibliotheke</td><td>13</td><td> </td></tr>",
                            "<tr><td>35</td><td>2</td><td>Besprechungsraum</td><td>14</td><td> </td></tr>",
                            "<tr><td>36</td><td>2</td><td>Büro Buchhaltung</td><td>15</td><td> </td></tr>",
                            "<tr><td>37</td><td>2</td><td>Büro Leitung Buchhaltung</td><td>16</td><td> </td></tr>",
                            "<tr><td>38</td><td>2</td><td>WC Damen</td><td>17</td><td> </td></tr>",
                            "<tr><td>39</td><td>2</td><td>WC Herren </td><td>18</td><td> </td></tr>",
                            "<tr><td>40</td><td>2</td><td>WC Mitarbeiter</td><td>19</td><td> </td></tr>",
                            "<tr><td>41</td><td>2</td><td>Personalbuchhaltung</td><td>20</td><td> </td></tr>",
                            "<tr><td>42</td><td>2</td><td>Büro Arztsekretariat</td><td>21</td><td> </td></tr>",
                            "<tr><td>43</td><td>2</td><td>Büro Arztsekretariat</td><td>22</td><td> </td></tr>",
                            "<tr><td>44</td><td>4</td><td>Patientenbilbliotheke  </td><td>1</td><td> </td></tr>",
                            "<tr><td>45</td><td>4</td><td>Magazin HW</td><td>2</td><td>  </td></tr>",
                            "<tr><td>46</td><td>4</td><td>Büro Hauswirtschaftsleitung</td><td>4</td><td>  </td></tr>",
                            "<tr><td>47</td><td>4</td><td>Wäschezentrale</td><td>5</td><td>  </td></tr>",
                            "<tr><td>48</td><td>4</td><td>HW Raum</td><td>6</td><td>  </td></tr>",
                            "<tr><td>49</td><td>4</td><td>HW Raum</td><td>7</td><td>  </td></tr>",
                            "<tr><td>50</td><td>4</td><td>Entsorgungsraum</td><td>8</td><td>  </td></tr>",
                            "<tr><td>51</td><td>4</td><td>WC</td><td>9</td><td>  </td></tr>",
                            "<tr><td>52</td><td>4</td><td>Putzkammer</td><td>10</td><td>  </td></tr>",
                            "<tr><td>53</td><td>4</td><td>Leerstand</td><td>11</td><td>  </td></tr>",
                            "<tr><td>54</td><td>4</td><td>Leerstand 1</td><td>12</td><td>  </td></tr>",
                            "<tr><td>55</td><td>4</td><td>Leerstand 2</td><td>13</td><td>  </td></tr>",
                            "<tr><td>56</td><td>4</td><td>Büro Betriebsrat alt</td><td>14</td><td>  </td></tr>",
                            "<tr><td>57</td><td>4</td><td>EDV Serverraum</td><td>15</td><td>  </td></tr>",
                            "<tr><td>58</td><td>4</td><td>Aufzug</td><td>16</td><td>  </td></tr>",
                            "<tr><td>59</td><td>4</td><td>HW Raum</td><td>17</td><td>  </td></tr>",
                            "<tr><td>60</td><td>5</td><td>Patientenzimmer 1</td><td>NULL</td><td>  </td></tr>",
                            "<tr><td>61</td><td>5</td><td>Patientenzimmer 2</td><td>2</td><td>  </td></tr>",
                            "<tr><td>62</td><td>5</td><td>Patientenzimmer 3</td><td>3</td><td>  </td></tr>",
                            "<tr><td>63</td><td>5</td><td>Patientenzimmer 4</td><td>4</td><td>  </td></tr>",
                            "<tr><td>64</td><td>5</td><td>Patientenzimmer 5</td><td>5</td><td>  </td></tr>",
                            "<tr><td>65</td><td>5</td><td>Patientenzimmer 6</td><td>6</td><td>  </td></tr>",
                            "<tr><td>66</td><td>5</td><td> Patientenzimmer 7</td><td>7</td><td>  </td></tr>",
                            "<tr><td>68</td><td>5</td><td>Gesprächszimmer</td><td>8</td><td>  </td></tr>",
                            "<tr><td>69</td><td>5</td><td>Äußere Anwendungen</td><td>11</td><td>  </td></tr>",
                            "<tr><td>70</td><td>5</td><td>Raucher WC</td><td>12</td><td>  </td></tr>",
                            "<tr><td>71</td><td>5</td><td>Speisesaal</td><td>13</td><td>  </td></tr>",
                            "<tr><td>72</td><td>5</td><td>Teeküche</td><td>14</td><td>  </td></tr>",
                            "<tr><td>73</td><td>5</td><td>Stationszimmer</td><td>15</td><td>  </td></tr>",
                            "<tr><td>74</td><td>5</td><td>Schmutzraum</td><td>16</td><td>  </td></tr>",
                            "<tr><td>75</td><td>5</td><td>Badezimmer</td><td>17</td><td>  </td></tr>",
                            "<tr><td>76</td><td>5</td><td>Dusche</td><td>18</td><td>  </td></tr>",
                            "<tr><td>77</td><td>5</td><td>Flur</td><td>19</td><td>  </td></tr>",
                            "<tr><td>80</td><td>6</td><td>Büro Nr. 10  Arztsek.</td><td>2</td><td>  </td></tr>",
                            "<tr><td>81</td><td>6</td><td>Büro Nr. 9  Arztsek.</td><td>3</td><td>  </td></tr>",
                            "<tr><td>82</td><td>6</td><td>Büro Nr. 8 Arztsek.</td><td>4</td><td>  </td></tr>",
                            "<tr><td>83</td><td>6</td><td>Büro Nr. 6 OA</td><td>5</td><td>  </td></tr>",
                            "<tr><td>84</td><td>6</td><td>Büro Nr. 5 OA</td><td>6</td><td>  </td></tr>",
                            "<tr><td>85</td><td>6</td><td>Büro Nr. 4 OA</td><td>7</td><td>  </td></tr>",
                            "<tr><td>86</td><td>6</td><td>Büro Nr. 3 OA</td><td>8</td><td>  </td></tr>",
                            "<tr><td>87</td><td>6</td><td>Büro Nr. 2 OA</td><td>9</td><td>  </td></tr>",
                            "<tr><td>88</td><td>6</td><td>Patientenzimmer 9</td><td>10</td><td>  </td></tr>",
                            "<tr><td>89</td><td>6</td><td>Patientenzimmer 10</td><td>11</td><td>  </td></tr>",
                            "<tr><td>90</td><td>6</td><td>Patientenzimmer 11 </td><td>12</td><td>  </td></tr>",
                            "<tr><td>91</td><td>6</td><td>Patientenzimmer 12</td><td>13</td><td>  </td></tr>",
                            "<tr><td>92</td><td>6</td><td>Patientenzimmer 13</td><td>14</td><td>  </td></tr>",
                            "<tr><td>93</td><td>6</td><td>Patientenzimmer 14</td><td>15</td><td>  </td></tr>",
                            "<tr><td>94</td><td>6</td><td>Patientenzimmer 15</td><td>16</td><td>  </td></tr>",
                            "<tr><td>95</td><td>6</td><td>Büro Nr. 1 Arztsek.</td><td>10</td><td>  </td></tr>",
                            "<tr><td>96</td><td>6</td><td>Arztzimmer 2</td><td>18</td><td>  </td></tr>",
                            "<tr><td>97</td><td>6</td><td>Büro Nr. 11 Besprechungsraum </td><td>19</td><td>  </td></tr>",
                            "<tr><td>98</td><td>6</td><td>Druckerraum Arztbereich</td><td>20</td><td>  </td></tr>",
                            "<tr><td>99</td><td>6</td><td></td><td>NULL</td><td>  </td></tr>",
                            "<tr><td>100</td><td>7</td><td>Patientenzimmer 1</td><td>2</td><td>  </td></tr>",
                            "<tr><td>101</td><td>7</td><td>Patientenzimmer 2</td><td>3</td><td>  </td></tr>",
                            "<tr><td>102</td><td>7</td><td>Patientenzimmer 3</td><td>4</td><td>  </td></tr>",
                            "<tr><td>103</td><td>7</td><td>Patientenzimmer 4</td><td>5</td><td>  </td></tr>",
                            "<tr><td>104</td><td>7</td><td>Patientenzimmer 5</td><td>6</td><td>  </td></tr>",
                            "<tr><td>105</td><td>7</td><td>Patientenzimmer 6</td><td>7</td><td>  </td></tr>",
                            "<tr><td>106</td><td>7</td><td>Patientenzimmer 7</td><td>8</td><td>  </td></tr>",
                            "<tr><td>107</td><td>7</td><td>Patientenzimmer 8</td><td>9</td><td>  </td></tr>",
                            "<tr><td>108</td><td>7</td><td>Stationszimmer</td><td>10</td><td>  </td></tr>",
                            "<tr><td>109</td><td>7</td><td>Teeküche</td><td>11</td><td>  </td></tr>",
                            "<tr><td>110</td><td>7</td><td>Äußere Anwendungen</td><td>12</td><td>  </td></tr>",
                            "<tr><td>111</td><td>7</td><td>Schmutzraum</td><td>13</td><td>  </td></tr>",
                            "<tr><td>112</td><td>7</td><td>Arztzimmer</td><td>14</td><td>  </td></tr>",
                            "<tr><td>113</td><td>7</td><td>WC Herren</td><td>15</td><td>  </td></tr>",
                            "<tr><td>114</td><td>7</td><td>WC Damen</td><td>16</td><td>  </td></tr>",
                            "<tr><td>115</td><td>7</td><td>Flur</td><td>17</td><td>  </td></tr>",
                            "<tr><td>116</td><td>7</td><td>WC Mitarbeiter</td><td>18</td><td>  </td></tr>",
                            "<tr><td>117</td><td>7</td><td>Besucherzimmer</td><td>19</td><td>  </td></tr>",
                            "<tr><td>118</td><td>7</td><td>Bad</td><td>20</td><td>  </td></tr>",
                            "<tr><td>119</td><td>7</td><td>Dusche</td><td>21</td><td>  </td></tr>",
                            "<tr><td>120</td><td>4</td><td>Heizraum</td><td>1</td><td>  </td></tr>",
                            "<tr><td>121</td><td>4</td><td>Umkleideraum Mitarbeiter</td><td>2</td><td>  </td></tr>",
                            "<tr><td>122</td><td>4</td><td>Hauswirtschaftsraum</td><td>3</td><td>  </td></tr>",
                            "<tr><td>123</td><td>4</td><td>Waschmaschinenraum</td><td>4</td><td>  </td></tr>",
                            "<tr><td>124</td><td>4</td><td>Trockenraum</td><td>5</td><td>  </td></tr>",
                            "<tr><td>125</td><td>4</td><td>Patientenbibliothek</td><td>6</td><td>  </td></tr>",
                            "<tr><td>126</td><td>10</td><td>Zimmer 201</td><td>1</td><td> </td></tr>",
                            "<tr><td>127</td><td>10</td><td>Zimmer 202</td><td>2</td><td> </td></tr>",
                            "<tr><td>128</td><td>10</td><td>Zimmer 203</td><td>3</td><td> </td></tr>",
                            "<tr><td>129</td><td>10</td><td>Zimmer 204</td><td>4</td><td> </td></tr>",
                            "<tr><td>130</td><td>10</td><td>Büro QM / Pflege</td><td>5</td><td> </td></tr>",
                            "<tr><td>131</td><td>10</td><td>Büro Pflegedienstleitung</td><td>6</td><td> </td></tr>",
                            "<tr><td>132</td><td>10</td><td>Büro Assistentin der Pflegedienstleitung</td><td>7</td><td> </td></tr>",
                            "<tr><td>133</td><td>10</td><td>Zimmer 209</td><td>8</td><td> </td></tr>",
                            "<tr><td>134</td><td>10</td><td>Zimmer 210</td><td>9</td><td> </td></tr>",
                            "<tr><td>135</td><td>10</td><td>ZIMMER 211</td><td>10</td><td> </td></tr>",
                            "<tr><td>136</td><td>10</td><td>Zimmer 212</td><td>11</td><td> </td></tr>",
                            "<tr><td>137</td><td>10</td><td>Zimmer 213</td><td>12</td><td> </td></tr>",
                            "<tr><td>138</td><td>10</td><td>Zimmer 214</td><td>13</td><td>  </td></tr>",
                            "<tr><td>139</td><td>10</td><td>Zimmer 215</td><td>14</td><td> </td></tr>",
                            "<tr><td>140</td><td>10</td><td>Zimmer 216</td><td>15</td><td> </td></tr>",
                            "<tr><td>156</td><td>4</td><td>Flur</td><td>1</td><td>  </td></tr>",
                            "<tr><td>157</td><td>6</td><td>Gruppenraum</td><td>1</td><td>  </td></tr>",
                            "<tr><td>158</td><td>6</td><td>Teeküche</td><td>2</td><td>  </td></tr>",
                            "<tr><td>159</td><td>6</td><td></td><td>NULL</td><td>  </td></tr>",
                            "<tr><td>160</td><td>6</td><td>Ärztebibliothek</td><td>4</td><td>  </td></tr>",
                            "<tr><td>161</td><td>6</td><td>Dusche</td><td>5</td><td>  </td></tr>",
                            "<tr><td>162</td><td>6</td><td>Speisesaal</td><td>6</td><td>  </td></tr>",
                            "<tr><td>163</td><td>6</td><td>Raucher WC</td><td>1</td><td>  </td></tr>",
                            "<tr><td>164</td><td>6</td><td>WC Damen</td><td>2</td><td>  </td></tr>",
                            "<tr><td>165</td><td>6</td><td>WC Herren</td><td>3</td><td>  </td></tr>",
                            "<tr><td>166</td><td>6</td><td> WC Arztbereich</td><td>4</td><td>  </td></tr>",
                            "<tr><td>167</td><td>6</td><td></td><td>NULL</td><td>  </td></tr>",
                            "<tr><td>168</td><td>6</td><td>Garten</td><td>6</td><td>  </td></tr>",
                            "<tr><td>169</td><td>6</td><td>Putzkammer</td><td>1</td><td>  </td></tr>",
                            "<tr><td>170</td><td>6</td><td> WC Mitarbeiter</td><td>2</td><td>  </td></tr>",
                            "<tr><td>171</td><td>6</td><td>Äußere Anwendungen</td><td>3</td><td>  </td></tr>",
                            "<tr><td>172</td><td>6</td><td>Flur</td><td>4</td><td>  </td></tr>",
                            "<tr><td>173</td><td>6</td><td>Büro Nr. 7 Chefarzt</td><td>5</td><td>  </td></tr>",
                            "<tr><td>175</td><td>7</td><td>Tagungsraum</td><td>1</td><td>  </td></tr>",
                            "<tr><td>176</td><td>16</td><td>Gastzimmer 740</td><td>1</td><td>  </td></tr>",
                            "<tr><td>177</td><td>16</td><td>Gastzimmer 743</td><td>2</td><td>  </td></tr>",
                            "<tr><td>178</td><td>16</td><td>Dienstarztzimmer </td><td>3</td><td>  </td></tr>",
                            "<tr><td>179</td><td>16</td><td>Arbeitszimmer Dienstarzt</td><td>4</td><td>  </td></tr>",
                            "<tr><td>180</td><td>16</td><td>Speicher</td><td>5</td><td>  </td></tr>",
                            "<tr><td>181</td><td>16</td><td>Flur</td><td>6</td><td>  </td></tr>",
                            "<tr><td>182</td><td>16</td><td>Lüftungszentrale</td><td>1</td><td>  </td></tr>",
                            "<tr><td>183</td><td>17</td><td>Sozialdienst</td><td>1</td><td>  </td></tr>",
                            "<tr><td>184</td><td>17</td><td>Arztzimmer UST</td><td>2</td><td>  </td></tr>",
                            "<tr><td>185</td><td>17</td><td>Arztzimmer OST</td><td>3</td><td>  </td></tr>",
                            "<tr><td>186</td><td>17</td><td>Arztzimmer MST</td><td>4</td><td>  </td></tr>",
                            "<tr><td>187</td><td>17</td><td>Gruppenraum UST</td><td>5</td><td>  </td></tr>",
                            "<tr><td>188</td><td>17</td><td>Krankengymnastik</td><td>6</td><td>  </td></tr>",
                            "<tr><td>189</td><td>17</td><td>Bettenzentrale</td><td>7</td><td>  </td></tr>",
                            "<tr><td>190</td><td>17</td><td>Pflegemagazin</td><td>8</td><td>  </td></tr>",
                            "<tr><td>191</td><td>17</td><td>WC Mitarbeiter</td><td>1</td><td>  </td></tr>",
                            "<tr><td>192</td><td>17</td><td>WC</td><td>2</td><td>  </td></tr>",
                            "<tr><td>193</td><td>17</td><td>Dusche</td><td>3</td><td>  </td></tr>",
                            "<tr><td>194</td><td>17</td><td>Hauswirtschaftsraum</td><td>4</td><td>  </td></tr>",
                            "<tr><td>195</td><td>17</td><td>Tischtennisplattenraum</td><td>5</td><td>  </td></tr>",
                            "<tr><td>196</td><td>17</td><td>Kofferkammer</td><td>6</td><td>  </td></tr>",
                            "<tr><td>197</td><td>17</td><td>Flur</td><td>7</td><td>  </td></tr>",
                            "<tr><td>198</td><td>17</td><td>WC Besucher</td><td>8</td><td>  </td></tr>",
                            "<tr><td>199</td><td>17</td><td>Putzkammer</td><td>1</td><td>  </td></tr>",
                            "<tr><td>200</td><td>17</td><td>Windfang</td><td>2</td><td>  </td></tr>",
                            "<tr><td>201</td><td>17</td><td>Brandmeldezentrale</td><td>3</td><td>  </td></tr>",
                            "<tr><td>202</td><td>17</td><td>Foyer Haupteingang</td><td>4</td><td>  </td></tr>",
                            "<tr><td>207</td><td>6</td><td>Büro Nr. 12 Arztsek.</td><td>12</td><td>  </td></tr>",
                            "<tr><td>210</td><td>5</td><td>Patientenzimmer 8</td><td>1</td><td>  </td></tr>",
                            "<tr><td>211</td><td>5</td><td>WC Behinderten</td><td>1</td><td>  </td></tr>",
                            "<tr><td>212</td><td>5</td><td>WC Damen</td><td>2</td><td>  </td></tr>",
                            "<tr><td>213</td><td>7</td><td>Putzkammer</td><td>1</td><td>  </td></tr>",
                            "<tr><td>214</td><td>7</td><td>WC Behinderten</td><td>1</td><td>  </td></tr>",
                            "<tr><td>215</td><td>7</td><td>Speisesaal</td><td>1</td><td>  </td></tr>",
                            "<tr><td>216</td><td>21</td><td>Büro Therapieleitung</td><td>1</td><td>  </td></tr>",
                            "<tr><td>217</td><td>21</td><td>Schmutzwäsche</td><td>2</td><td>  </td></tr>",
                            "<tr><td>218</td><td>21</td><td>Magazin HW</td><td>3</td><td>  </td></tr>",
                            "<tr><td>219</td><td>21</td><td>Wäschezentrale</td><td>4</td><td>  </td></tr>",
                            "<tr><td>220</td><td>21</td><td>Bettenabrüstung</td><td>5</td><td>  </td></tr>",
                            "<tr><td>221</td><td>21</td><td>Büro Hausleitung</td><td>6</td><td>  </td></tr>",
                            "<tr><td>222</td><td>21</td><td>Bettenzentrale</td><td>7</td><td>  </td></tr>",
                            "<tr><td>223</td><td>21</td><td>Hebeanlage</td><td>8</td><td>  </td></tr>",
                            "<tr><td>224</td><td>21</td><td>Heizraum</td><td>9</td><td>  </td></tr>",
                            "<tr><td>225</td><td>21</td><td>Elektroverteilerraum</td><td>10</td><td>  </td></tr>",
                            "<tr><td>226</td><td>21</td><td>Büromittel</td><td>11</td><td>  </td></tr>",
                            "<tr><td>227</td><td>21</td><td>Flur West</td><td>12</td><td>  </td></tr>",
                            "<tr><td>228</td><td>21</td><td>Flur Anlieferung</td><td>13</td><td>  </td></tr>",
                            "<tr><td>229</td><td>21</td><td>Flur</td><td>14</td><td>  </td></tr>",
                            "<tr><td>230</td><td>21</td><td>Treppenraum</td><td>15</td><td>  </td></tr>",
                            "<tr><td>231</td><td>21</td><td>Patientenwaschmaschinenraum</td><td>16</td><td>  </td></tr>",
                            "<tr><td>232</td><td>21</td><td>WC Besucher Herren</td><td>17</td><td>  </td></tr>",
                            "<tr><td>233</td><td>21</td><td>WC Besucher Damen</td><td>18</td><td>  </td></tr>",
                            "<tr><td>234</td><td>21</td><td>Pflegemagazin</td><td>19</td><td>  </td></tr>",
                            "<tr><td>235</td><td>21</td><td>Magazin HW</td><td>20</td><td>  </td></tr>",
                            "<tr><td>236</td><td>21</td><td>Umkleide Damen</td><td>1</td><td>  </td></tr>",
                            "<tr><td>237</td><td>21</td><td>Umkleide Herren</td><td>2</td><td>  </td></tr>",
                            "<tr><td>238</td><td>21</td><td>Müllraum</td><td>3</td><td>  </td></tr>",
                            "<tr><td>239</td><td>21</td><td>Aussengelände Anlieferung</td><td>4</td><td>  </td></tr>",
                            "<tr><td>241</td><td>22</td><td>Patientenzimmer 1</td><td>1</td><td>  </td></tr>",
                            "<tr><td>242</td><td>22</td><td>Patientenzimmer 2</td><td>2</td><td>  </td></tr>",
                            "<tr><td>243</td><td>22</td><td>Patientenzimmer 3</td><td>3</td><td>  </td></tr>",
                            "<tr><td>244</td><td>22</td><td>Patientenzimmer 4</td><td>4</td><td>  </td></tr>",
                            "<tr><td>245</td><td>22</td><td>Besucherzimmer</td><td>5</td><td>  </td></tr>",
                            "<tr><td>246</td><td>22</td><td>Speisesaal</td><td>6</td><td>  </td></tr>",
                            "<tr><td>247</td><td>22</td><td>Verteilerküche</td><td>7</td><td>  </td></tr>",
                            "<tr><td>248</td><td>22</td><td>Patientenzimmer 5</td><td>8</td><td>  </td></tr>",
                            "<tr><td>249</td><td>22</td><td>Patientenzimmer 6 </td><td>9</td><td>  </td></tr>",
                            "<tr><td>250</td><td>22</td><td>Patientenzimmer 7</td><td>10</td><td>  </td></tr>",
                            "<tr><td>251</td><td>22</td><td>Patientenzimmer 8</td><td>11</td><td>  </td></tr>",
                            "<tr><td>252</td><td>22</td><td>Patientenzimmer 9</td><td>12</td><td>  </td></tr>",
                            "<tr><td>253</td><td>22</td><td>Patientenzimmer 10</td><td>13</td><td>  </td></tr>",
                            "<tr><td>254</td><td>22</td><td>Arztzimmer groß</td><td>14</td><td>  </td></tr>",
                            "<tr><td>255</td><td>22</td><td>Arztzimmer klein</td><td>15</td><td>  </td></tr>",
                            "<tr><td>256</td><td>22</td><td>Werkraum</td><td>16</td><td>  </td></tr>",
                            "<tr><td>257</td><td>22</td><td>Putzkammer</td><td>17</td><td>  </td></tr>",
                            "<tr><td>258</td><td>22</td><td>Stationsbad</td><td>18</td><td>  </td></tr>",
                            "<tr><td>259</td><td>22</td><td>Garderobe</td><td>19</td><td>  </td></tr>",
                            "<tr><td>260</td><td>22</td><td>WC Mitarbeiter Herren</td><td>20</td><td>  </td></tr>",
                            "<tr><td>261</td><td>22</td><td>WC Mitarbeiter Damen</td><td>1</td><td>  </td></tr>",
                            "<tr><td>262</td><td>22</td><td>Stationszimmer</td><td>2</td><td>  </td></tr>",
                            "<tr><td>263</td><td>22</td><td>Schreibzimmer</td><td>3</td><td>  </td></tr>",
                            "<tr><td>264</td><td>22</td><td>Wickelraum</td><td>4</td><td>  </td></tr>",
                            "<tr><td>265</td><td>22</td><td>Schmutzraum</td><td>5</td><td>  </td></tr>",
                            "<tr><td>266</td><td>22</td><td>Teeküche</td><td>6</td><td>  </td></tr>",
                            "<tr><td>267</td><td>22</td><td></td><td>NULL</td><td>  </td></tr>",
                            "<tr><td>268</td><td>22</td><td></td><td>NULL</td><td>  </td></tr>",
                            "<tr><td>269</td><td>22</td><td>Patientenzimmer 11</td><td>7</td><td>  </td></tr>",
                            "<tr><td>270</td><td>22</td><td>Raucherbalkon</td><td>8</td><td>  </td></tr>",
                            "<tr><td>271</td><td>22</td><td>Gärtchen</td><td>9</td><td>  </td></tr>",
                            "<tr><td>272</td><td>22</td><td>Flur</td><td>10</td><td>  </td></tr>",
                            "<tr><td>273</td><td>22</td><td>Foyer</td><td>11</td><td>  </td></tr>",
                            "<tr><td>274</td><td>28</td><td>Sprachtherapie</td><td>1</td><td>  </td></tr>",
                            "<tr><td>275</td><td>28</td><td>Teeküche</td><td>2</td><td>  </td></tr>",
                            "<tr><td>276</td><td>28</td><td>WC `s</td><td>3</td><td>  </td></tr>",
                            "<tr><td>277</td><td>28</td><td>Stuhllager</td><td>4</td><td>  </td></tr>",
                            "<tr><td>278</td><td>28</td><td>Nebenraum Bühne</td><td>5</td><td>  </td></tr>",
                            "<tr><td>279</td><td>23</td><td>Patientenzimmer 1</td><td>1</td><td>  </td></tr>",
                            "<tr><td>280</td><td>23</td><td>Patientenzimmer 2</td><td>2</td><td>  </td></tr>",
                            "<tr><td>281</td><td>23</td><td>Patientenzimmer 3</td><td>3</td><td>  </td></tr>",
                            "<tr><td>282</td><td>23</td><td>Patientenzimmer 4</td><td>4</td><td>  </td></tr>",
                            "<tr><td>283</td><td>23</td><td>Arztzimmer</td><td>5</td><td>  </td></tr>",
                            "<tr><td>284</td><td>23</td><td>Speisesaal</td><td>6</td><td>  </td></tr>",
                            "<tr><td>285</td><td>23</td><td>Verteilerküche</td><td>7</td><td>  </td></tr>",
                            "<tr><td>286</td><td>23</td><td>Patientenzimmer 5</td><td>8</td><td>  </td></tr>",
                            "<tr><td>287</td><td>23</td><td>Patientenzimmer 6</td><td>9</td><td>  </td></tr>",
                            "<tr><td>288</td><td>23</td><td>Patientenzimmer 7</td><td>10</td><td>  </td></tr>",
                            "<tr><td>289</td><td>23</td><td>Patientenzimmer 8</td><td>11</td><td>  </td></tr>",
                            "<tr><td>290</td><td>23</td><td>Patientenzimmer 9</td><td>12</td><td>  </td></tr>",
                            "<tr><td>291</td><td>23</td><td>Patientenzimmer 10</td><td>13</td><td>  </td></tr>",
                            "<tr><td>292</td><td>23</td><td>Arztzimmer groß</td><td>14</td><td>  </td></tr>",
                            "<tr><td>293</td><td>23</td><td>Arztzimmer klein</td><td>15</td><td>  </td></tr>",
                            "<tr><td>294</td><td>23</td><td>Werkraum</td><td>16</td><td>  </td></tr>",
                            "<tr><td>295</td><td>23</td><td>Putzkammer</td><td>17</td><td>  </td></tr>",
                            "<tr><td>296</td><td>23</td><td>Stationsbad</td><td>18</td><td>  </td></tr>",
                            "<tr><td>297</td><td>23</td><td>Garderobe</td><td>19</td><td>  </td></tr>",
                            "<tr><td>298</td><td>23</td><td>WC MItarbeiter Herren</td><td>20</td><td>  </td></tr>",
                            "<tr><td>299</td><td>23</td><td>WC Mitarbeiter Damen </td><td>21</td><td>  </td></tr>",
                            "<tr><td>300</td><td>23</td><td>Stationszimmer</td><td>22</td><td>  </td></tr>",
                            "<tr><td>301</td><td>23</td><td>Schreibzimmer</td><td>23</td><td>  </td></tr>",
                            "<tr><td>302</td><td>23</td><td>Wickelraum</td><td>24</td><td>  </td></tr>",
                            "<tr><td>303</td><td>23</td><td>Schmutzraum</td><td>25</td><td>  </td></tr>",
                            "<tr><td>304</td><td>23</td><td>Teeküche</td><td>26</td><td>  </td></tr>",
                            "<tr><td>305</td><td>23</td><td></td><td>NULL</td><td>  </td></tr>",
                            "<tr><td>306</td><td>23</td><td></td><td>NULL</td><td>   </td></tr>",
                            "<tr><td>307</td><td>23</td><td>Patientenzimmer 11</td><td>27</td><td>  </td></tr>",
                            "<tr><td>308</td><td>23</td><td> Balkon</td><td>28</td><td>  </td></tr>",
                            "<tr><td>309</td><td>23</td><td>Flur</td><td>29</td><td>  </td></tr>",
                            "<tr><td>310</td><td>23</td><td>Foyer</td><td>30</td><td>  </td></tr>",
                            "<tr><td>311</td><td>23</td><td></td><td>33</td><td>  </td></tr>",
                            "<tr><td>312</td><td>24</td><td>Patientenzimmer 1</td><td>1</td><td>  </td></tr>",
                            "<tr><td>313</td><td>24</td><td>Patientenzimmer 2</td><td>2</td><td>  </td></tr>",
                            "<tr><td>314</td><td>24</td><td>Patientenzimmer 3</td><td>3</td><td>  </td></tr>",
                            "<tr><td>315</td><td>24</td><td>Patientenzimmer 4</td><td>4</td><td>  </td></tr>",
                            "<tr><td>316</td><td>24</td><td>Arztzimmer</td><td>5</td><td>  </td></tr>",
                            "<tr><td>317</td><td>24</td><td>Speisesaal</td><td>6</td><td>  </td></tr>",
                            "<tr><td>318</td><td>24</td><td>Teeküche</td><td>7</td><td>  </td></tr>",
                            "<tr><td>319</td><td>24</td><td>Patientenzimmer 5</td><td>8</td><td>  </td></tr>",
                            "<tr><td>320</td><td>24</td><td>Patientenzimmer 6</td><td>9</td><td>  </td></tr>",
                            "<tr><td>321</td><td>24</td><td>Patientenzimmer 7</td><td>10</td><td>  </td></tr>",
                            "<tr><td>322</td><td>24</td><td>Patientenzimmer 8</td><td>11</td><td>  </td></tr>",
                            "<tr><td>323</td><td>24</td><td>Patientenzimmer 9</td><td>12</td><td>  </td></tr>",
                            "<tr><td>324</td><td>24</td><td>Patientenzimmer 10</td><td>13</td><td>  </td></tr>",
                            "<tr><td>325</td><td>24</td><td>Gemeinschaftsraum</td><td>14</td><td>  </td></tr>",
                            "<tr><td>326</td><td>24</td><td>Arztzimmer klein</td><td>15</td><td>  </td></tr>",
                            "<tr><td>327</td><td>24</td><td>Arztzimmer groß</td><td>16</td><td>  </td></tr>",
                            "<tr><td>328</td><td>24</td><td>Putzkammer</td><td>17</td><td>  </td></tr>",
                            "<tr><td>329</td><td>24</td><td>Stationsbad</td><td>18</td><td>  </td></tr>",
                            "<tr><td>330</td><td>24</td><td>Garderobe</td><td>19</td><td>  </td></tr>",
                            "<tr><td>331</td><td>24</td><td>WC Mitarbeiter Herren</td><td>20</td><td>  </td></tr>",
                            "<tr><td>332</td><td>24</td><td>WC Mitarbeiter Damen</td><td>21</td><td>  </td></tr>",
                            "<tr><td>333</td><td>24</td><td>Stationszimmer</td><td>22</td><td>  </td></tr>",
                            "<tr><td>334</td><td>24</td><td>Schreibzimmer</td><td>23</td><td>  </td></tr>",
                            "<tr><td>335</td><td>24</td><td>Schmutzraum</td><td>24</td><td>  </td></tr>",
                            "<tr><td>336</td><td>24</td><td>Geräteraum</td><td>25</td><td>  </td></tr>",
                            "<tr><td>337</td><td>24</td><td>Äußere Anwendungen</td><td>26</td><td>  </td></tr>",
                            "<tr><td>338</td><td>24</td><td></td><td>NULL</td><td>   </td></tr>",
                            "<tr><td>339</td><td>24</td><td></td><td>NULL</td><td>  </td></tr>",
                            "<tr><td>340</td><td>24</td><td>Patientenzimmer 11</td><td>27</td><td>  </td></tr>",
                            "<tr><td>341</td><td>24</td><td>Balkon</td><td>28</td><td>  </td></tr>",
                            "<tr><td>342</td><td>24</td><td>Flur</td><td>29</td><td>  </td></tr>",
                            "<tr><td>343</td><td>24</td><td>Foyer</td><td>30</td><td>  </td></tr>",
                            "<tr><td>344</td><td>24</td><td></td><td>33</td><td>  </td></tr>",
                            "<tr><td>345</td><td>25</td><td>Lüftungszentrale</td><td>1</td><td>  </td></tr>",
                            "<tr><td>346</td><td>25</td><td>Pflegebereitschaftsraum</td><td>2</td><td>  </td></tr>",
                            "<tr><td>347</td><td>25</td><td>Speicher</td><td>3</td><td>  </td></tr>",
                            "<tr><td>348</td><td>25</td><td></td><td>4</td><td>NULL</td></tr>",
                            "<tr><td>349</td><td>27</td><td>Musiktherapie</td><td>1</td><td>  </td></tr>",
                            "<tr><td>350</td><td>27</td><td>Büro Funktionsoberarzt</td><td>2</td><td>  </td></tr>",
                            "<tr><td>351</td><td>27</td><td>Büro Leitung Therapie</td><td>3</td><td>  </td></tr>",
                            "<tr><td>352</td><td>27</td><td>Büro Arzt Terra</td><td>4</td><td>  </td></tr>",
                            "<tr><td>353</td><td>27</td><td>Physiotherapie</td><td>5</td><td>  </td></tr>",
                            "<tr><td>354</td><td>27</td><td>Büro </td><td>6</td><td>  </td></tr>",
                            "<tr><td>355</td><td>27</td><td>Büro </td><td>7</td><td>  </td></tr>",
                            "<tr><td>356</td><td>27</td><td>Büro</td><td>8</td><td>  </td></tr>",
                            "<tr><td>357</td><td>27</td><td>Büro</td><td>9</td><td>  </td></tr>",
                            "<tr><td>358</td><td>27</td><td>KleinesT reppenhaus</td><td>10</td><td>  </td></tr>",
                            "<tr><td>359</td><td>27</td><td>Weberei</td><td>11</td><td>  </td></tr>",
                            "<tr><td>360</td><td>27</td><td>Zugang Weberei</td><td>12</td><td>  </td></tr>",
                            "<tr><td>361</td><td>27</td><td>Putzkammer</td><td>13</td><td>  </td></tr>",
                            "<tr><td>362</td><td>27</td><td>Putzkammer</td><td>14</td><td>  </td></tr>",
                            "<tr><td>363</td><td>28</td><td>Bühne</td><td>1</td><td>  </td></tr>",
                            "<tr><td>364</td><td>28</td><td>Nebenraum</td><td>2</td><td>  </td></tr>",
                            "<tr><td>365</td><td>28</td><td>WC</td><td>3</td><td>  </td></tr>",
                            "<tr><td>366</td><td>28</td><td>Treppenhaus hinten</td><td>4</td><td>  </td></tr>",
                            "<tr><td>367</td><td>28</td><td>Saal</td><td>5</td><td>  </td></tr>",
                            "<tr><td>368</td><td>28</td><td>Foyer / Garderobe</td><td>6</td><td>  </td></tr>",
                            "<tr><td>374</td><td>29</td><td>Magazin</td><td>1</td><td>  </td></tr>",
                            "<tr><td>375</td><td>29</td><td>Aufzug</td><td>2</td><td>  </td></tr>",
                            "<tr><td>376</td><td>29</td><td>Lager ( alter TK)</td><td>3</td><td>  </td></tr>",
                            "<tr><td>377</td><td>29</td><td>Umkleide Frauen</td><td>4</td><td>  </td></tr>",
                            "<tr><td>378</td><td>29</td><td></td><td>5</td><td>  </td></tr>",
                            "<tr><td>379</td><td>29</td><td>Leergutlager</td><td>6</td><td>  </td></tr>",
                            "<tr><td>380</td><td>29</td><td>Treppenaufgang</td><td>7</td><td>  </td></tr>",
                            "<tr><td>381</td><td>29</td><td>Lager ( Bananenkeller )</td><td>8</td><td>  </td></tr>",
                            "<tr><td>382</td><td>29</td><td>Heizraum</td><td>9</td><td>  </td></tr>",
                            "<tr><td>383</td><td>29</td><td>Flur</td><td>10</td><td>  </td></tr>",
                            "<tr><td>384</td><td>29</td><td>Schmutzraum</td><td>11</td><td>  </td></tr>",
                            "<tr><td>385</td><td>29</td><td>Kühlraum ( Kartoffeln) </td><td>12</td><td>  </td></tr>",
                            "<tr><td>386</td><td>29</td><td>Kühlraum ( Gemüse )</td><td>13</td><td>  </td></tr>",
                            "<tr><td>387</td><td>29</td><td>Aufenthaltsraum</td><td>14</td><td>  </td></tr>",
                            "<tr><td>388</td><td>29</td><td>Eingangsbereich</td><td>15</td><td>  </td></tr>",
                            "<tr><td>389</td><td>29</td><td>Garage</td><td>1</td><td>  </td></tr>",
                            "<tr><td>390</td><td>30</td><td>Topfspüle </td><td>1</td><td>  </td></tr>",
                            "<tr><td>391</td><td>30</td><td>Backstube</td><td>2</td><td>  </td></tr>",
                            "<tr><td>392</td><td>30</td><td>Brotkammer</td><td>3</td><td>  </td></tr>",
                            "<tr><td>393</td><td>30</td><td>Kalte Küche</td><td>4</td><td>  </td></tr>",
                            "<tr><td>394</td><td>30</td><td>Kühlraum 1</td><td>5</td><td>  </td></tr>",
                            "<tr><td>395</td><td>30</td><td>Kühlraum 2</td><td>6</td><td>  </td></tr>",
                            "<tr><td>396</td><td>30</td><td>Kühlschrank</td><td>7</td><td>  </td></tr>",
                            "<tr><td>397</td><td>30</td><td>Umkleide Herren</td><td>8</td><td>  </td></tr>",
                            "<tr><td>398</td><td>30</td><td>Treppenaufgang</td><td>9</td><td>  </td></tr>",
                            "<tr><td>399</td><td>30</td><td>Magazin</td><td>10</td><td>  </td></tr>",
                            "<tr><td>400</td><td>30</td><td>Hauptküche </td><td>11</td><td>  </td></tr>",
                            "<tr><td>401</td><td>30</td><td>Lager Thermoboxen</td><td>12</td><td>  </td></tr>",
                            "<tr><td>402</td><td>30</td><td>Stellplatz Essenswägen</td><td>13</td><td>  </td></tr>",
                            "<tr><td>403</td><td>30</td><td>Stellplatz E- Wagen</td><td>14</td><td>  </td></tr>",
                            "<tr><td>404</td><td>30</td><td>Gemüseküche</td><td>15</td><td>  </td></tr>",
                            "<tr><td>405</td><td>30</td><td>Putzkammer</td><td>16</td><td>  </td></tr>",
                            "<tr><td>406</td><td>30</td><td>Flur</td><td>17</td><td>  </td></tr>",
                            "<tr><td>407</td><td>30</td><td>Büro Leitung Speiseversorgung</td><td>18</td><td>  </td></tr>",
                            "<tr><td>410</td><td>31</td><td>Eingangsbereich</td><td>1</td><td>  </td></tr>",
                            "<tr><td>411</td><td>31</td><td>Galeria</td><td>2</td><td>  </td></tr>",
                            "<tr><td>412</td><td>31</td><td>WC`s</td><td>3</td><td>  </td></tr>",
                            "<tr><td>413</td><td>31</td><td>Anrichte</td><td>4</td><td>  </td></tr>",
                            "<tr><td>414</td><td>31</td><td>Spülküche</td><td>5</td><td>  </td></tr>",
                            "<tr><td>415</td><td>31</td><td>Schulungsraum</td><td>6</td><td>  </td></tr>",
                            "<tr><td>416</td><td>31</td><td>Garderobe</td><td>7</td><td>  </td></tr>",
                            "<tr><td>417</td><td>31</td><td>WC´s</td><td>8</td><td>  </td></tr>",
                            "<tr><td>418</td><td>31</td><td>Aussenbereich</td><td>9</td><td>  </td></tr>",
                            "<tr><td>419</td><td>32</td><td>Oberstübchen</td><td>1</td><td>  </td></tr>",
                            "<tr><td>420</td><td>32</td><td>Speicher</td><td>2</td><td>  </td></tr>",
                            "<tr><td>421</td><td>32</td><td>Treppe</td><td>3</td><td>  </td></tr>",
                            "<tr><td>422</td><td>45</td><td>Eingangsbereich </td><td>1</td><td>  </td></tr>",
                            "<tr><td>423</td><td>45</td><td>Trainingsraum</td><td>2</td><td>  </td></tr>",
                            "<tr><td>424</td><td>45</td><td>Schreinerei Bankraum</td><td>3</td><td>  </td></tr>",
                            "<tr><td>425</td><td>45</td><td>Holzlager Freiraum</td><td>4</td><td>  </td></tr>",
                            "<tr><td>426</td><td>45</td><td>Elektroverteilerraum</td><td>5</td><td>  </td></tr>",
                            "<tr><td>427</td><td>45</td><td>Batterieraum</td><td>6</td><td>  </td></tr>",
                            "<tr><td>428</td><td>45</td><td>Heizungsraum</td><td>7</td><td>  </td></tr>",
                            "<tr><td>429</td><td>45</td><td>Umkleide / WC</td><td>8</td><td>  </td></tr>",
                            "<tr><td>430</td><td>45</td><td>WC</td><td>9</td><td>  </td></tr>",
                            "<tr><td>431</td><td>46</td><td>Flur</td><td>1</td><td>  </td></tr>",
                            "<tr><td>432</td><td>46</td><td>Büro Flechten</td><td>2</td><td>  </td></tr>",
                            "<tr><td>433</td><td>46</td><td>Flechten / Schnitzen</td><td>3</td><td>  </td></tr>",
                            "<tr><td>434</td><td>46</td><td>Tonraum</td><td>4</td><td>  </td></tr>",
                            "<tr><td>435</td><td>46</td><td>Kompressorraum</td><td>5</td><td>  </td></tr>",
                            "<tr><td>436</td><td>46</td><td>Brennraum</td><td>6</td><td>  </td></tr>",
                            "<tr><td>437</td><td>46</td><td>Töpferei</td><td>7</td><td>  </td></tr>",
                            "<tr><td>438</td><td>46</td><td>Gipsplatz</td><td>8</td><td>  </td></tr>",
                            "<tr><td>439</td><td>46</td><td>Büro Töpferei</td><td>9</td><td>  </td></tr>",
                            "<tr><td>440</td><td>46</td><td>Malraum</td><td>10</td><td>  </td></tr>",
                            "<tr><td>441</td><td>46</td><td>Büro Malen</td><td>11</td><td>  </td></tr>",
                            "<tr><td>442</td><td>46</td><td>Umkleide Personal</td><td>12</td><td>  </td></tr>",
                            "<tr><td>443</td><td>46</td><td>WC Mitarbeiter</td><td>13</td><td>  </td></tr>",
                            "<tr><td>444</td><td>46</td><td>WC  Damen</td><td>14</td><td>  </td></tr>",
                            "<tr><td>445</td><td>46</td><td>WC Herren</td><td>15</td><td>  </td></tr>",
                            "<tr><td>446</td><td>46</td><td>Putzkammer</td><td>1</td><td>  </td></tr>",
                            "<tr><td>447</td><td>46</td><td>Aussenbereich</td><td>1</td><td>  </td></tr>",
                            "<tr><td>448</td><td>1</td><td>Armaturenraum</td><td>1</td><td>  </td></tr>",
                            "<tr><td>449</td><td>1</td><td>Archiv Personalbuchhaltung</td><td>2</td><td>  </td></tr>",
                            "<tr><td>450</td><td>1</td><td>WC</td><td>3</td><td>  </td></tr>",
                            "<tr><td>451</td><td>1</td><td>Archiv Verwaltung</td><td>4</td><td>  </td></tr>",
                            "<tr><td>452</td><td>1</td><td>Bad</td><td>5</td><td>  </td></tr>",
                            "<tr><td>453</td><td>1</td><td>Büro antroposophischer Pflegebeauftragter</td><td>6</td><td>  </td></tr>",
                            "<tr><td>454</td><td>1</td><td>Flur Nord</td><td>7</td><td>  </td></tr>",
                            "<tr><td>455</td><td>1</td><td>Flur Süd</td><td>8</td><td>  </td></tr>",
                            "<tr><td>456</td><td>1</td><td>Aussenbereich</td><td>1</td><td>  </td></tr>",
                            "<tr><td>457</td><td>2</td><td>Telefonzelle</td><td>1</td><td> </td></tr>",
                            "<tr><td>458</td><td>2</td><td>Brandmeldezentrale</td><td>2</td><td> </td></tr>",
                            "<tr><td>459</td><td>2</td><td>Büro Arztsekretariat</td><td>3</td><td> </td></tr>",
                            "<tr><td>460</td><td>2</td><td>Lager Arztsekretariat</td><td>4</td><td> </td></tr>",
                            "<tr><td>461</td><td>2</td><td>WC</td><td>5</td><td> </td></tr>",
                            "<tr><td>462</td><td>2</td><td>Putzkammer</td><td>6</td><td> </td></tr>",
                            "<tr><td>463</td><td>2</td><td>Aussenbereich</td><td>1</td><td> </td></tr>",
                            "<tr><td>464</td><td>10</td><td>Stationsbad</td><td>1</td><td> </td></tr>",
                            "<tr><td>465</td><td>10</td><td>Dusche klein</td><td>2</td><td> </td></tr>",
                            "<tr><td>466</td><td>10</td><td>Dusche gross</td><td>3</td><td> </td></tr>",
                            "<tr><td>467</td><td>10</td><td>WC</td><td>4</td><td> </td></tr>",
                            "<tr><td>468</td><td>10</td><td>WC</td><td>5</td><td> </td></tr>",
                            "<tr><td>469</td><td>10</td><td>WC</td><td>6</td><td> </td></tr>",
                            "<tr><td>470</td><td>10</td><td>Putzkammer</td><td>7</td><td> </td></tr>",
                            "<tr><td>471</td><td>10</td><td>Ehemalige Teeküche</td><td>8</td><td> </td></tr>",
                            "<tr><td>472</td><td>10</td><td>Zimmer </td><td>9</td><td> </td></tr>",
                            "<tr><td>473</td><td>10</td><td>Zimmer</td><td>10</td><td> </td></tr>",
                            "<tr><td>474</td><td>10</td><td>Putzkammer</td><td>11</td><td> </td></tr>",
                            "<tr><td>475</td><td>10</td><td>Zimmer 205</td><td>12</td><td> </td></tr>",
                            "<tr><td>476</td><td>10</td><td>Bad</td><td>13</td><td> </td></tr>",
                            "<tr><td>477</td><td>10</td><td>WC</td><td>14</td><td> </td></tr>",
                            "<tr><td>478</td><td>10</td><td>WC</td><td>15</td><td> </td></tr>",
                            "<tr><td>479</td><td>10</td><td>Teeküche nord</td><td>16</td><td> </td></tr>",
                            "<tr><td>480</td><td>10</td><td>Teeküche Süd</td><td>1</td><td> </td></tr>",
                            "<tr><td>481</td><td>10</td><td>Flur Nord</td><td>2</td><td> </td></tr>",
                            "<tr><td>482</td><td>10</td><td>Flur Süd</td><td>3</td><td> </td></tr>",
                            "<tr><td>483</td><td>2</td><td>Flur Nord</td><td>1</td><td> </td></tr>",
                            "<tr><td>484</td><td>2</td><td>Flur Süd</td><td>2</td><td> </td></tr>",
                            "<tr><td>485</td><td>2</td><td>Foyer</td><td>3</td><td>  </td></tr>",
                            "<tr><td>486</td><td>62</td><td>Zimmer 301</td><td>1</td><td> </td></tr>",
                            "<tr><td>487</td><td>62</td><td>Zimmer 302</td><td>2</td><td> </td></tr>",
                            "<tr><td>488</td><td>62</td><td>Zimmer 303</td><td>3</td><td> </td></tr>",
                            "<tr><td>489</td><td>62</td><td>Zimmer 304 </td><td>4</td><td>  </td></tr>",
                            "<tr><td>490</td><td>62</td><td>Zimmer 305</td><td>5</td><td> </td></tr>",
                            "<tr><td>491</td><td>62</td><td>Zimmer 307</td><td>6</td><td> </td></tr>",
                            "<tr><td>492</td><td>62</td><td>Zimmer 308</td><td>7</td><td> </td></tr>",
                            "<tr><td>493</td><td>62</td><td>Zoimmer 309</td><td>8</td><td> </td></tr>",
                            "<tr><td>494</td><td>62</td><td>Zimmer 310</td><td>9</td><td> </td></tr>",
                            "<tr><td>495</td><td>62</td><td>Zimmer 311 </td><td>10</td><td> </td></tr>",
                            "<tr><td>496</td><td>62</td><td>Zimmer 312</td><td>11</td><td> </td></tr>",
                            "<tr><td>497</td><td>62</td><td>Zimmer 313</td><td>12</td><td> </td></tr>",
                            "<tr><td>498</td><td>62</td><td>Zimmer 314</td><td>13</td><td> </td></tr>",
                            "<tr><td>499</td><td>62</td><td>Arztzimmer </td><td>14</td><td> </td></tr>",
                            "<tr><td>500</td><td>62</td><td>Zimmer 315</td><td>15</td><td> </td></tr>",
                            "<tr><td>501</td><td>62</td><td>Bad</td><td>16</td><td> </td></tr>",
                            "<tr><td>502</td><td>62</td><td>Dusche</td><td>17</td><td> </td></tr>",
                            "<tr><td>503</td><td>62</td><td>Zimmer 316</td><td>18</td><td> </td></tr>",
                            "<tr><td>504</td><td>62</td><td>Wickelraum</td><td>19</td><td> </td></tr>",
                            "<tr><td>505</td><td>62</td><td>Zimmer 316</td><td>20</td><td> </td></tr>",
                            "<tr><td>506</td><td>62</td><td>WC</td><td>21</td><td> </td></tr>",
                            "<tr><td>507</td><td>62</td><td>WC</td><td>22</td><td> </td></tr>",
                            "<tr><td>508</td><td>62</td><td>WC</td><td>23</td><td> </td></tr>",
                            "<tr><td>509</td><td>62</td><td>Putzkammer</td><td>24</td><td> </td></tr>",
                            "<tr><td>510</td><td>62</td><td>Stationszimmer </td><td>25</td><td> </td></tr>",
                            "<tr><td>511</td><td>62</td><td>Arztzimmer</td><td>26</td><td> </td></tr>",
                            "<tr><td>512</td><td>62</td><td>Arztzimmer</td><td>27</td><td> </td></tr>",
                            "<tr><td>513</td><td>62</td><td>Putzkammer</td><td>28</td><td> </td></tr>",
                            "<tr><td>514</td><td>62</td><td>Dusche</td><td>29</td><td> </td></tr>",
                            "<tr><td>515</td><td>62</td><td>Bad</td><td>30</td><td> </td></tr>",
                            "<tr><td>516</td><td>62</td><td>WC</td><td>1</td><td> </td></tr>",
                            "<tr><td>517</td><td>62</td><td>WC</td><td>2</td><td> </td></tr>",
                            "<tr><td>518</td><td>62</td><td>Flur nord</td><td>3</td><td> </td></tr>",
                            "<tr><td>519</td><td>62</td><td>Flur Süd</td><td>4</td><td>  </td></tr>",
                            "<tr><td>520</td><td>62</td><td>Treppenhaus</td><td>5</td><td> </td></tr>",
                            "<tr><td>521</td><td>63</td><td>Zimmer 1- 16</td><td>1</td><td> </td></tr>",
                            "<tr><td>522</td><td>63</td><td>Flur</td><td>2</td><td> </td></tr>",
                            "<tr><td>523</td><td>63</td><td>Treppenhaus</td><td>3</td><td> </td></tr>",
                            "<tr><td>526</td><td>33</td><td>Bibliotheke</td><td>1</td><td> </td></tr>",
                            "<tr><td>527</td><td>33</td><td>Zimmer 301</td><td>2</td><td>  </td></tr>",
                            "<tr><td>528</td><td>33</td><td>Keller vorne</td><td>3</td><td> </td></tr>",
                            "<tr><td>529</td><td>33</td><td>Keller hinten</td><td>4</td><td> </td></tr>",
                            "<tr><td>530</td><td>33</td><td>Heizraum</td><td>5</td><td> </td></tr>",
                            "<tr><td>531</td><td>33</td><td>WC</td><td>6</td><td> </td></tr>",
                            "<tr><td>532</td><td>33</td><td>Flur</td><td>7</td><td> </td></tr>",
                            "<tr><td>533</td><td>33</td><td>Aussenbereich</td><td>1</td><td> </td></tr>",
                            "<tr><td>534</td><td>34</td><td>Dusche 1</td><td>1</td><td> </td></tr>",
                            "<tr><td>535</td><td>34</td><td>Dusche </td><td>2</td><td> </td></tr>",
                            "<tr><td>536</td><td>34</td><td>Bad</td><td>3</td><td> </td></tr>",
                            "<tr><td>537</td><td>34</td><td>WC</td><td>4</td><td> </td></tr>",
                            "<tr><td>538</td><td>34</td><td>WC</td><td>5</td><td> </td></tr>",
                            "<tr><td>539</td><td>34</td><td>ZImmer 310</td><td>6</td><td> </td></tr>",
                            "<tr><td>540</td><td>34</td><td>Zimmer 311</td><td>7</td><td> </td></tr>",
                            "<tr><td>541</td><td>34</td><td>Zimmer 312</td><td>8</td><td> </td></tr>",
                            "<tr><td>542</td><td>34</td><td>Zimmer 314</td><td>9</td><td> </td></tr>",
                            "<tr><td>543</td><td>34</td><td>Zimmer 315</td><td>10</td><td> </td></tr>",
                            "<tr><td>544</td><td>34</td><td>Zimmer 316</td><td>11</td><td> </td></tr>",
                            "<tr><td>545</td><td>34</td><td>Flur</td><td>12</td><td> </td></tr>",
                            "<tr><td>546</td><td>34</td><td>Balkon</td><td>13</td><td> </td></tr>",
                            "<tr><td>547</td><td>35</td><td>Dusche</td><td>1</td><td> </td></tr>",
                            "<tr><td>548</td><td>35</td><td>Duasche</td><td>2</td><td> </td></tr>",
                            "<tr><td>549</td><td>35</td><td>WC</td><td>3</td><td> </td></tr>",
                            "<tr><td>550</td><td>35</td><td>WC</td><td>4</td><td> </td></tr>",
                            "<tr><td>551</td><td>35</td><td>Zimmer 320  </td><td>5</td><td> </td></tr>",
                            "<tr><td>552</td><td>35</td><td>Zimmer 321 </td><td>6</td><td> </td></tr>",
                            "<tr><td>553</td><td>35</td><td>Zimmer 322 </td><td>7</td><td> </td></tr>",
                            "<tr><td>554</td><td>35</td><td>Zimmer 324 </td><td>8</td><td> </td></tr>",
                            "<tr><td>555</td><td>35</td><td>Zimmer 325 </td><td>9</td><td> </td></tr>",
                            "<tr><td>556</td><td>35</td><td>Zimmer 326 </td><td>10</td><td> </td></tr>",
                            "<tr><td>557</td><td>35</td><td>Flur</td><td>11</td><td> </td></tr>",
                            "<tr><td>558</td><td>35</td><td>Balkon</td><td>12</td><td> </td></tr>",
                            "<tr><td>559</td><td>35</td><td>Treppenhaus</td><td>13</td><td> </td></tr>",
                            "<tr><td>560</td><td>36</td><td>Wohnung</td><td>1</td><td> </td></tr>",
                            "<tr><td>561</td><td>36</td><td>Speicher</td><td>2</td><td> </td></tr>",
                            "<tr><td>562</td><td>36</td><td>Treppenhaus</td><td>3</td><td> </td></tr>",
                            "<tr><td>563</td><td>34</td><td>Aussenbereich</td><td>1</td><td> </td></tr>",
                            "<tr><td>564</td><td>37</td><td>Flur</td><td>1</td><td> </td></tr>",
                            "<tr><td>565</td><td>37</td><td>Keller</td><td>2</td><td> </td></tr>",
                            "<tr><td>566</td><td>37</td><td>WC</td><td>3</td><td> </td></tr>",
                            "<tr><td>567</td><td>38</td><td>Flur</td><td>1</td><td> </td></tr>",
                            "<tr><td>568</td><td>38</td><td>Sakristei</td><td>2</td><td> </td></tr>",
                            "<tr><td>569</td><td>38</td><td>Kirchenraum</td><td>3</td><td> </td></tr>",
                            "<tr><td>570</td><td>38</td><td>Aussenbereich</td><td>4</td><td> </td></tr>",
                            "<tr><td>571</td><td>39</td><td>Speicher</td><td>1</td><td> </td></tr>",
                            "<tr><td>572</td><td>39</td><td>Aussenbereich</td><td>2</td><td> </td></tr>",
                            "<tr><td>573</td><td>40</td><td>Keller 1 Altbau</td><td>1</td><td> </td></tr>",
                            "<tr><td>574</td><td>40</td><td>Heizraum Altbau</td><td>2</td><td> </td></tr>",
                            "<tr><td>575</td><td>40</td><td>Heizraum Neubau</td><td>3</td><td> </td></tr>",
                            "<tr><td>576</td><td>40</td><td>Kellerräume Wohnungen</td><td>4</td><td> </td></tr>",
                            "<tr><td>577</td><td>40</td><td>Waschmaschinenraum</td><td>5</td><td> </td></tr>",
                            "<tr><td>578</td><td>40</td><td>Flur</td><td>6</td><td> </td></tr>",
                            "<tr><td>579</td><td>40</td><td>Treppenhaus</td><td>7</td><td> </td></tr>",
                            "<tr><td>580</td><td>41</td><td>Kleinkindgruppe</td><td>1</td><td> </td></tr>",
                            "<tr><td>581</td><td>41</td><td>Kindergarten</td><td>2</td><td> </td></tr>",
                            "<tr><td>584</td><td>41</td><td>Flur</td><td>5</td><td> </td></tr>",
                            "<tr><td>585</td><td>41</td><td>Treppenhaus</td><td>6</td><td> </td></tr>",
                            "<tr><td>586</td><td>41</td><td>Aussenbereich</td><td>7</td><td> </td></tr>",
                            "<tr><td>587</td><td>42</td><td>Wohnung Kleinkindgruppe</td><td>1</td><td> </td></tr>",
                            "<tr><td>588</td><td>42</td><td>Wohnung Altbau</td><td>2</td><td> </td></tr>",
                            "<tr><td>589</td><td>42</td><td>Appartment 1</td><td>3</td><td> </td></tr>",
                            "<tr><td>590</td><td>42</td><td>Appartment 2</td><td>4</td><td> </td></tr>",
                            "<tr><td>591</td><td>42</td><td>Wohnung</td><td>5</td><td> </td></tr>",
                            "<tr><td>592</td><td>42</td><td>Flur</td><td>6</td><td> </td></tr>",
                            "<tr><td>594</td><td>43</td><td>Wohnung Altbau</td><td>1</td><td> </td></tr>",
                            "<tr><td>595</td><td>43</td><td>Appartment Neubau</td><td>2</td><td> </td></tr>",
                            "<tr><td>596</td><td>43</td><td>Wohnung Neubau</td><td>3</td><td> </td></tr>",
                            "<tr><td>597</td><td>43</td><td>Flur</td><td>4</td><td> </td></tr>",
                            "<tr><td>598</td><td>43</td><td>Treppenhaus</td><td>5</td><td> </td></tr>",
                            "<tr><td>601</td><td>47</td><td>Kellr 1</td><td>1</td><td> </td></tr>",
                            "<tr><td>602</td><td>47</td><td>Keller 2 </td><td>2</td><td> </td></tr>",
                            "<tr><td>603</td><td>47</td><td>Keller 3 </td><td>3</td><td> </td></tr>",
                            "<tr><td>604</td><td>47</td><td>Heizraum</td><td>4</td><td> </td></tr>",
                            "<tr><td>605</td><td>47</td><td>Büro Hauswirtschaftsleitung</td><td>5</td><td> </td></tr>",
                            "<tr><td>606</td><td>47</td><td>WC</td><td>6</td><td> </td></tr>",
                            "<tr><td>607</td><td>47</td><td>Flur</td><td>7</td><td> </td></tr>",
                            "<tr><td>608</td><td>47</td><td>Aussenbereich</td><td>8</td><td> </td></tr>",
                            "<tr><td>609</td><td>48</td><td>Flur</td><td>1</td><td> </td></tr>",
                            "<tr><td>610</td><td>48</td><td>Teeküche</td><td>2</td><td> </td></tr>",
                            "<tr><td>611</td><td>49</td><td>Flur</td><td>1</td><td> </td></tr>",
                            "<tr><td>612</td><td>49</td><td>Treppenhaus</td><td>2</td><td> </td></tr>",
                            "<tr><td>613</td><td>50</td><td>Windfang </td><td>1</td><td> </td></tr>",
                            "<tr><td>614</td><td>50</td><td>Musikzimmer</td><td>2</td><td> </td></tr>",
                            "<tr><td>615</td><td>50</td><td>WC</td><td>3</td><td> </td></tr>",
                            "<tr><td>616</td><td>50</td><td>Aussenbereich</td><td>4</td><td> </td></tr>",
                            "<tr><td>617</td><td>51</td><td>Heizraum</td><td>1</td><td> </td></tr>",
                            "<tr><td>618</td><td>51</td><td>Garage</td><td>2</td><td> </td></tr>",
                            "<tr><td>619</td><td>51</td><td>Flur</td><td>3</td><td> </td></tr>",
                            "<tr><td>620</td><td>51</td><td>Keller1 </td><td>4</td><td> </td></tr>",
                            "<tr><td>621</td><td>51</td><td>Keller2</td><td>5</td><td> </td></tr>",
                            "<tr><td>622</td><td>51</td><td>Keller 3</td><td>6</td><td> </td></tr>",
                            "<tr><td>623</td><td>51</td><td>Aussenbereich</td><td>7</td><td> </td></tr>",
                            "<tr><td>624</td><td>52</td><td>Wohnung1</td><td>1</td><td> </td></tr>",
                            "<tr><td>625</td><td>52</td><td>Wohnung2 </td><td>2</td><td> </td></tr>",
                            "<tr><td>626</td><td>52</td><td>Eingangsbereich</td><td>3</td><td> </td></tr>",
                            "<tr><td>627</td><td>53</td><td>Wohnung</td><td>1</td><td> </td></tr>",
                            "<tr><td>628</td><td>54</td><td>Lager 1</td><td>1</td><td> </td></tr>",
                            "<tr><td>629</td><td>54</td><td>Keller 1 </td><td>2</td><td> </td></tr>",
                            "<tr><td>630</td><td>54</td><td>Keller 2 </td><td>3</td><td> </td></tr>",
                            "<tr><td>631</td><td>54</td><td>Heizraum </td><td>4</td><td> </td></tr>",
                            "<tr><td>632</td><td>54</td><td>WC</td><td>5</td><td> </td></tr>",
                            "<tr><td>633</td><td>54</td><td>Waschraum</td><td>6</td><td> </td></tr>",
                            "<tr><td>634</td><td>54</td><td>Flur</td><td>1</td><td> </td></tr>",
                            "<tr><td>635</td><td>54</td><td>Aussenbereich</td><td>2</td><td> </td></tr>",
                            "<tr><td>636</td><td>55</td><td>WC</td><td>1</td><td> </td></tr>",
                            "<tr><td>637</td><td>55</td><td>Bad</td><td>2</td><td> </td></tr>",
                            "<tr><td>638</td><td>55</td><td>Teeküche</td><td>3</td><td> </td></tr>",
                            "<tr><td>639</td><td>55</td><td>Zimmer 412</td><td>4</td><td> </td></tr>",
                            "<tr><td>640</td><td>55</td><td>Zimmer 411</td><td>5</td><td> </td></tr>",
                            "<tr><td>641</td><td>55</td><td>Zimmer 410</td><td>6</td><td> </td></tr>",
                            "<tr><td>642</td><td>55</td><td>Foyer</td><td>7</td><td> </td></tr>",
                            "<tr><td>643</td><td>55</td><td>Aussenbereich</td><td>8</td><td> </td></tr>",
                            "<tr><td>644</td><td>56</td><td>WC</td><td>1</td><td> </td></tr>",
                            "<tr><td>645</td><td>56</td><td>ZImmer 425</td><td>2</td><td> </td></tr>",
                            "<tr><td>646</td><td>56</td><td>Dusche</td><td>3</td><td> </td></tr>",
                            "<tr><td>647</td><td>56</td><td>Zimmer 424</td><td>4</td><td> </td></tr>",
                            "<tr><td>648</td><td>56</td><td>Zimmer 423</td><td>5</td><td> </td></tr>",
                            "<tr><td>649</td><td>56</td><td>Zimmer 422</td><td>6</td><td> </td></tr>",
                            "<tr><td>650</td><td>56</td><td>Zimmer 421</td><td>7</td><td> </td></tr>",
                            "<tr><td>651</td><td>56</td><td>Zimmer 420</td><td>8</td><td> </td></tr>",
                            "<tr><td>652</td><td>56</td><td>Flur</td><td>1</td><td> </td></tr>",
                            "<tr><td>653</td><td>57</td><td>Zimmer 431</td><td>1</td><td> </td></tr>",
                            "<tr><td>654</td><td>57</td><td>Nachtwachenzimmer</td><td>2</td><td> </td></tr>",
                            "<tr><td>655</td><td>57</td><td>Zimmer 430</td><td>3</td><td> </td></tr>",
                            "<tr><td>656</td><td>57</td><td>WC</td><td>4</td><td> </td></tr>",
                            "<tr><td>657</td><td>57</td><td>Flur</td><td>5</td><td> </td></tr>",
                            "<tr><td>658</td><td>58</td><td>Büro Haustechnik</td><td>1</td><td> </td></tr>",
                            "<tr><td>659</td><td>58</td><td>Lager Haustechnik</td><td>2</td><td> </td></tr>",
                            "<tr><td>660</td><td>58</td><td>Lager Haustechnik</td><td>3</td><td> </td></tr>",
                            "<tr><td>661</td><td>58</td><td>Lager Haustechnik</td><td>4</td><td> </td></tr>",
                            "<tr><td>662</td><td>58</td><td>Dusche</td><td>5</td><td> </td></tr>",
                            "<tr><td>663</td><td>58</td><td>Flur</td><td>6</td><td> </td></tr>",
                            "<tr><td>664</td><td>58</td><td>Aussenbereich</td><td>7</td><td> </td></tr>",
                            "<tr><td>665</td><td>59</td><td>Wohnung</td><td>1</td><td> </td></tr>",
                            "<tr><td>666</td><td>59</td><td>Schreibzimmer Haustechnik</td><td>2</td><td> </td></tr>",
                            "<tr><td>667</td><td>59</td><td>Teeküche</td><td>3</td><td> </td></tr>",
                            "<tr><td>668</td><td>59</td><td>Bad</td><td>4</td><td> </td></tr>",
                            "<tr><td>669</td><td>59</td><td>Dusche</td><td>5</td><td> </td></tr>",
                            "<tr><td>670</td><td>59</td><td>Foyer</td><td>6</td><td> </td></tr>",
                            "<tr><td>671</td><td>59</td><td>Aussenbereich</td><td>7</td><td> </td></tr>",
                            "<tr><td>672</td><td>60</td><td>Zimmer 523</td><td>1</td><td> </td></tr>",
                            "<tr><td>673</td><td>60</td><td>Zimmer 522</td><td>2</td><td> </td></tr>",
                            "<tr><td>674</td><td>60</td><td>Zimmer 521</td><td>3</td><td> </td></tr>",
                            "<tr><td>675</td><td>60</td><td>Zimmer 520</td><td>4</td><td> </td></tr>",
                            "<tr><td>676</td><td>60</td><td>WC</td><td>5</td><td> </td></tr>",
                            "<tr><td>677</td><td>60</td><td>Flur</td><td>6</td><td> </td></tr>",
                            "<tr><td>679</td><td>61</td><td>Zimmer 530</td><td>1</td><td> </td></tr>",
                            "<tr><td>680</td><td>61</td><td>Zimmer 531</td><td>2</td><td> </td></tr>",
                            "<tr><td>681</td><td>61</td><td>WC</td><td>3</td><td> </td></tr>",
                            "<tr><td>682</td><td>61</td><td>Flur</td><td>4</td><td> </td></tr>",
                            "<tr><td>685</td><td>64</td><td>Strassen</td><td>1</td><td> </td></tr>",
                            "<tr><td>686</td><td>64</td><td>Wege</td><td>2</td><td> </td></tr>",
                            "<tr><td>687</td><td>64</td><td>Sitzbänke</td><td>3</td><td> </td></tr>",
                            "<tr><td>688</td><td>64</td><td>Rasenfläche</td><td>4</td><td> </td></tr>",
                            "<tr><td>689</td><td>64</td><td>Beleuchtung</td><td>5</td><td> </td></tr>",
                            "<tr><td>698</td><td>73</td><td>Heizraum</td><td>NULL</td><td>4</td></tr>",
                            "<tr><td>702</td><td>73</td><td>Kellerräume</td><td>NULL</td><td>1-3</td></tr>",
                            "<tr><td>703</td><td>84</td><td>Teeküche</td><td>2</td><td>NULL</td></tr>",
                            "<tr><td>704</td><td>84</td><td>Büro FiBU</td><td>3</td><td>NULL</td></tr>",
                            "<tr><td>705</td><td>84</td><td>Büro Assitenz GF</td><td>4</td><td>NULL</td></tr>",
                            "<tr><td>706</td><td>84</td><td>Büro GF</td><td>5</td><td>NULL</td></tr>",
                            "<tr><td>707</td><td>84</td><td>Flur</td><td>6</td><td>NULL</td></tr>",
                            "<tr><td>708</td><td>84</td><td></td><td>NULL</td><td>NULL</td></tr>",
                            "<tr><td>709</td><td>84</td><td></td><td>NULL</td><td>NULL</td></tr>",
                            "<tr><td>710</td><td>84</td><td></td><td>NULL</td><td>NULL</td></tr>",
                            "<tr><td>711</td><td>84</td><td></td><td>NULL</td><td>NULL</td></tr>",
                            "<tr><td>712</td><td>58</td><td>NULL</td><td>NULL</td><td>NULL</td></tr>",
                            "<tr><td>713</td><td>85</td><td>WC</td><td>1</td><td>NULL</td></tr>",
                            "<tr><td>714</td><td>85</td><td>Abstellraum</td><td>2</td><td>NULL</td></tr>",
                            "<tr><td>715</td><td>86</td><td></td><td>NULL</td><td>NULL</td></tr>",
                            "<tr><td>716</td><td>86</td><td></td><td>NULL</td><td>NULL</td></tr>",
                            "<tr><td>727</td><td>85</td><td>Büro Personal</td><td>3</td><td>NULL</td></tr>",
                            "<tr><td>728</td><td>85</td><td>Büro Personal</td><td>4</td><td>NULL</td></tr>",
                            "<tr><td>729</td><td>85</td><td>Büro EDV</td><td>5</td><td>NULL</td></tr>",
                            "<tr><td>730</td><td>85</td><td>Büro Medizin Contolling</td><td>6</td><td>NULL</td></tr>",
                            "<tr><td>731</td><td>85</td><td>Flur</td><td>7</td><td>NULL</td></tr>",
                            "<tr><td>732</td><td>48</td><td>Bad</td><td>3</td><td>NULL</td></tr>",
                            "<tr><td>733</td><td>48</td><td>Büro Assitenz PDL</td><td>4</td><td>NULL</td></tr>",
                            "<tr><td>734</td><td>48</td><td>Büro PDL</td><td>5</td><td>NULL</td></tr>",
                            "<tr><td>735</td><td>48</td><td>Büro QM</td><td>6</td><td>NULL</td></tr>",
                            "<tr><td>736</td><td>49</td><td>Bad</td><td>3</td><td>NULL</td></tr>",
                            "<tr><td>737</td><td>49</td><td>Besprechungssraum</td><td>4</td><td>NULL</td></tr>",
                            "<tr><td>738</td><td>49</td><td>Reserve</td><td>5</td><td>NULL</td></tr>",
                            "<tr><td>739</td><td>49</td><td>Reserve</td><td>6</td><td>NULL</td></tr>",
                            "<tr><td>740</td><td>45</td><td>Aussenbereich</td><td>10</td><td>NULL</td></tr>",
                            "<tr><td>741</td><td>27</td><td>Flur</td><td>15</td><td>NULL</td></tr>",
                            "<tr><td>742</td><td>27</td><td>WC`s</td><td>16</td><td>NULL</td></tr>",
                            "<tr><td>743</td><td>33</td><td>Serverraum</td><td>8</td><td>NULL</td></tr>",
                            "<tr><td>744</td><td>87</td><td>Treppe E-001</td><td>NULL</td><td>Treppe E-001</td></tr>",
                            "<tr><td>745</td><td>87</td><td>Lager 1 E-001.1</td><td>NULL</td><td>NULL</td></tr>",
                            "<tr><td>746</td><td>87</td><td>Flur PIA E-002</td><td>NULL</td><td>NULL</td></tr>",
                            "<tr><td>747</td><td>87</td><td>Arztzimmer PIA E-003</td><td>NULL</td><td>NULL</td></tr>",
                            "<tr><td>748</td><td>87</td><td>Sozialdienst PIA E-004</td><td>NULL</td><td>NULL</td></tr>",
                            "<tr><td>749</td><td>87</td><td>Technik E-005</td><td>NULL</td><td>NULL</td></tr>",
                            "<tr><td>750</td><td>87</td><td>Arztzimmer PIA E-006</td><td>NULL</td><td>NULL</td></tr>",
                            "<tr><td>751</td><td>87</td><td>Empfang PIA E-007</td><td>NULL</td><td>NULL</td></tr>",
                            "<tr><td>752</td><td>87</td><td>Untersuchung PIA E-008</td><td>NULL</td><td>NULL</td></tr>",
                            "<tr><td>753</td><td>87</td><td>Foyer E-009</td><td>NULL</td><td>NULL</td></tr>",
                            "<tr><td>754</td><td>87</td><td>Empfang E-010</td><td>NULL</td><td>NULL</td></tr>",
                            "<tr><td>755</td><td>87</td><td>Post E-010.1</td><td>NULL</td><td>NULL</td></tr>",
                            "<tr><td>756</td><td>87</td><td>Windfang E-011</td><td>NULL</td><td>NULL</td></tr>",
                            "<tr><td>757</td><td>87</td><td>Aufnahme E-012</td><td>NULL</td><td>NULL</td></tr>",
                            "<tr><td>758</td><td>87</td><td>Besuchertoilette E-013</td><td>NULL</td><td>NULL</td></tr>",
                            "<tr><td>759</td><td>87</td><td>Personaltoilette E-014</td><td>NULL</td><td>NULL</td></tr>",
                            "<tr><td>760</td><td>87</td><td>Besuchertoilette E-015</td><td>NULL</td><td>NULL</td></tr>",
                            "<tr><td>761</td><td>87</td><td>Besuchertoilette E-016</td><td>NULL</td><td>NULL</td></tr>",
                            "<tr><td>762</td><td>87</td><td>Flur E-017</td><td>NULL</td><td>NULL</td></tr>",
                            "<tr><td>763</td><td>87</td><td>Technik E-018</td><td>NULL</td><td>NULL</td></tr>",
                            "<tr><td>764</td><td>87</td><td>Flur E-019</td><td>NULL</td><td>NULL</td></tr>",
                            "<tr><td>765</td><td>87</td><td>Labor E-020</td><td>NULL</td><td>NULL</td></tr>",
                            "<tr><td>766</td><td>87</td><td>Arztzimmer PIA E-021</td><td>NULL</td><td>NULL</td></tr>",
                            "<tr><td>767</td><td>87</td><td>Arztzimmer PIA E-022</td><td>NULL</td><td>NULL</td></tr>",
                            "<tr><td>768</td><td>87</td><td>Arztzimmer E-023</td><td>NULL</td><td>NULL</td></tr>",
                            "<tr><td>769</td><td>87</td><td>Arztzimmer E-024</td><td>NULL</td><td>NULL</td></tr>",
                            "<tr><td>770</td><td>87</td><td>Aufenthalt/ Teeküche E-025</td><td>NULL</td><td>NULL</td></tr>",
                            "<tr><td>771</td><td>87</td><td>Technik E-026</td><td>NULL</td><td>NULL</td></tr>",
                            "<tr><td>772</td><td>87</td><td>Batterieraum E-027</td><td>NULL</td><td>NULL</td></tr>",
                            "<tr><td>773</td><td>87</td><td>SV E-028</td><td>NULL</td><td>NULL</td></tr>",
                            "<tr><td>774</td><td>87</td><td>AV E-029</td><td>NULL</td><td>NULL</td></tr>",
                            "<tr><td>775</td><td>87</td><td>Büromittel E-030</td><td>NULL</td><td>NULL</td></tr>",
                            "<tr><td>776</td><td>87</td><td>Notfall/med. Bedarf E-031</td><td>NULL</td><td>NULL</td></tr>",
                            "<tr><td>777</td><td>87</td><td>Treppe E-032</td><td>NULL</td><td>NULL</td></tr>",
                            "<tr><td>778</td><td>87</td><td>Hauswirtschaft unrein E-033</td><td>NULL</td><td>NULL</td></tr>",
                            "<tr><td>779</td><td>87</td><td>Hauswirtschaft rein E-034</td><td>NULL</td><td>NULL</td></tr>",
                            "<tr><td>780</td><td>87</td><td>Aufzug E-035</td><td>NULL</td><td>NULL</td></tr>",
                            "<tr><td>781</td><td>87</td><td>Flur E-036</td><td>NULL</td><td>NULL</td></tr>",
                            "<tr><td>782</td><td>87</td><td>Flur E-036.1</td><td>NULL</td><td>NULL</td></tr>",
                            "<tr><td>783</td><td>87</td><td>Gruppenraum E-037</td><td>NULL</td><td>NULL</td></tr>",
                            "<tr><td>784</td><td>87</td><td>Stuhllager E-037.1</td><td>NULL</td><td>NULL</td></tr>",
                            "<tr><td>785</td><td>87</td><td>EKG E-038</td><td>NULL</td><td>NULL</td></tr>",
                            "<tr><td>786</td><td>87</td><td>Physiotherapie E-039</td><td>NULL</td><td>NULL</td></tr>",
                            "<tr><td>787</td><td>87</td><td>Sozialdienst E-040</td><td>NULL</td><td>NULL</td></tr>",
                            "<tr><td>788</td><td>87</td><td>Sozialdienst E-041</td><td>NULL</td><td>NULL</td></tr>",
                            "<tr><td>789</td><td>87</td><td>Sozialdienst E-042</td><td>NULL</td><td>NULL</td></tr>",
                            "<tr><td>790</td><td>87</td><td>Hausleitung E-043</td><td>NULL</td><td>NULL</td></tr>",
                            "<tr><td>791</td><td>87</td><td>Hausdienst E-044</td><td>NULL</td><td>NULL</td></tr>",
                            "<tr><td>792</td><td>87</td><td>Flur E-045</td><td>NULL</td><td>NULL</td></tr>",
                            "<tr><td>793</td><td>87</td><td>Flur E-045.1</td><td>NULL</td><td>NULL</td></tr>",
                            "<tr><td>794</td><td>87</td><td>Wäschezentrale E-046</td><td>NULL</td><td>NULL</td></tr>",
                            "<tr><td>795</td><td>87</td><td>Entsorgung E-047</td><td>NULL</td><td>NULL</td></tr>",
                            "<tr><td>796</td><td>87</td><td>Technik E-048</td><td>NULL</td><td>NULL</td></tr>",
                            "<tr><td>797</td><td>87</td><td>Pflegemagazin E-049</td><td>NULL</td><td>NULL</td></tr>",
                            "<tr><td>798</td><td>87</td><td>Waschmaschinenraum E-050</td><td>NULL</td><td>NULL</td></tr>",
                            "<tr><td>799</td><td>87</td><td>Bettenlager E-051</td><td>NULL</td><td>NULL</td></tr>",
                            "<tr><td>800</td><td>87</td><td>Umkleide Herren E-052</td><td>NULL</td><td>NULL</td></tr>",
                            "<tr><td>801</td><td>87</td><td>Umkleide Damen E-054</td><td>NULL</td><td>NULL</td></tr>",
                            "<tr><td>802</td><td>87</td><td>Technik E-055</td><td>NULL</td><td>NULL</td></tr>",
                            "<tr><td>803</td><td>87</td><td>Bereitschaftszimmer Arzt E-056.1</td><td>NULL</td><td>NULL</td></tr>",
                            "<tr><td>804</td><td>87</td><td>Vorraum E-056.2</td><td>NULL</td><td>NULL</td></tr>",
                            "<tr><td>805</td><td>87</td><td>Dusche/WC E-056.3</td><td>NULL</td><td>NULL</td></tr>",
                            "<tr><td>806</td><td>87</td><td>Pausenraum Pflege E-057.1 </td><td>NULL</td><td>NULL</td></tr>",
                            "<tr><td>807</td><td>87</td><td>Vorraum E-057.2</td><td>NULL</td><td>NULL</td></tr>",
                            "<tr><td>808</td><td>87</td><td>Dusche/WC E-057.3</td><td>NULL</td><td>NULL</td></tr>",
                            "<tr><td>809</td><td>87</td><td>Treppe E-058</td><td>NULL</td><td>NULL</td></tr>",
                            "<tr><td>810</td><td>87</td><td>Lager 2 E-058.2</td><td>NULL</td><td>NULL</td></tr>",
                            "<tr><td>811</td><td>87</td><td>NULL</td><td>NULL</td><td>NULL</td></tr>",
                            "<tr><td>812</td><td>87</td><td>NULL</td><td>NULL</td><td>NULL</td></tr>",
                            "<tr><td>813</td><td>87</td><td>NULL</td><td>NULL</td><td>NULL</td></tr>",
                            "<tr><td>814</td><td>87</td><td>NULL</td><td>NULL</td><td>NULL</td></tr>",
                            "<tr><td>815</td><td>87</td><td>NULL</td><td>NULL</td><td>NULL</td></tr>",
                            "<tr><td>816</td><td>88</td><td>Treppenhaus 1-001</td><td>NULL</td><td>NULL</td></tr>",
                            "<tr><td>817</td><td>88</td><td>Flur 1-002</td><td>NULL</td><td>NULL</td></tr>",
                            "<tr><td>818</td><td>88</td><td>Flur 1-002.1</td><td>NULL</td><td>NULL</td></tr>",
                            "<tr><td>819</td><td>88</td><td>Patientennzimmer 09 Zimmer 1-003.1</td><td>NULL</td><td>NULL</td></tr>",
                            "<tr><td>820</td><td>88</td><td>Patientenzimmer 09 Vorraum 1-003.2</td><td>NULL</td><td>NULL</td></tr>",
                            "<tr><td>821</td><td>88</td><td>Patientenzimmer 09 Dusche/WC 1-003.3</td><td>NULL</td><td>NULL</td></tr>",
                            "<tr><td>822</td><td>88</td><td>Patientenzimmer 08 Zimmer 1-004.1</td><td>NULL</td><td>NULL</td></tr>",
                            "<tr><td>823</td><td>88</td><td>Patientenzimmer 08 Vorraum 1-004.2</td><td>NULL</td><td>NULL</td></tr>",
                            "<tr><td>824</td><td>88</td><td>Patientenzimmer 08 Dusche/WC 1-004.3</td><td>NULL</td><td>NULL</td></tr>",
                            "<tr><td>825</td><td>88</td><td>Patientenzimmer 07 Zimmer 1-005.1</td><td>NULL</td><td>NULL</td></tr>",
                            "<tr><td>826</td><td>88</td><td>Patientenzimmer 07 Vorraum 1-005.2</td><td>NULL</td><td>NULL</td></tr>",
                            "<tr><td>827</td><td>88</td><td>Patientenzimmer 07 Dusche/WC 1-005.3</td><td>NULL</td><td>NULL</td></tr>",
                            "<tr><td>828</td><td>88</td><td>Gesprächszimmer 1 1-006</td><td>NULL</td><td>NULL</td></tr>",
                            "<tr><td>829</td><td>88</td><td>Arbeitsraum unrein 1 1-007</td><td>NULL</td><td>NULL</td></tr>",
                            "<tr><td>830</td><td>88</td><td>Raucher 1 1-008</td><td>NULL</td><td>NULL</td></tr>",
                            "<tr><td>831</td><td>88</td><td>Patientenzimmer 06 Zimmer 1-009.1</td><td>NULL</td><td>NULL</td></tr>",
                            "<tr><td>832</td><td>88</td><td>Patientenzimmer 06 Vorraum 1-009.2</td><td>NULL</td><td>NULL</td></tr>",
                            "<tr><td>833</td><td>88</td><td>Patientenzimmer 06 Dusche/WC 1-009.3</td><td>NULL</td><td>NULL</td></tr>",
                            "<tr><td>834</td><td>88</td><td>Arztzimmer 05 Zimmer 1-010.1</td><td>NULL</td><td>NULL</td></tr>",
                            "<tr><td>835</td><td>88</td><td>Arztzimmer 05 Vorraum 1-010.2</td><td>NULL</td><td>NULL</td></tr>",
                            "<tr><td>836</td><td>88</td><td>Arztzimmer 05 Dusche/WC 1-010.3</td><td>NULL</td><td>NULL</td></tr>",
                            "<tr><td>837</td><td>88</td><td>Patientenzimmer 04 Zimmer 1-011.1</td><td>NULL</td><td>NULL</td></tr>",
                            "<tr><td>838</td><td>88</td><td>Patientenzimmer 04 Vorraum 1-011.2</td><td>NULL</td><td>NULL</td></tr>",
                            "<tr><td>839</td><td>88</td><td>Patientenzimmer 04 Dusche/WC 1-011.3</td><td>NULL</td><td>NULL</td></tr>",
                            "<tr><td>840</td><td>88</td><td>Bad/Wickel 1 1-012</td><td>NULL</td><td>NULL</td></tr>",
                            "<tr><td>841</td><td>88</td><td>Gruppenraum 1  1-013</td><td>NULL</td><td>NULL</td></tr>",
                            "<tr><td>842</td><td>88</td><td>Essen/Aufenthalt 1  1-014</td><td>NULL</td><td>NULL</td></tr>",
                            "<tr><td>843</td><td>88</td><td>Flur 1-015</td><td>NULL</td><td>NULL</td></tr>",
                            "<tr><td>844</td><td>88</td><td>Technik 1-016</td><td>NULL</td><td>NULL</td></tr>",
                            "<tr><td>845</td><td>88</td><td>Technik 1-017</td><td>NULL</td><td>NULL</td></tr>",
                            "<tr><td>846</td><td>88</td><td>Personaltoilette Damen 1-018</td><td>NULL</td><td>NULL</td></tr>",
                            "<tr><td>847</td><td>88</td><td>Lager 1  1-019</td><td>NULL</td><td>NULL</td></tr>",
                            "<tr><td>848</td><td>88</td><td>Patientenzimmer 03 Zimmer 1-020.1</td><td>NULL</td><td>NULL</td></tr>",
                            "<tr><td>849</td><td>88</td><td>Patientenzimmer 03 Vorraum 1-020.2</td><td>NULL</td><td>NULL</td></tr>",
                            "<tr><td>850</td><td>88</td><td>Patientenzimmer 03 Dusche/WC 1-020.3</td><td>NULL</td><td>NULL</td></tr>",
                            "<tr><td>851</td><td>88</td><td>Patientenzimmer 02 Zimmer 1-021.1</td><td>NULL</td><td>NULL</td></tr>",
                            "<tr><td>852</td><td>88</td><td>Patientenzimmer 02 Vorraum 1-021.2</td><td>NULL</td><td>NULL</td></tr>",
                            "<tr><td>853</td><td>88</td><td>Patientenzimmer 02 Dusche/WC 1-021.3</td><td>NULL</td><td>NULL</td></tr>",
                            "<tr><td>854</td><td>88</td><td>Arztzimmer 01 Zimmer 1-022.1</td><td>NULL</td><td>NULL</td></tr>",
                            "<tr><td>855</td><td>88</td><td>Arztzimmer 01 Flur 1-022.2</td><td>NULL</td><td>NULL</td></tr>",
                            "<tr><td>856</td><td>88</td><td>Lager 2 1-022.3</td><td>NULL</td><td>NULL</td></tr>",
                            "<tr><td>857</td><td>88</td><td>Teeküche 1-024</td><td>NULL</td><td>NULL</td></tr>",
                            "<tr><td>858</td><td>88</td><td>Medikamentenraum 1-025</td><td>NULL</td><td>NULL</td></tr>",
                            "<tr><td>859</td><td>88</td><td>Treppenhaus 1-027</td><td>NULL</td><td>NULL</td></tr>",
                            "<tr><td>860</td><td>88</td><td>Flur 1-028</td><td>NULL</td><td>NULL</td></tr>",
                            "<tr><td>861</td><td>88</td><td>Gesprächszimmer 2 1-029</td><td>NULL</td><td>NULL</td></tr>",
                            "<tr><td>862</td><td>88</td><td>Patientenzimmer 10 Zimmer 1-030.1</td><td>NULL</td><td>NULL</td></tr>",
                            "<tr><td>863</td><td>88</td><td>Patientenzimmer 10 Vorraum 1-030.2</td><td>NULL</td><td>NULL</td></tr>",
                            "<tr><td>864</td><td>88</td><td>Patientenzimmer 10 Dusche/WC 1-030.3</td><td>NULL</td><td>NULL</td></tr>",
                            "<tr><td>865</td><td>88</td><td>Patientenzimmer 23 Zimmer 1-031.1</td><td>NULL</td><td>NULL</td></tr>",
                            "<tr><td>866</td><td>88</td><td>Patientenzimmer 23 Dusche/WC 1-031.2</td><td>NULL</td><td>NULL</td></tr>",
                            "<tr><td>867</td><td>88</td><td>Patientenzimmer 22 Zimmer 1-032.1</td><td>NULL</td><td>NULL</td></tr>",
                            "<tr><td>868</td><td>88</td><td>Patientenzimmer 22 Dusche/WC 1-032.2</td><td>NULL</td><td>NULL</td></tr>",
                            "<tr><td>869</td><td>88</td><td>Rückhaltebereich 1-033</td><td>NULL</td><td>NULL</td></tr>",
                            "<tr><td>870</td><td>88</td><td>Stationszimmer 1-034</td><td>NULL</td><td>NULL</td></tr>",
                            "<tr><td>871</td><td>88</td><td>Gesprächszimmer 4  1-035</td><td>NULL</td><td>NULL</td></tr>",
                            "<tr><td>872</td><td>88</td><td>Flur 1-036</td><td>NULL</td><td>NULL</td></tr>",
                            "<tr><td>873</td><td>88</td><td>Schleuse 1-037</td><td>NULL</td><td>NULL</td></tr>",
                            "<tr><td>874</td><td>88</td><td>Verteilerküche 1-038</td><td>NULL</td><td>NULL</td></tr>",
                            "<tr><td>875</td><td>88</td><td>Essen/Aufenthalt 2  1-039</td><td>NULL</td><td>NULL</td></tr>",
                            "<tr><td>876</td><td>88</td><td>Personaltoilette Herren 1-041</td><td>NULL</td><td>NULL</td></tr>",
                            "<tr><td>877</td><td>88</td><td>Technik 1-042</td><td>NULL</td><td>NULL</td></tr>",
                            "<tr><td>878</td><td>88</td><td>Technik 1-043</td><td>NULL</td><td>NULL</td></tr>",
                            "<tr><td>879</td><td>88</td><td>Flur 1-044</td><td>NULL</td><td>NULL</td></tr>",
                            "<tr><td>880</td><td>88</td><td>Arztzimmer 11 Zimmer 1-045.1</td><td>NULL</td><td>NULL</td></tr>",
                            "<tr><td>881</td><td>88</td><td>Arztzimmer 11 Vorraum 1-045.2</td><td>NULL</td><td>NULL</td></tr>",
                            "<tr><td>882</td><td>88</td><td>Arztzimmer 11 Dusche/WC 1-045.3</td><td>NULL</td><td>NULL</td></tr>",
                            "<tr><td>883</td><td>88</td><td>Patientenzimmer 12 Zimmer 1-046.1</td><td>NULL</td><td>NULL</td></tr>",
                            "<tr><td>884</td><td>88</td><td>Patientenzimmer 12 Vorraum 1-046.2</td><td>NULL</td><td>NULL</td></tr>",
                            "<tr><td>885</td><td>88</td><td>Patientenzimmer 12 Dusche/WC 1-046.3</td><td>NULL</td><td>NULL</td></tr>",
                            "<tr><td>886</td><td>88</td><td>Patientenzimmer 13 Zimmer 1-047.1</td><td>NULL</td><td>NULL</td></tr>",
                            "<tr><td>887</td><td>88</td><td>Patientenzimmer 13 Vorraum 1-047.2</td><td>NULL</td><td>NULL</td></tr>",
                            "<tr><td>888</td><td>88</td><td>Patientenzimmer 13 Dusche/WC 1-047.3</td><td>NULL</td><td>NULL</td></tr>",
                            "<tr><td>889</td><td>88</td><td>Patientezimmer 14 Zimmer 1-048.1</td><td>NULL</td><td>NULL</td></tr>",
                            "<tr><td>890</td><td>88</td><td>Patientenzimmer 14 Vorraum 1-048.2</td><td>NULL</td><td>NULL</td></tr>",
                            "<tr><td>891</td><td>88</td><td>Patientenzimmer 14 Dusche/WC 1.048.3</td><td>NULL</td><td>NULL</td></tr>",
                            "<tr><td>892</td><td>88</td><td>Flur 1..049</td><td>NULL</td><td>NULL</td></tr>",
                            "<tr><td>893</td><td>88</td><td>Flur 1.049.1</td><td>NULL</td><td>NULL</td></tr>",
                            "<tr><td>894</td><td>88</td><td>Arztzimmer 15 Zimmer 1.050.1</td><td>NULL</td><td>NULL</td></tr>",
                            "<tr><td>895</td><td>88</td><td>Arztzimmer 15 Vorraum 1.050.2</td><td>NULL</td><td>NULL</td></tr>",
                            "<tr><td>896</td><td>88</td><td>Arztzimmer 15 Dusche/WC 1.050.3</td><td>NULL</td><td>NULL</td></tr>",
                            "<tr><td>897</td><td>88</td><td>Arztzimmer 16 Zimmer 1.051.1</td><td>NULL</td><td>NULL</td></tr>",
                            "<tr><td>898</td><td>88</td><td>Arztzimmer 16 Vorraum 1.051.2</td><td>NULL</td><td>NULL</td></tr>",
                            "<tr><td>899</td><td>88</td><td>Arztzimmer 16 Dusche/WC 1.051.3</td><td>NULL</td><td>NULL</td></tr>",
                            "<tr><td>900</td><td>88</td><td>Patientenzimmer 17 Zimmer 1.052.1</td><td>NULL</td><td>NULL</td></tr>",
                            "<tr><td>901</td><td>88</td><td>Patientenzimmer 17 Vorraum 1.052.2</td><td>NULL</td><td>NULL</td></tr>",
                            "<tr><td>902</td><td>88</td><td>Patientenzimmer 17 Dusche/WC 1.052.3</td><td>NULL</td><td>NULL</td></tr>",
                            "<tr><td>903</td><td>88</td><td>Patientenzimmer 18 Zimmer 1.053.1</td><td>NULL</td><td>NULL</td></tr>",
                            "<tr><td>904</td><td>88</td><td>Patientenzimmer 18 Vorraum 1.053.2</td><td>NULL</td><td>NULL</td></tr>",
                            "<tr><td>905</td><td>88</td><td>Patientenzimmer 18 Dusche/WC 1.053.3</td><td>NULL</td><td>NULL</td></tr>",
                            "<tr><td>906</td><td>88</td><td>Raucher 2  1.054</td><td>NULL</td><td>NULL</td></tr>",
                            "<tr><td>907</td><td>88</td><td>Gesprächszimmer 3 1-055</td><td>NULL</td><td>NULL</td></tr>",
                            "<tr><td>908</td><td>88</td><td>Arbeitesraum unrein 2 1-056</td><td>NULL</td><td>NULL</td></tr>",
                            "<tr><td>909</td><td>88</td><td>Bad/Wickel 2  1-057</td><td>NULL</td><td>NULL</td></tr>",
                            "<tr><td>910</td><td>88</td><td>Gruppenraum 2  1-058</td><td>NULL</td><td>NULL</td></tr>",
                            "<tr><td>911</td><td>88</td><td>Patientenzimmer 19 Zimmer 1-059.1</td><td>NULL</td><td>NULL</td></tr>",
                            "<tr><td>912</td><td>88</td><td>Patientenzimmer 19 Vorraum 1-059.2</td><td>NULL</td><td>NULL</td></tr>",
                            "<tr><td>913</td><td>88</td><td>Patientenzimmer 19 Dusche/WC 1-059.3</td><td>NULL</td><td>NULL</td></tr>",
                            "<tr><td>914</td><td>88</td><td>Patientenzimmer 20 Zimmer 1-060.1</td><td>NULL</td><td>NULL</td></tr>",
                            "<tr><td>915</td><td>88</td><td>Patientenzimmer 20 Vorraum 1-060.2</td><td>NULL</td><td>NULL</td></tr>",
                            "<tr><td>916</td><td>88</td><td>Patientenzimmer 20 Dusche/WC 1-060.3</td><td>NULL</td><td>NULL</td></tr>",
                            "<tr><td>917</td><td>88</td><td>Patientenzimmer 21 Zimmer 1-0611</td><td>NULL</td><td>NULL</td></tr>",
                            "<tr><td>918</td><td>88</td><td>Patientenzimmer 21 Vorraum 1-061.2</td><td>NULL</td><td>NULL</td></tr>",
                            "<tr><td>919</td><td>88</td><td>Patientenzimmer 21 Dusche/WC 1-061.3</td><td>NULL</td><td>NULL</td></tr>",
                            "<tr><td>920</td><td>88</td><td>Treppenhaus 1-062</td><td>NULL</td><td>NULL</td></tr>",
                            "<tr><td>921</td><td>88</td><td>Lager 3 1-063</td><td>NULL</td><td>NULL</td></tr>",
                            "<tr><td>922</td><td>88</td><td>Gärtchen</td><td>NULL</td><td>NULL</td></tr>",
                            "<tr><td>923</td><td>89</td><td>Treppenhaus 2-001</td><td>NULL</td><td>NULL</td></tr>",
                            "<tr><td>924</td><td>89</td><td>Flur 2-002</td><td>NULL</td><td>NULL</td></tr>",
                            "<tr><td>925</td><td>89</td><td>Flur 2-002.1</td><td>NULL</td><td>NULL</td></tr>",
                            "<tr><td>926</td><td>89</td><td>Patientezimmer 09 Zimmer 2-003.1</td><td>NULL</td><td>NULL</td></tr>",
                            "<tr><td>927</td><td>89</td><td>Patientenzimmer 09 Vorraum 2-003.2</td><td>NULL</td><td>NULL</td></tr>",
                            "<tr><td>928</td><td>89</td><td>Patientenzimer 09 Duche/WC 2-003.3</td><td>NULL</td><td>NULL</td></tr>",
                            "<tr><td>929</td><td>89</td><td>Patientenzimmer 08 Zimmer 2-004.1</td><td>NULL</td><td>NULL</td></tr>",
                            "<tr><td>930</td><td>89</td><td>Patientenzimmer 08 Vorraum 2-004.2</td><td>NULL</td><td>NULL</td></tr>",
                            "<tr><td>931</td><td>89</td><td>Patientenzimmer 08 Dusche/WC 2-004.3</td><td>NULL</td><td>NULL</td></tr>",
                            "<tr><td>932</td><td>89</td><td>Patientenzimmer 07 Zimmer 2-005.1</td><td>NULL</td><td>NULL</td></tr>",
                            "<tr><td>933</td><td>89</td><td>Patientenzimmer 07 Vorraum 2-005.2</td><td>NULL</td><td>NULL</td></tr>",
                            "<tr><td>934</td><td>89</td><td>Patientenzimmer Dusche/WC 2-005.3</td><td>NULL</td><td>NULL</td></tr>",
                            "<tr><td>935</td><td>89</td><td>Gesprächszimmer 1 2-006</td><td>NULL</td><td>NULL</td></tr>",
                            "<tr><td>936</td><td>89</td><td>Arbeitsraum unrein 1 2-007</td><td>NULL</td><td>NULL</td></tr>",
                            "<tr><td>937</td><td>89</td><td>Raucher 1 2-008</td><td>NULL</td><td>NULL</td></tr>",
                            "<tr><td>938</td><td>89</td><td>Patientenzimmer 06 Zimmer 2-009.1</td><td>NULL</td><td>NULL</td></tr>",
                            "<tr><td>939</td><td>89</td><td>Patientenzimmer 06 Vorraum 2-009.2</td><td>NULL</td><td>NULL</td></tr>",
                            "<tr><td>940</td><td>89</td><td>Patientenzimmer 06 Dusche/WC 2-009.3</td><td>NULL</td><td>NULL</td></tr>",
                            "<tr><td>941</td><td>89</td><td>Patientenzimmer 05 Zimmer 2-010.1</td><td>NULL</td><td>NULL</td></tr>",
                            "<tr><td>942</td><td>89</td><td>Patientenzimmer 05 Vorraum 2-010.2</td><td>NULL</td><td>NULL</td></tr>",
                            "<tr><td>943</td><td>89</td><td>Patientenzimmer 05 Dusche/WC 2-010.3</td><td>NULL</td><td>NULL</td></tr>",
                            "<tr><td>944</td><td>89</td><td>Arztzimmer 04 Zimmer 2-011.1</td><td>NULL</td><td>NULL</td></tr>",
                            "<tr><td>945</td><td>89</td><td>Arztzimmer Vorraum 2-011.2</td><td>NULL</td><td>NULL</td></tr>",
                            "<tr><td>946</td><td>89</td><td>Arztzimmer Dusche/WC 2-011.3</td><td>NULL</td><td>NULL</td></tr>",
                            "<tr><td>947</td><td>89</td><td>Bad/Wickel 1  2-012</td><td>NULL</td><td>NULL</td></tr>",
                            "<tr><td>948</td><td>89</td><td>Gruppenraum 1  2-013</td><td>NULL</td><td>NULL</td></tr>",
                            "<tr><td>949</td><td>89</td><td>Essen/Aufenthalt 1  2-014</td><td>NULL</td><td>NULL</td></tr>",
                            "<tr><td>950</td><td>89</td><td>Flur 2-015</td><td>NULL</td><td>NULL</td></tr>",
                            "<tr><td>951</td><td>89</td><td>Technik 2-016</td><td>NULL</td><td>NULL</td></tr>",
                            "<tr><td>952</td><td>89</td><td>Technik 2-017</td><td>NULL</td><td>NULL</td></tr>",
                            "<tr><td>953</td><td>89</td><td>Personaltoilette Herren 2-018</td><td>NULL</td><td>NULL</td></tr>",
                            "<tr><td>954</td><td>89</td><td>Personaltoilette Damen 2-019</td><td>NULL</td><td>NULL</td></tr>",
                            "<tr><td>955</td><td>89</td><td>Arztzimmer 03 Zimmer 2-020.1</td><td>NULL</td><td>NULL</td></tr>",
                            "<tr><td>956</td><td>89</td><td>Arztzimmer 03 Vorraum 2-020.2</td><td>NULL</td><td>NULL</td></tr>",
                            "<tr><td>957</td><td>89</td><td>Arztzimmer 03 Dusche/WC 2-020.3</td><td>NULL</td><td>NULL</td></tr>",
                            "<tr><td>958</td><td>89</td><td>Patientenzimmer 02 Zimmer 2-021.1</td><td>NULL</td><td>NULL</td></tr>",
                            "<tr><td>959</td><td>89</td><td>Patientenzimmer 02 Vorraum 2-021.2</td><td>NULL</td><td>NULL</td></tr>",
                            "<tr><td>960</td><td>89</td><td>Patientenzimmer 02 Dusche/WC 2-021.3</td><td>NULL</td><td>NULL</td></tr>",
                            "<tr><td>961</td><td>89</td><td>Patientenzimmer 01 Zimmer 2-022.1</td><td>NULL</td><td>NULL</td></tr>",
                            "<tr><td>962</td><td>89</td><td>Patientenzimmer 01 Vorraum 2-022.2</td><td>NULL</td><td>NULL</td></tr>",
                            "<tr><td>963</td><td>89</td><td>Patientenzimmer 01 Dusche/WC 2-022.3</td><td>NULL</td><td>NULL</td></tr>",
                            "<tr><td>964</td><td>89</td><td>Teeküche 2-023</td><td>NULL</td><td>NULL</td></tr>",
                            "<tr><td>965</td><td>89</td><td>Medikamentenraum 2-024</td><td>NULL</td><td>NULL</td></tr>",
                            "<tr><td>966</td><td>89</td><td>Treppenhaus 2-026</td><td>NULL</td><td>NULL</td></tr>",
                            "<tr><td>967</td><td>89</td><td>Flur 2-027</td><td>NULL</td><td>NULL</td></tr>",
                            "<tr><td>968</td><td>89</td><td>Gesprächszimmer 2   2-028</td><td>NULL</td><td>NULL</td></tr>",
                            "<tr><td>969</td><td>89</td><td>Patientenzimmer 10 Zimmer 2-029.1</td><td>NULL</td><td>NULL</td></tr>",
                            "<tr><td>970</td><td>89</td><td>Patientenzimmer 10 Vorraum 2-029.2</td><td>NULL</td><td>NULL</td></tr>",
                            "<tr><td>971</td><td>89</td><td>Patientenzimmer 10 Dusche/WC 2-029.3</td><td>NULL</td><td>NULL</td></tr>",
                            "<tr><td>972</td><td>89</td><td>Arztzimmer 23  2-030</td><td>NULL</td><td>NULL</td></tr>",
                            "<tr><td>973</td><td>89</td><td>Lager 1  2-031</td><td>NULL</td><td>NULL</td></tr>",
                            "<tr><td>974</td><td>89</td><td>Arztzimmer  2-032</td><td>NULL</td><td>NULL</td></tr>",
                            "<tr><td>975</td><td>89</td><td>Vorraum  2-033</td><td>NULL</td><td>NULL</td></tr>",
                            "<tr><td>976</td><td>89</td><td>Stationszimmer 2-034</td><td>NULL</td><td>NULL</td></tr>",
                            "<tr><td>977</td><td>89</td><td>Gesprächszimmer 4  2-035</td><td>NULL</td><td>NULL</td></tr>",
                            "<tr><td>978</td><td>89</td><td>Flur 2-036</td><td>NULL</td><td>NULL</td></tr>",
                            "<tr><td>979</td><td>89</td><td>Verteilerküche 2-037</td><td>NULL</td><td>NULL</td></tr>",
                            "<tr><td>980</td><td>89</td><td>Essen/Aufenthalt 2  2-038</td><td>NULL</td><td>NULL</td></tr>",
                            "<tr><td>981</td><td>89</td><td>Lager 1  2-040</td><td>NULL</td><td>NULL</td></tr>",
                            "<tr><td>982</td><td>89</td><td>TEchnik 2-041</td><td>NULL</td><td>NULL</td></tr>",
                            "<tr><td>983</td><td>89</td><td>Technik 2-042</td><td>NULL</td><td>NULL</td></tr>",
                            "<tr><td>984</td><td>89</td><td>Flur 2-043</td><td>NULL</td><td>NULL</td></tr>",
                            "<tr><td>985</td><td>89</td><td>Arztzimmer 11 Zimmer 2-044.1</td><td>NULL</td><td>NULL</td></tr>",
                            "<tr><td>986</td><td>89</td><td>Arztzimmer 11 Vorraum 2-044.2</td><td>NULL</td><td>NULL</td></tr>",
                            "<tr><td>987</td><td>89</td><td>Arztzimmer 11 Dusche/WC 2-044.3</td><td>NULL</td><td>NULL</td></tr>",
                            "<tr><td>988</td><td>89</td><td>Arztzimmer 12 Zimmer 2-045.1</td><td>NULL</td><td>NULL</td></tr>",
                            "<tr><td>989</td><td>89</td><td>Arztzimmer 12 Vorraum 2-045.2</td><td>NULL</td><td>NULL</td></tr>",
                            "<tr><td>990</td><td>89</td><td>Arztzimmer 12 Dusche/WC 2-045.3</td><td>NULL</td><td>NULL</td></tr>",
                            "<tr><td>991</td><td>89</td><td>Patientenzimmer 13 Zimmer 2-046.1</td><td>NULL</td><td>NULL</td></tr>",
                            "<tr><td>992</td><td>89</td><td>Patientenzimmer 13 Vorraum 2-046.2</td><td>NULL</td><td>NULL</td></tr>",
                            "<tr><td>993</td><td>89</td><td>Patientenzimmer 13 Dusche/WC 2-046.3</td><td>NULL</td><td>NULL</td></tr>",
                            "<tr><td>994</td><td>89</td><td>Patientenzimmer 14 Zimmer 2-047.1</td><td>NULL</td><td>NULL</td></tr>",
                            "<tr><td>995</td><td>89</td><td>Patientenzimmer 14 Vorraum 2-047.2</td><td>NULL</td><td>NULL</td></tr>",
                            "<tr><td>996</td><td>89</td><td>Patientenzimmer 14 Dusche/WC 2-047.3</td><td>NULL</td><td>NULL</td></tr>",
                            "<tr><td>997</td><td>89</td><td>Flur 2-048</td><td>NULL</td><td>NULL</td></tr>",
                            "<tr><td>998</td><td>89</td><td>Flur 2-048.1</td><td>NULL</td><td>NULL</td></tr>",
                            "<tr><td>999</td><td>89</td><td>Patientenzimmer 15 Zimmer 2-049.1</td><td>NULL</td><td>NULL</td></tr>",
                            "<tr><td>1000</td><td>89</td><td>Patientenzimmer 15 Vorraum  2-049.2</td><td>NULL</td><td>NULL</td></tr>",
                            "<tr><td>1001</td><td>89</td><td>Patientenzimmer 15 Dusche/WC 2-049.3</td><td>NULL</td><td>NULL</td></tr>",
                            "<tr><td>1002</td><td>89</td><td>Patientenzimmer 16 Zimmer 2-050.1</td><td>NULL</td><td>NULL</td></tr>",
                            "<tr><td>1003</td><td>89</td><td>Patientenzimmer 16 Vorraum 2-050.2</td><td>NULL</td><td>NULL</td></tr>",
                            "<tr><td>1004</td><td>89</td><td>Patientenzimmer 16 Dusche/WC 2-050.3</td><td>NULL</td><td>NULL</td></tr>",
                            "<tr><td>1005</td><td>89</td><td>Patientenzimmer 17 Zimmer 2-051.1</td><td>NULL</td><td>NULL</td></tr>",
                            "<tr><td>1006</td><td>89</td><td>Patientenzimmer 17 Vorraum 2-051.2</td><td>NULL</td><td>NULL</td></tr>",
                            "<tr><td>1007</td><td>89</td><td>Patientenzimmer 17 Dusche/WC 2-051.3</td><td>NULL</td><td>NULL</td></tr>",
                            "<tr><td>1008</td><td>89</td><td>Patientenzimmer 18 Zimmer 2-052.1</td><td>NULL</td><td>NULL</td></tr>",
                            "<tr><td>1009</td><td>89</td><td>Patientenzimmer 18 Vorraum 2-052.2</td><td>NULL</td><td>NULL</td></tr>",
                            "<tr><td>1010</td><td>89</td><td>Patientenzimmer 18 Dusche/WC 2-052.3</td><td>NULL</td><td>NULL</td></tr>",
                            "<tr><td>1011</td><td>89</td><td>Raucher 2  2-053</td><td>NULL</td><td>NULL</td></tr>",
                            "<tr><td>1012</td><td>89</td><td>Gesprächszimer 3  2-054</td><td>NULL</td><td>NULL</td></tr>",
                            "<tr><td>1013</td><td>89</td><td>Arbeitsraum unrein 2  2-055</td><td>NULL</td><td>NULL</td></tr>",
                            "<tr><td>1014</td><td>89</td><td>Bad/Wicke 2  2-056</td><td>NULL</td><td>NULL</td></tr>",
                            "<tr><td>1015</td><td>89</td><td>Gruppenraum 2  2-057</td><td>NULL</td><td>NULL</td></tr>",
                            "<tr><td>1016</td><td>89</td><td>Patientenzimmer 19 Zimmer 2-058.1</td><td>NULL</td><td>NULL</td></tr>",
                            "<tr><td>1017</td><td>89</td><td>Patientenzimmer 19 Vorraum 2-058.2</td><td>NULL</td><td>NULL</td></tr>",
                            "<tr><td>1018</td><td>89</td><td>Patientenzimmer 19 Dusche/WC 2-058.3</td><td>NULL</td><td>NULL</td></tr>",
                            "<tr><td>1019</td><td>89</td><td>Patientenzimmer 20 Zimmer 2-059.1</td><td>NULL</td><td>NULL</td></tr>",
                            "<tr><td>1020</td><td>89</td><td>Patientenzimmer 20 Vorraum 2-059.2</td><td>NULL</td><td>NULL</td></tr>",
                            "<tr><td>1021</td><td>89</td><td>Patientenzimmer 20 Dusche/WC 2-059.3</td><td>NULL</td><td>NULL</td></tr>",
                            "<tr><td>1022</td><td>89</td><td>Patientenzimmer 21 Zimmer 2-060.1</td><td>NULL</td><td>NULL</td></tr>",
                            "<tr><td>1023</td><td>89</td><td>Patientenzimmer 21 Vorraum 2-060.2</td><td>NULL</td><td>NULL</td></tr>",
                            "<tr><td>1024</td><td>89</td><td>Patientenzimmer 21 Dusche/WC 2-060.3</td><td>NULL</td><td>NULL</td></tr>",
                            "<tr><td>1025</td><td>89</td><td>Treppenhaus 2-061</td><td>NULL</td><td>NULL</td></tr>",
                            "<tr><td>1026</td><td>89</td><td>Lager 2-062</td><td>NULL</td><td>NULL</td></tr>",
                            "<tr><td>1027</td><td>31</td><td>Materialraum</td><td>10</td><td>NULL</td></tr>",
                            "</table>"
                        ]
                    }
                }
            ],
            "execution_count": 7
        },
        {
            "cell_type": "code",
            "source": [
                "use Support_Center_DB\r\n",
                "Select * from CONFIG\r\n",
                "GO\r\n",
                "\r\n",
                "SELECT * FROM ETAGE\r\n",
                "GO\r\n",
                "\r\n",
                "SELECT* FROM ERFASSER\r\n",
                "GO\r\n",
                "\r\n",
                "SELECT * FROM FEHLERKATEGORIE\r\n",
                "GO\r\n",
                "\r\n",
                "SELECT * FROM OBJEKT\r\n",
                "GO\r\n",
                "\r\n",
                "SELECT * FROM PERSONALBEREICH\r\n",
                "GO\r\n",
                "\r\n",
                "SELECT * FROM PERSONALBEREICH_ERFASSER\r\n",
                "GO\r\n",
                "\r\n",
                "SELECT * FROM TEXT\r\n",
                "GO\r\n",
                "\r\n",
                "SELECT * FROM ZIMMER\r\n",
                "GO"
            ],
            "metadata": {
                "language": "sql",
                "azdata_cell_guid": "8206614f-7185-47c1-9177-6e01933909b8"
            },
            "outputs": [
                {
                    "output_type": "error",
                    "evalue": "Msg 208, Level 16, State 1, Line 2\r\nInvalid object name 'CONFIG'.",
                    "ename": "",
                    "traceback": []
                },
                {
                    "output_type": "error",
                    "evalue": "Msg 208, Level 16, State 1, Line 5\r\nInvalid object name 'ETAGE'.",
                    "ename": "",
                    "traceback": []
                },
                {
                    "output_type": "display_data",
                    "data": {
                        "text/html": "(2 rows affected)"
                    },
                    "metadata": {}
                },
                {
                    "output_type": "display_data",
                    "data": {
                        "text/html": "(10 rows affected)"
                    },
                    "metadata": {}
                },
                {
                    "output_type": "display_data",
                    "data": {
                        "text/html": "(2 rows affected)"
                    },
                    "metadata": {}
                },
                {
                    "output_type": "display_data",
                    "data": {
                        "text/html": "(2 rows affected)"
                    },
                    "metadata": {}
                },
                {
                    "output_type": "display_data",
                    "data": {
                        "text/html": "Total execution time: 00:00:00.107"
                    },
                    "metadata": {}
                },
                {
                    "output_type": "execute_result",
                    "metadata": {},
                    "execution_count": 5,
                    "data": {
                        "application/vnd.dataresource+json": {
                            "schema": {
                                "fields": [
                                    {
                                        "name": "ErfasserID"
                                    },
                                    {
                                        "name": "Erfasser"
                                    },
                                    {
                                        "name": "Telefon"
                                    },
                                    {
                                        "name": "Email"
                                    },
                                    {
                                        "name": "Inaktiv"
                                    }
                                ]
                            },
                            "data": [
                                {
                                    "ErfasserID": "1",
                                    "Erfasser": "Martin Muster",
                                    "Telefon": "123456",
                                    "Email": "m.muster@test.de",
                                    "Inaktiv": "0"
                                },
                                {
                                    "ErfasserID": "42",
                                    "Erfasser": "Sabine Maurer",
                                    "Telefon": "1223556",
                                    "Email": "s.mauerer@test.de",
                                    "Inaktiv": "0"
                                }
                            ]
                        },
                        "text/html": [
                            "<table>",
                            "<tr><th>ErfasserID</th><th>Erfasser</th><th>Telefon</th><th>Email</th><th>Inaktiv</th></tr>",
                            "<tr><td>1</td><td>Martin Muster</td><td>123456</td><td>m.muster@test.de</td><td>0</td></tr>",
                            "<tr><td>42</td><td>Sabine Maurer</td><td>1223556</td><td>s.mauerer@test.de</td><td>0</td></tr>",
                            "</table>"
                        ]
                    }
                },
                {
                    "output_type": "execute_result",
                    "metadata": {},
                    "execution_count": 5,
                    "data": {
                        "application/vnd.dataresource+json": {
                            "schema": {
                                "fields": [
                                    {
                                        "name": "FehlerKategorieID"
                                    },
                                    {
                                        "name": "Fehlerkategorie"
                                    }
                                ]
                            },
                            "data": [
                                {
                                    "FehlerKategorieID": "1",
                                    "Fehlerkategorie": "A EDV Erweiterung"
                                },
                                {
                                    "FehlerKategorieID": "2",
                                    "Fehlerkategorie": "B Software"
                                },
                                {
                                    "FehlerKategorieID": "3",
                                    "Fehlerkategorie": "C Hardware"
                                },
                                {
                                    "FehlerKategorieID": "4",
                                    "Fehlerkategorie": "D Anwenderfehler"
                                },
                                {
                                    "FehlerKategorieID": "5",
                                    "Fehlerkategorie": "E Anwenderfragen"
                                },
                                {
                                    "FehlerKategorieID": "6",
                                    "Fehlerkategorie": "F Netzwerk"
                                },
                                {
                                    "FehlerKategorieID": "7",
                                    "Fehlerkategorie": "G"
                                },
                                {
                                    "FehlerKategorieID": "8",
                                    "Fehlerkategorie": "H"
                                },
                                {
                                    "FehlerKategorieID": "9",
                                    "Fehlerkategorie": "I"
                                },
                                {
                                    "FehlerKategorieID": "10",
                                    "Fehlerkategorie": "J"
                                }
                            ]
                        },
                        "text/html": [
                            "<table>",
                            "<tr><th>FehlerKategorieID</th><th>Fehlerkategorie</th></tr>",
                            "<tr><td>1</td><td>A EDV Erweiterung</td></tr>",
                            "<tr><td>2</td><td>B Software</td></tr>",
                            "<tr><td>3</td><td>C Hardware</td></tr>",
                            "<tr><td>4</td><td>D Anwenderfehler</td></tr>",
                            "<tr><td>5</td><td>E Anwenderfragen</td></tr>",
                            "<tr><td>6</td><td>F Netzwerk</td></tr>",
                            "<tr><td>7</td><td>G</td></tr>",
                            "<tr><td>8</td><td>H</td></tr>",
                            "<tr><td>9</td><td>I</td></tr>",
                            "<tr><td>10</td><td>J</td></tr>",
                            "</table>"
                        ]
                    }
                },
                {
                    "output_type": "error",
                    "evalue": "Msg 208, Level 16, State 1, Line 14\r\nInvalid object name 'OBJEKT'.",
                    "ename": "",
                    "traceback": []
                },
                {
                    "output_type": "execute_result",
                    "metadata": {},
                    "execution_count": 5,
                    "data": {
                        "application/vnd.dataresource+json": {
                            "schema": {
                                "fields": [
                                    {
                                        "name": "PersBereichID"
                                    },
                                    {
                                        "name": "Personalbereich"
                                    }
                                ]
                            },
                            "data": [
                                {
                                    "PersBereichID": "1",
                                    "Personalbereich": "Pfelgebereich"
                                },
                                {
                                    "PersBereichID": "2",
                                    "Personalbereich": "Verwaltung"
                                }
                            ]
                        },
                        "text/html": [
                            "<table>",
                            "<tr><th>PersBereichID</th><th>Personalbereich</th></tr>",
                            "<tr><td>1</td><td>Pfelgebereich</td></tr>",
                            "<tr><td>2</td><td>Verwaltung</td></tr>",
                            "</table>"
                        ]
                    }
                },
                {
                    "output_type": "error",
                    "evalue": "Msg 208, Level 16, State 1, Line 20\r\nInvalid object name 'PERSONALBEREICH_ERFASSER'.",
                    "ename": "",
                    "traceback": []
                },
                {
                    "output_type": "execute_result",
                    "metadata": {},
                    "execution_count": 5,
                    "data": {
                        "application/vnd.dataresource+json": {
                            "schema": {
                                "fields": [
                                    {
                                        "name": "TextID"
                                    },
                                    {
                                        "name": "Text"
                                    },
                                    {
                                        "name": "Bemerkung"
                                    }
                                ]
                            },
                            "data": [
                                {
                                    "TextID": "1",
                                    "Text": "Sehr geehrter Nutzer, \nvielen Dank für die Anfrage. Anbei teilen wir Ihnen mit, dass wir Ihre Supportanfrage bearbeitet haben. \n\nWir bedanken uns und verbleiben..\n\nMit freundlichen Grüßen\n\n\nIhr Service Team (Fa. DIABIT)",
                                    "Bemerkung": "Rückmeldung / Erledigung"
                                },
                                {
                                    "TextID": "2",
                                    "Text": "Sehr geehrter Nutzer, \nwir haben Ihre Supportanfrage erhalten und bearbeiten diese bereits. \n\nWir geben Ihnen umgehend Bescheid, so wie die Anfrage geschlossen wird.\n\nBesten Dank und freundliche Grüße\n\n\nIhr Support Team (Fa. DIABIT) ",
                                    "Bemerkung": "Rückmeldung / in Arbeit"
                                }
                            ]
                        },
                        "text/html": [
                            "<table>",
                            "<tr><th>TextID</th><th>Text</th><th>Bemerkung</th></tr>",
                            "<tr><td>1</td><td>Sehr geehrter Nutzer, \nvielen Dank für die Anfrage. Anbei teilen wir Ihnen mit, dass wir Ihre Supportanfrage bearbeitet haben. \n\nWir bedanken uns und verbleiben..\n\nMit freundlichen Grüßen\n\n\nIhr Service Team (Fa. DIABIT)</td><td>Rückmeldung / Erledigung</td></tr>",
                            "<tr><td>2</td><td>Sehr geehrter Nutzer, \nwir haben Ihre Supportanfrage erhalten und bearbeiten diese bereits. \n\nWir geben Ihnen umgehend Bescheid, so wie die Anfrage geschlossen wird.\n\nBesten Dank und freundliche Grüße\n\n\nIhr Support Team (Fa. DIABIT) </td><td>Rückmeldung / in Arbeit</td></tr>",
                            "</table>"
                        ]
                    }
                },
                {
                    "output_type": "error",
                    "evalue": "Msg 208, Level 16, State 1, Line 26\r\nInvalid object name 'ZIMMER'.",
                    "ename": "",
                    "traceback": []
                }
            ],
            "execution_count": 5
        },
        {
            "cell_type": "code",
            "source": [
                "use Hauswirtschaft_Center_DB\r\n",
                "Select * from CONFIG\r\n",
                "GO\r\n",
                "\r\n",
                "SELECT * FROM ETAGE\r\n",
                "GO\r\n",
                "\r\n",
                "SELECT* FROM ERFASSER\r\n",
                "GO\r\n",
                "\r\n",
                "SELECT * FROM FEHLERKATEGORIE\r\n",
                "GO\r\n",
                "\r\n",
                "SELECT * FROM OBJEKT\r\n",
                "GO\r\n",
                "\r\n",
                "SELECT * FROM PERSONALBEREICH\r\n",
                "GO\r\n",
                "\r\n",
                "SELECT * FROM PERSONALBEREICH_ERFASSER\r\n",
                "GO\r\n",
                "\r\n",
                "SELECT * FROM TEXT\r\n",
                "GO\r\n",
                "\r\n",
                "SELECT * FROM ZIMMER\r\n",
                "GO"
            ],
            "metadata": {
                "language": "sql",
                "azdata_cell_guid": "372c4d13-a814-43cf-a4ca-342f51989092",
                "tags": [
                    "hide_input"
                ]
            },
            "outputs": [
                {
                    "output_type": "display_data",
                    "data": {
                        "text/html": "(0 rows affected)"
                    },
                    "metadata": {}
                },
                {
                    "output_type": "display_data",
                    "data": {
                        "text/html": "(0 rows affected)"
                    },
                    "metadata": {}
                },
                {
                    "output_type": "display_data",
                    "data": {
                        "text/html": "(0 rows affected)"
                    },
                    "metadata": {}
                },
                {
                    "output_type": "display_data",
                    "data": {
                        "text/html": "(0 rows affected)"
                    },
                    "metadata": {}
                },
                {
                    "output_type": "display_data",
                    "data": {
                        "text/html": "(0 rows affected)"
                    },
                    "metadata": {}
                },
                {
                    "output_type": "display_data",
                    "data": {
                        "text/html": "(0 rows affected)"
                    },
                    "metadata": {}
                },
                {
                    "output_type": "display_data",
                    "data": {
                        "text/html": "(0 rows affected)"
                    },
                    "metadata": {}
                },
                {
                    "output_type": "display_data",
                    "data": {
                        "text/html": "(0 rows affected)"
                    },
                    "metadata": {}
                },
                {
                    "output_type": "display_data",
                    "data": {
                        "text/html": "Total execution time: 00:00:00.042"
                    },
                    "metadata": {}
                },
                {
                    "output_type": "execute_result",
                    "metadata": {},
                    "execution_count": 4,
                    "data": {
                        "application/vnd.dataresource+json": {
                            "schema": {
                                "fields": [
                                    {
                                        "name": "ID"
                                    },
                                    {
                                        "name": "HausPflichtAktiv"
                                    }
                                ]
                            },
                            "data": []
                        },
                        "text/html": [
                            "<table>",
                            "<tr><th>ID</th><th>HausPflichtAktiv</th></tr>",
                            "</table>"
                        ]
                    }
                },
                {
                    "output_type": "execute_result",
                    "metadata": {},
                    "execution_count": 4,
                    "data": {
                        "application/vnd.dataresource+json": {
                            "schema": {
                                "fields": [
                                    {
                                        "name": "EtagenID"
                                    },
                                    {
                                        "name": "ObjektID"
                                    },
                                    {
                                        "name": "EtagenName"
                                    }
                                ]
                            },
                            "data": []
                        },
                        "text/html": [
                            "<table>",
                            "<tr><th>EtagenID</th><th>ObjektID</th><th>EtagenName</th></tr>",
                            "</table>"
                        ]
                    }
                },
                {
                    "output_type": "execute_result",
                    "metadata": {},
                    "execution_count": 4,
                    "data": {
                        "application/vnd.dataresource+json": {
                            "schema": {
                                "fields": [
                                    {
                                        "name": "ErfasserID"
                                    },
                                    {
                                        "name": "Erfasser"
                                    },
                                    {
                                        "name": "Telefon"
                                    },
                                    {
                                        "name": "Email"
                                    },
                                    {
                                        "name": "Inaktiv"
                                    },
                                    {
                                        "name": "DomUser"
                                    },
                                    {
                                        "name": "RollenID"
                                    },
                                    {
                                        "name": "Del"
                                    },
                                    {
                                        "name": "DelDate"
                                    }
                                ]
                            },
                            "data": []
                        },
                        "text/html": [
                            "<table>",
                            "<tr><th>ErfasserID</th><th>Erfasser</th><th>Telefon</th><th>Email</th><th>Inaktiv</th><th>DomUser</th><th>RollenID</th><th>Del</th><th>DelDate</th></tr>",
                            "</table>"
                        ]
                    }
                },
                {
                    "output_type": "execute_result",
                    "metadata": {},
                    "execution_count": 4,
                    "data": {
                        "application/vnd.dataresource+json": {
                            "schema": {
                                "fields": [
                                    {
                                        "name": "FehlerKategorieID"
                                    },
                                    {
                                        "name": "Fehlerkategorie"
                                    }
                                ]
                            },
                            "data": []
                        },
                        "text/html": [
                            "<table>",
                            "<tr><th>FehlerKategorieID</th><th>Fehlerkategorie</th></tr>",
                            "</table>"
                        ]
                    }
                },
                {
                    "output_type": "execute_result",
                    "metadata": {},
                    "execution_count": 4,
                    "data": {
                        "application/vnd.dataresource+json": {
                            "schema": {
                                "fields": [
                                    {
                                        "name": "ObjektID"
                                    },
                                    {
                                        "name": "ObjektName"
                                    }
                                ]
                            },
                            "data": []
                        },
                        "text/html": [
                            "<table>",
                            "<tr><th>ObjektID</th><th>ObjektName</th></tr>",
                            "</table>"
                        ]
                    }
                },
                {
                    "output_type": "execute_result",
                    "metadata": {},
                    "execution_count": 4,
                    "data": {
                        "application/vnd.dataresource+json": {
                            "schema": {
                                "fields": [
                                    {
                                        "name": "PersBereichID"
                                    },
                                    {
                                        "name": "Personalbereich"
                                    }
                                ]
                            },
                            "data": []
                        },
                        "text/html": [
                            "<table>",
                            "<tr><th>PersBereichID</th><th>Personalbereich</th></tr>",
                            "</table>"
                        ]
                    }
                },
                {
                    "output_type": "error",
                    "evalue": "Msg 208, Level 16, State 1, Line 20\r\nInvalid object name 'PERSONALBEREICH_ERFASSER'.",
                    "ename": "",
                    "traceback": []
                },
                {
                    "output_type": "execute_result",
                    "metadata": {},
                    "execution_count": 4,
                    "data": {
                        "application/vnd.dataresource+json": {
                            "schema": {
                                "fields": [
                                    {
                                        "name": "TextID"
                                    },
                                    {
                                        "name": "Text"
                                    },
                                    {
                                        "name": "Bemerkung"
                                    }
                                ]
                            },
                            "data": []
                        },
                        "text/html": [
                            "<table>",
                            "<tr><th>TextID</th><th>Text</th><th>Bemerkung</th></tr>",
                            "</table>"
                        ]
                    }
                },
                {
                    "output_type": "execute_result",
                    "metadata": {},
                    "execution_count": 4,
                    "data": {
                        "application/vnd.dataresource+json": {
                            "schema": {
                                "fields": [
                                    {
                                        "name": "ZimmerID"
                                    },
                                    {
                                        "name": "EtagenID"
                                    },
                                    {
                                        "name": "Zimmer"
                                    },
                                    {
                                        "name": "ZimmerNr"
                                    },
                                    {
                                        "name": "ZimmerNrText"
                                    }
                                ]
                            },
                            "data": []
                        },
                        "text/html": [
                            "<table>",
                            "<tr><th>ZimmerID</th><th>EtagenID</th><th>Zimmer</th><th>ZimmerNr</th><th>ZimmerNrText</th></tr>",
                            "</table>"
                        ]
                    }
                }
            ],
            "execution_count": 4
        }
    ]
}